{
 "cells": [
  {
   "cell_type": "code",
   "execution_count": 1,
   "metadata": {},
   "outputs": [],
   "source": [
    "using JuMP\n",
    "using HiGHS\n",
    "import Random \n",
    "using Plots "
   ]
  },
  {
   "cell_type": "code",
   "execution_count": 2,
   "metadata": {},
   "outputs": [
    {
     "data": {
      "text/plain": [
       "score_numeric (generic function with 1 method)"
      ]
     },
     "metadata": {},
     "output_type": "display_data"
    }
   ],
   "source": [
    "rng = Random.MersenneTwister(1234);\n",
    "\n",
    "## One fake house which everyone hates to reflect an empty allocation  \n",
    "function generate_prefs(n,h)\n",
    "    prefs = zeros(h+1, n)\n",
    "    for i=1:n \n",
    "        prefs[1:h, i] = Random.shuffle(rng, 1:h)\n",
    "    end \n",
    "    prefs[h+1, :] .= h+1 \n",
    "    return prefs \n",
    "end \n",
    "\n",
    "\n",
    "function generate_caps(h, m_cap)\n",
    "    caps = zeros(h+1)\n",
    "    caps[1:h] = rand(1:m_cap, h) \n",
    "    caps[h+1] = Inf \n",
    "    return caps \n",
    "end \n",
    "\n",
    "\n",
    "function lottery_round_house!(prefs, all, house, cap, used)\n",
    "    n = size(prefs)[2]\n",
    "    n_changed = 0 \n",
    "    lottery = []\n",
    "    for pp=1:n\n",
    "        h = all[pp]\n",
    "        #my_score = findfirst( prefs[:, pp] .== h )\n",
    "        #upgrade =  findfirst( prefs[:, pp] .== house)\n",
    "        my_score = prefs[h, pp] \n",
    "        upgrade = prefs[house, pp]\n",
    "        if my_score > upgrade \n",
    "            push!(lottery, pp) \n",
    "        end \n",
    "    end \n",
    "    Random.shuffle!(lottery)\n",
    "    while used[house] < cap[house] && length(lottery) > 0 \n",
    "        lucky = pop!(lottery) \n",
    "        old = all[lucky]\n",
    "        used[old] -= 1\n",
    "        all[lucky] = house \n",
    "        used[house] += 1 \n",
    "        n_changed += 1 \n",
    "    end \n",
    "    return n_changed \n",
    "end \n",
    "\n",
    "function lottery_round!(prefs, all, cap, used)\n",
    "    n_changed = 0 \n",
    "    n_houses = size(prefs)[1]\n",
    "    for h=1:n_houses\n",
    "        n_changed += lottery_round_house!(prefs, all, h, cap, used)\n",
    "    end \n",
    "    return n_changed\n",
    "end \n",
    "\n",
    "function lottery!(prefs, all, cap, used)\n",
    "    n_changed = 1 \n",
    "    total = 0 \n",
    "\n",
    "    while n_changed != 0 \n",
    "        n_changed = lottery_round!(prefs, all, cap, used)\n",
    "        total += 1\n",
    "    end \n",
    "    return total\n",
    "end \n",
    "\n",
    "\n",
    "function score(prefs, all)\n",
    "    total = 0 \n",
    "    for i=1:n \n",
    "        total += prefs[all[i], i] \n",
    "    end \n",
    "    return total \n",
    "end \n",
    "\n",
    "function score_numeric(prefs_num, prefs, all) \n",
    "    total = 0 \n",
    "    n = size(prefs)[2]\n",
    "    \n",
    "    for i=1:n \n",
    "        place =  findfirst( prefs[:, i] .== all[i]) \n",
    "        total += prefs_num[place, i]\n",
    "    end  \n",
    "    return total \n",
    "end    \n",
    "\n",
    "\n",
    "\n"
   ]
  },
  {
   "cell_type": "code",
   "execution_count": 5,
   "metadata": {},
   "outputs": [
    {
     "data": {
      "text/plain": [
       "1"
      ]
     },
     "metadata": {},
     "output_type": "display_data"
    }
   ],
   "source": [
    "n = 1000\n",
    "houses = 100\n",
    "prefs = generate_prefs(n, houses)\n",
    "caps = generate_caps(houses, 30)\n",
    "all = (houses + 1) * ones(Int32, n)\n",
    "used = zeros(houses+1)\n",
    "used[houses+1] = n  \n",
    "\n",
    "\n",
    "util = zeros(houses)\n",
    "usage = zeros(houses)\n",
    "orig_caps = copy(caps)\n",
    "all_placed = zeros(houses)\n",
    "n_rounds = 1 "
   ]
  },
  {
   "cell_type": "code",
   "execution_count": 111,
   "metadata": {},
   "outputs": [],
   "source": [
    "\n",
    "for i=1:100\n",
    "    caps[1:i] .= 0 \n",
    "    for k=1:n_rounds\n",
    "        lottery!(prefs, all, caps, used)\n",
    "        util[i] = score_numeric(prefs_num, prefs, all)/n  \n",
    "        usage[i] = length(filter(n -> n != houses+1, all)) /  sum(caps[1:houses])\n",
    "        all_placed[i] = 1  - any( all .== houses+1  )\n",
    "        caps[1:5] = orig_caps[1:5] \n",
    "        #lottery!(prefs, all, caps, used)\n",
    "        #util[i] += score_numeric(prefs_num, prefs, all)/n \n",
    "        global caps = copy(orig_caps)\n",
    "        all .= (houses + 1) \n",
    "        used .= 0 \n",
    "        used[houses+1] = n \n",
    "    end \n",
    "    util[i] /= n_rounds\n",
    "end \n",
    "\n"
   ]
  },
  {
   "cell_type": "code",
   "execution_count": 123,
   "metadata": {},
   "outputs": [
    {
     "data": {
      "text/plain": [
       "1001×10000 Matrix{Float64}:\n",
       "  461.0   719.0   435.0   772.0    93.0  …   534.0     1.0   766.0   430.0\n",
       "  142.0   620.0   766.0   648.0   784.0        1.0    52.0   465.0   202.0\n",
       "  812.0    51.0   878.0   844.0   309.0      472.0   282.0   155.0   668.0\n",
       "  155.0   609.0   158.0   164.0   344.0       39.0    88.0   150.0   624.0\n",
       "  819.0   767.0   650.0   719.0   467.0      994.0   493.0   680.0   284.0\n",
       "   56.0   311.0    45.0   174.0   308.0  …   504.0    96.0   223.0   609.0\n",
       "  986.0   876.0   769.0   707.0   187.0      787.0   537.0   895.0   205.0\n",
       "  647.0   457.0   662.0   599.0   639.0      547.0   112.0   672.0   385.0\n",
       "  531.0   371.0   813.0   686.0   737.0      263.0   676.0   185.0   994.0\n",
       "  331.0   745.0   277.0   352.0   617.0      570.0   637.0    63.0   420.0\n",
       "    ⋮                                    ⋱                          \n",
       "  768.0   934.0   856.0   198.0   291.0      606.0   295.0   503.0    74.0\n",
       "  975.0   455.0   356.0   786.0    76.0      566.0   968.0   111.0   219.0\n",
       "  163.0   914.0   540.0   855.0   393.0      370.0   536.0   738.0   472.0\n",
       "  459.0   733.0   896.0   765.0   887.0  …   479.0   467.0   195.0   748.0\n",
       "  783.0   572.0   488.0   401.0   957.0      873.0   623.0   839.0   828.0\n",
       "  287.0   703.0   345.0    64.0   656.0      482.0   696.0   732.0   363.0\n",
       "  529.0    58.0   754.0   338.0   977.0      608.0   363.0   715.0   161.0\n",
       "  994.0   263.0    28.0   200.0    78.0      651.0   386.0   219.0   965.0\n",
       " 1001.0  1001.0  1001.0  1001.0  1001.0  …  1001.0  1001.0  1001.0  1001.0"
      ]
     },
     "metadata": {},
     "output_type": "display_data"
    }
   ],
   "source": [
    "prefs"
   ]
  },
  {
   "cell_type": "code",
   "execution_count": 124,
   "metadata": {},
   "outputs": [
    {
     "name": "stdout",
     "output_type": "stream",
     "text": []
    }
   ],
   "source": [
    "plot(1:100, util, label=\"Marginal utility of 5 units\")\n",
    "plot!(twinx(), usage, color=\"red\", label=\"usage rate\")\n",
    "\n",
    "title!(\"Housing capacity vs Utility(Pop=1000)\")\n",
    "xlabel!(\"Housing Supply\")\n",
    "ylabel!(\"Average Utility\")\n"
   ]
  },
  {
   "cell_type": "code",
   "execution_count": 33,
   "metadata": {},
   "outputs": [],
   "source": [
    "model = Model(HiGHS.Optimizer)\n",
    "all2 = zeros(houses+1, n )\n",
    "@variable(model, all2[1:houses+1, 1:n], Bin)\n",
    "#@variable(model, 0 <= all2[1:houses+1, 1:n] <= 1)\n",
    "@objective(model, Min, sum( all2 .* prefs)  )\n",
    "for i=1:n\n",
    "    @constraint(model,  sum(all2[1:houses+1, i]) == 1)\n",
    "end \n",
    "for i=1:n \n",
    "    @constraint(model, all2[1:houses, i]' * prefs[1:houses, i] <= prefs[all[i], i] )\n",
    "end \n",
    "for j=1:houses\n",
    "    @constraint(model,  sum(all2[j, 1:n]) <= caps[j] )\n",
    "end \n"
   ]
  },
  {
   "cell_type": "code",
   "execution_count": 34,
   "metadata": {},
   "outputs": [
    {
     "data": {
      "text/plain": [
       "A JuMP Model\n",
       "Minimization problem with:\n",
       "Variables: 101000\n",
       "Objective function type: AffExpr\n",
       "`AffExpr`-in-`MathOptInterface.EqualTo{Float64}`: 1000 constraints\n",
       "`AffExpr`-in-`MathOptInterface.LessThan{Float64}`: 1100 constraints\n",
       "`VariableRef`-in-`MathOptInterface.ZeroOne`: 101000 constraints\n",
       "Model mode: AUTOMATIC\n",
       "CachingOptimizer state: EMPTY_OPTIMIZER\n",
       "Solver name: HiGHS\n",
       "Names registered in the model: all2"
      ]
     },
     "metadata": {},
     "output_type": "display_data"
    }
   ],
   "source": [
    "display(model)"
   ]
  },
  {
   "cell_type": "code",
   "execution_count": 35,
   "metadata": {},
   "outputs": [
    {
     "name": "stdout",
     "output_type": "stream",
     "text": [
      "Running HiGHS 1.3.0 [date: 1970-01-01, git hash: e5004072b-dirty]\n",
      "Copyright (c) 2022 ERGO-Code under MIT licence terms\n",
      "Presolving model\n",
      "2082 rows, 47516 cols, 140566 nonzeros\n",
      "2043 rows, 47512 cols, 140502 nonzeros\n",
      "Objective function is integral with scale 1\n",
      "\n",
      "Solving MIP model with:\n",
      "   2043 rows\n",
      "   47512 cols (47508 binary, 4 integer, 0 implied int., 0 continuous)\n",
      "   140502 nonzeros\n",
      "\n",
      "        Nodes      |    B&B Tree     |            Objective Bounds              |  Dynamic Constraints |       Work      \n",
      "     Proc. InQueue |  Leaves   Expl. | BestBound       BestSol              Gap |   Cuts   InLp Confl. | LpIters     Time\n",
      "\n",
      "         0       0         0   0.00%   18              inf                  inf        0      0      0         0     0.5s\n",
      " T       0       0         0   0.00%   18              1151              98.44%        0      0      0      1060     0.6s\n",
      "\n",
      "Solving report\n",
      "  Status            Optimal\n",
      "  Primal bound      1151\n",
      "  Dual bound        1151\n",
      "  Gap               0% (tolerance: 0.01%)\n",
      "  Solution status   feasible\n",
      "                    1151 (objective)\n",
      "                    0 (bound viol.)\n",
      "                    0 (int. viol.)\n",
      "                    0 (row viol.)\n",
      "  Timing            0.55 (total)\n",
      "                    0.43 (presolve)\n",
      "                    0.00 (postsolve)\n",
      "  Nodes             1\n",
      "  LP iterations     1060 (total)\n",
      "                    0 (strong br.)\n",
      "                    0 (separation)\n",
      "                    0 (heuristics)\n"
     ]
    }
   ],
   "source": [
    "optimize!(model)"
   ]
  },
  {
   "cell_type": "code",
   "execution_count": 6,
   "metadata": {},
   "outputs": [
    {
     "data": {
      "text/plain": [
       "46709.0"
      ]
     },
     "metadata": {},
     "output_type": "display_data"
    }
   ],
   "source": [
    "all .= houses+1\n",
    "used .= 0\n",
    "caps[50:houses] .= 0 \n",
    "lottery!(prefs, all, caps, used)\n",
    "score(prefs, all)"
   ]
  },
  {
   "cell_type": "code",
   "execution_count": 7,
   "metadata": {},
   "outputs": [
    {
     "data": {
      "text/plain": [
       "46.709"
      ]
     },
     "metadata": {},
     "output_type": "display_data"
    }
   ],
   "source": [
    "score(prefs,all)/n"
   ]
  },
  {
   "cell_type": "code",
   "execution_count": 8,
   "metadata": {},
   "outputs": [
    {
     "data": {
      "text/plain": [
       "101-element Vector{Float64}:\n",
       " 27.0\n",
       " 11.0\n",
       " 28.0\n",
       "  3.0\n",
       "  5.0\n",
       " 17.0\n",
       " 14.0\n",
       " 25.0\n",
       "  7.0\n",
       " 27.0\n",
       "  ⋮\n",
       " 12.0\n",
       " 22.0\n",
       " 11.0\n",
       " 20.0\n",
       " 29.0\n",
       "  7.0\n",
       " 15.0\n",
       " 17.0\n",
       " Inf"
      ]
     },
     "metadata": {},
     "output_type": "display_data"
    }
   ],
   "source": [
    "caps .= orig_caps \n"
   ]
  },
  {
   "cell_type": "code",
   "execution_count": 24,
   "metadata": {},
   "outputs": [
    {
     "data": {
      "text/plain": [
       "1.0"
      ]
     },
     "metadata": {},
     "output_type": "display_data"
    }
   ],
   "source": [
    "value.(all2[1:houses, 1])' * prefs[1:houses, 1]"
   ]
  },
  {
   "cell_type": "code",
   "execution_count": 32,
   "metadata": {},
   "outputs": [
    {
     "data": {
      "text/plain": [
       "101.0"
      ]
     },
     "metadata": {},
     "output_type": "display_data"
    }
   ],
   "source": [
    "prefs[all[2],2]"
   ]
  },
  {
   "cell_type": "code",
   "execution_count": null,
   "metadata": {},
   "outputs": [],
   "source": []
  }
 ],
 "metadata": {
  "kernelspec": {
   "display_name": "Julia 1.8.5",
   "language": "julia",
   "name": "julia-1.8"
  },
  "language_info": {
   "file_extension": ".jl",
   "mimetype": "application/julia",
   "name": "julia",
   "version": "1.8.5"
  },
  "orig_nbformat": 4
 },
 "nbformat": 4,
 "nbformat_minor": 2
}
