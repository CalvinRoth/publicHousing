{
 "cells": [
  {
   "cell_type": "code",
   "execution_count": 1,
   "metadata": {},
   "outputs": [],
   "source": [
    "using JuMP\n",
    "using HiGHS\n",
    "import Random \n",
    "using Plots "
   ]
  },
  {
   "cell_type": "code",
   "execution_count": 12,
   "metadata": {},
   "outputs": [
    {
     "data": {
      "text/plain": [
       "2-element Vector{Int64}:\n",
       " 1\n",
       " 2"
      ]
     },
     "metadata": {},
     "output_type": "display_data"
    }
   ],
   "source": [
    "x = [1,2,3]\n",
    "x[1:2]"
   ]
  },
  {
   "cell_type": "code",
   "execution_count": 13,
   "metadata": {},
   "outputs": [
    {
     "data": {
      "text/plain": [
       "score_numeric (generic function with 1 method)"
      ]
     },
     "metadata": {},
     "output_type": "display_data"
    }
   ],
   "source": [
    "rng = Random.MersenneTwister(1234);\n",
    "\n",
    "## One fake house which everyone hates to reflect an empty allocation  \n",
    "function generate_prefs(n,h)\n",
    "    prefs = zeros(h+1, n)\n",
    "    for i=1:n \n",
    "        prefs[1:h, i] = Random.shuffle(rng, 1:h)\n",
    "    end \n",
    "    prefs[h+1, :] .= h+1 \n",
    "    return prefs \n",
    "end \n",
    "\n",
    "\n",
    "function generate_caps(h, m_cap)\n",
    "    caps = zeros(h+1)\n",
    "    caps[1:h] = rand(1:m_cap, h) \n",
    "    caps[h+1] = Inf \n",
    "    return caps \n",
    "end \n",
    "\n",
    "function limited_lot_house!(prefs, all, house, cap, used, k) \n",
    "    n = size(prefs)[2]\n",
    "    n_changed = 0 \n",
    "    lottery = []\n",
    "    for pp=1:n\n",
    "        h = all[pp]\n",
    "        my_score = prefs[h, pp] \n",
    "        upgrade = prefs[house, pp]\n",
    "        if upgrade < k && upgrade < my_score \n",
    "            push!(lottery, pp) \n",
    "        end \n",
    "    end \n",
    "    Random.shuffle!(lottery)\n",
    "    while used[house] < cap[house] && length(lottery) > 0 \n",
    "        lucky = pop!(lottery) \n",
    "        old = all[lucky]\n",
    "        used[old] -= 1\n",
    "        all[lucky] = house \n",
    "        used[house] += 1 \n",
    "        n_changed += 1 \n",
    "    end \n",
    "    return n_changed \n",
    "end \n",
    "\n",
    "function limited_lottery_round!(prefs, all, cap, used,k)\n",
    "    n_changed = 0 \n",
    "    n_houses = size(prefs)[1]\n",
    "    for h=1:n_houses\n",
    "        if used[h] == cap[h] \n",
    "            continue\n",
    "        end \n",
    "        n_changed += limited_lot_house!(prefs, all, h, cap, used,k)\n",
    "    end \n",
    "    return n_changed\n",
    "end \n",
    "\n",
    "function limited_lottery!(prefs, all, cap, used,k)\n",
    "    n_changed = 1 \n",
    "    total = 0 \n",
    "\n",
    "    while n_changed != 0 \n",
    "        n_changed = limited_lottery_round!(prefs, all, cap, used,k)\n",
    "        total += 1\n",
    "    end \n",
    "    return total\n",
    "end \n",
    "\n",
    "function lottery_round_house!(prefs, all, house, cap, used)\n",
    "    n = size(prefs)[2]\n",
    "    n_changed = 0 \n",
    "    lottery = []\n",
    "    for pp=1:n\n",
    "        h = all[pp]\n",
    "        #my_score = findfirst( prefs[:, pp] .== h )\n",
    "        #upgrade =  findfirst( prefs[:, pp] .== house)\n",
    "        my_score = prefs[h, pp] \n",
    "        upgrade = prefs[house, pp]\n",
    "        if my_score > upgrade \n",
    "            push!(lottery, pp) \n",
    "        end \n",
    "    end \n",
    "    Random.shuffle!(lottery)\n",
    "    while used[house] < cap[house] && length(lottery) > 0 \n",
    "        lucky = pop!(lottery) \n",
    "        old = all[lucky]\n",
    "        used[old] -= 1\n",
    "        all[lucky] = house \n",
    "        used[house] += 1 \n",
    "        n_changed += 1 \n",
    "    end \n",
    "    return n_changed \n",
    "end \n",
    "\n",
    "function lottery_round!(prefs, all, cap, used)\n",
    "    n_changed = 0 \n",
    "    n_houses = size(prefs)[1]\n",
    "    for h=1:n_houses\n",
    "        if used[h] == cap[h] \n",
    "            continue\n",
    "        end \n",
    "        n_changed += lottery_round_house!(prefs, all, h, cap, used)\n",
    "    end \n",
    "    return n_changed\n",
    "end \n",
    "\n",
    "function lottery!(prefs, all, cap, used)\n",
    "    n_changed = 1 \n",
    "    total = 0 \n",
    "\n",
    "    while n_changed != 0 \n",
    "        n_changed = lottery_round!(prefs, all, cap, used)\n",
    "        total += 1\n",
    "    end \n",
    "    return total\n",
    "end \n",
    "\n",
    "\n",
    "\n",
    "function score(prefs, all)\n",
    "    total = 0 \n",
    "    for i=1:n \n",
    "        total += prefs[all[i], i] \n",
    "    end \n",
    "    return total \n",
    "end \n",
    "\n",
    "function score_numeric(prefs_num, prefs, all) \n",
    "    total = 0 \n",
    "    n = size(prefs)[2]\n",
    "    \n",
    "    for i=1:n \n",
    "        place =  findfirst( prefs[:, i] .== all[i]) \n",
    "        total += prefs_num[place, i]\n",
    "    end  \n",
    "    return total \n",
    "end    \n",
    "\n",
    "\n",
    "\n"
   ]
  },
  {
   "cell_type": "code",
   "execution_count": 18,
   "metadata": {},
   "outputs": [],
   "source": [
    "function rand_all!(allo, cap)\n",
    "    n = length(allo) \n",
    "    h = length(cap) \n",
    "    head = 1 \n",
    "    for j=1:h \n",
    "       used = 0 \n",
    "       while head < n && used < cap[j]\n",
    "            allo[head] = j \n",
    "            head += 1 \n",
    "            used += 1\n",
    "       end \n",
    "    end  \n",
    "end\n",
    "rand_all!(allo, caps)"
   ]
  },
  {
   "cell_type": "code",
   "execution_count": 17,
   "metadata": {},
   "outputs": [
    {
     "data": {
      "text/plain": [
       "1"
      ]
     },
     "metadata": {},
     "output_type": "display_data"
    }
   ],
   "source": [
    "n = 5000\n",
    "houses = 200\n",
    "prefs = generate_prefs(n, houses)\n",
    "#caps = generate_caps(houses, 30)\n",
    "caps = ones(houses+1)\n",
    "caps[1:houses] .= 30\n",
    "caps[houses+1] = Inf \n",
    "allo = (houses + 1) * ones(Int32, n)\n",
    "used[houses+1] = n  \n",
    "\n",
    "\n",
    "usage = zeros(houses)\n",
    "orig_caps = copy(caps)\n",
    "\n",
    "n_rounds = 1 "
   ]
  },
  {
   "cell_type": "code",
   "execution_count": 21,
   "metadata": {},
   "outputs": [
    {
     "data": {
      "text/plain": [
       "reset! (generic function with 1 method)"
      ]
     },
     "metadata": {},
     "output_type": "display_data"
    }
   ],
   "source": [
    "function reset!(allo, used, caps, n, houses)\n",
    "    allo .= (houses +1)\n",
    "    used .= 0 \n",
    "    used[houses+1] = 1 \n",
    "end "
   ]
  },
  {
   "cell_type": "code",
   "execution_count": 24,
   "metadata": {},
   "outputs": [
    {
     "data": {
      "text/plain": [
       "1"
      ]
     },
     "metadata": {},
     "output_type": "display_data"
    }
   ],
   "source": [
    "reset!(allo, used, caps, n, houses)"
   ]
  },
  {
   "cell_type": "code",
   "execution_count": 25,
   "metadata": {},
   "outputs": [],
   "source": [
    "util = zeros(houses)\n",
    "util2 = zeros(houses)\n",
    "util5p = zeros(houses)\n",
    "utilrand = zeros(houses)\n",
    "usage = zeros(houses)\n",
    "used = zeros(houses+1)\n",
    "\n",
    "reset!(allo, used, caps, n, houses)\n",
    "for i=1:200\n",
    "    caps[1:i] .= 0 \n",
    "    for k=1:n_rounds\n",
    "        lottery!(prefs, allo, caps, used)\n",
    "        util[i] = score(prefs, allo)/n\n",
    "        reset!(allo, used, caps, n, houses)\n",
    "        caps[1:i] .= 0 \n",
    "        limited_lottery!(prefs, allo, caps, used, houses/2) \n",
    "        util2[i] = score(prefs, allo)/n\n",
    "        usage[i] = (sum(used[1:houses]))/n \n",
    "        reset!(allo, used, caps, n, houses)\n",
    "        caps[1:i] .= 0 \n",
    "        rand_all!(allo, caps)\n",
    "        utilrand[i] = score(prefs, allo)/n\n",
    "        reset!(allo, used, caps, n, houses) \n",
    "        global caps = copy(orig_caps)\n",
    "\n",
    "    end \n",
    "    \n",
    "end \n",
    "\n"
   ]
  },
  {
   "cell_type": "code",
   "execution_count": 26,
   "metadata": {},
   "outputs": [
    {
     "data": {
      "image/png": "[encoded data removed]",
      "image/svg+xml": [
       "<?xml version=\"1.0\" encoding=\"utf-8\"?>\n",
       "<svg xmlns=\"http://www.w3.org/2000/svg\" xmlns:xlink=\"http://www.w3.org/1999/xlink\" width=\"600\" height=\"400\" viewBox=\"0 0 2400 1600\">\n",
       "<defs>\n",
       "  <clipPath id=\"clip760\">\n",
       "    <rect x=\"0\" y=\"0\" width=\"2400\" height=\"1600\"/>\n",
       "  </clipPath>\n",
       "</defs>\n",
       "<path clip-path=\"url(#clip760)\" d=\"\n",
       "M0 1600 L2400 1600 L2400 0 L0 0  Z\n",
       "  \" fill=\"#ffffff\" fill-rule=\"evenodd\" fill-opacity=\"1\"/>\n",
       "<defs>\n",
       "  <clipPath id=\"clip761\">\n",
       "    <rect x=\"480\" y=\"0\" width=\"1681\" height=\"1600\"/>\n",
       "  </clipPath>\n",
       "</defs>\n",
       "<path clip-path=\"url(#clip760)\" d=\"\n",
       "M234.125 1423.18 L2352.76 1423.18 L2352.76 123.472 L234.125 123.472  Z\n",
       "  \" fill=\"#ffffff\" fill-rule=\"evenodd\" fill-opacity=\"1\"/>\n",
       "<defs>\n",
       "  <clipPath id=\"clip762\">\n",
       "    <rect x=\"234\" y=\"123\" width=\"2120\" height=\"1301\"/>\n",
       "  </clipPath>\n",
       "</defs>\n",
       "<polyline clip-path=\"url(#clip762)\" style=\"stroke:#000000; stroke-linecap:round; stroke-linejoin:round; stroke-width:2; stroke-opacity:0.1; fill:none\" points=\"\n",
       "  294.087,1423.18 294.087,123.472 \n",
       "  \"/>\n",
       "<polyline clip-path=\"url(#clip762)\" style=\"stroke:#000000; stroke-linecap:round; stroke-linejoin:round; stroke-width:2; stroke-opacity:0.1; fill:none\" points=\"\n",
       "  796.275,1423.18 796.275,123.472 \n",
       "  \"/>\n",
       "<polyline clip-path=\"url(#clip762)\" style=\"stroke:#000000; stroke-linecap:round; stroke-linejoin:round; stroke-width:2; stroke-opacity:0.1; fill:none\" points=\"\n",
       "  1298.46,1423.18 1298.46,123.472 \n",
       "  \"/>\n",
       "<polyline clip-path=\"url(#clip762)\" style=\"stroke:#000000; stroke-linecap:round; stroke-linejoin:round; stroke-width:2; stroke-opacity:0.1; fill:none\" points=\"\n",
       "  1800.65,1423.18 1800.65,123.472 \n",
       "  \"/>\n",
       "<polyline clip-path=\"url(#clip762)\" style=\"stroke:#000000; stroke-linecap:round; stroke-linejoin:round; stroke-width:2; stroke-opacity:0.1; fill:none\" points=\"\n",
       "  2302.84,1423.18 2302.84,123.472 \n",
       "  \"/>\n",
       "<polyline clip-path=\"url(#clip760)\" style=\"stroke:#000000; stroke-linecap:round; stroke-linejoin:round; stroke-width:4; stroke-opacity:1; fill:none\" points=\"\n",
       "  234.125,1423.18 2352.76,1423.18 \n",
       "  \"/>\n",
       "<polyline clip-path=\"url(#clip760)\" style=\"stroke:#000000; stroke-linecap:round; stroke-linejoin:round; stroke-width:4; stroke-opacity:1; fill:none\" points=\"\n",
       "  294.087,1423.18 294.087,1404.28 \n",
       "  \"/>\n",
       "<polyline clip-path=\"url(#clip760)\" style=\"stroke:#000000; stroke-linecap:round; stroke-linejoin:round; stroke-width:4; stroke-opacity:1; fill:none\" points=\"\n",
       "  796.275,1423.18 796.275,1404.28 \n",
       "  \"/>\n",
       "<polyline clip-path=\"url(#clip760)\" style=\"stroke:#000000; stroke-linecap:round; stroke-linejoin:round; stroke-width:4; stroke-opacity:1; fill:none\" points=\"\n",
       "  1298.46,1423.18 1298.46,1404.28 \n",
       "  \"/>\n",
       "<polyline clip-path=\"url(#clip760)\" style=\"stroke:#000000; stroke-linecap:round; stroke-linejoin:round; stroke-width:4; stroke-opacity:1; fill:none\" points=\"\n",
       "  1800.65,1423.18 1800.65,1404.28 \n",
       "  \"/>\n",
       "<polyline clip-path=\"url(#clip760)\" style=\"stroke:#000000; stroke-linecap:round; stroke-linejoin:round; stroke-width:4; stroke-opacity:1; fill:none\" points=\"\n",
       "  2302.84,1423.18 2302.84,1404.28 \n",
       "  \"/>\n",
       "<path clip-path=\"url(#clip760)\" d=\"M294.087 1454.1 Q290.476 1454.1 288.647 1457.66 Q286.841 1461.2 286.841 1468.33 Q286.841 1475.44 288.647 1479.01 Q290.476 1482.55 294.087 1482.55 Q297.721 1482.55 299.526 1479.01 Q301.355 1475.44 301.355 1468.33 Q301.355 1461.2 299.526 1457.66 Q297.721 1454.1 294.087 1454.1 M294.087 1450.39 Q299.897 1450.39 302.952 1455 Q306.031 1459.58 306.031 1468.33 Q306.031 1477.06 302.952 1481.67 Q299.897 1486.25 294.087 1486.25 Q288.277 1486.25 285.198 1481.67 Q282.142 1477.06 282.142 1468.33 Q282.142 1459.58 285.198 1455 Q288.277 1450.39 294.087 1450.39 Z\" fill=\"#000000\" fill-rule=\"evenodd\" fill-opacity=\"1\" /><path clip-path=\"url(#clip760)\" d=\"M770.974 1451.02 L789.33 1451.02 L789.33 1454.96 L775.256 1454.96 L775.256 1463.43 Q776.275 1463.08 777.293 1462.92 Q778.312 1462.73 779.33 1462.73 Q785.117 1462.73 788.497 1465.9 Q791.876 1469.08 791.876 1474.49 Q791.876 1480.07 788.404 1483.17 Q784.932 1486.25 778.613 1486.25 Q776.437 1486.25 774.168 1485.88 Q771.923 1485.51 769.516 1484.77 L769.516 1480.07 Q771.599 1481.2 773.821 1481.76 Q776.043 1482.32 778.52 1482.32 Q782.525 1482.32 784.863 1480.21 Q787.201 1478.1 787.201 1474.49 Q787.201 1470.88 784.863 1468.77 Q782.525 1466.67 778.52 1466.67 Q776.645 1466.67 774.77 1467.08 Q772.918 1467.5 770.974 1468.38 L770.974 1451.02 Z\" fill=\"#000000\" fill-rule=\"evenodd\" fill-opacity=\"1\" /><path clip-path=\"url(#clip760)\" d=\"M811.089 1454.1 Q807.478 1454.1 805.65 1457.66 Q803.844 1461.2 803.844 1468.33 Q803.844 1475.44 805.65 1479.01 Q807.478 1482.55 811.089 1482.55 Q814.724 1482.55 816.529 1479.01 Q818.358 1475.44 818.358 1468.33 Q818.358 1461.2 816.529 1457.66 Q814.724 1454.1 811.089 1454.1 M811.089 1450.39 Q816.9 1450.39 819.955 1455 Q823.034 1459.58 823.034 1468.33 Q823.034 1477.06 819.955 1481.67 Q816.9 1486.25 811.089 1486.25 Q805.279 1486.25 802.201 1481.67 Q799.145 1477.06 799.145 1468.33 Q799.145 1459.58 802.201 1455 Q805.279 1450.39 811.089 1450.39 Z\" fill=\"#000000\" fill-rule=\"evenodd\" fill-opacity=\"1\" /><path clip-path=\"url(#clip760)\" d=\"M1258.07 1481.64 L1265.71 1481.64 L1265.71 1455.28 L1257.4 1456.95 L1257.4 1452.69 L1265.66 1451.02 L1270.34 1451.02 L1270.34 1481.64 L1277.98 1481.64 L1277.98 1485.58 L1258.07 1485.58 L1258.07 1481.64 Z\" fill=\"#000000\" fill-rule=\"evenodd\" fill-opacity=\"1\" /><path clip-path=\"url(#clip760)\" d=\"M1297.42 1454.1 Q1293.81 1454.1 1291.98 1457.66 Q1290.18 1461.2 1290.18 1468.33 Q1290.18 1475.44 1291.98 1479.01 Q1293.81 1482.55 1297.42 1482.55 Q1301.06 1482.55 1302.86 1479.01 Q1304.69 1475.44 1304.69 1468.33 Q1304.69 1461.2 1302.86 1457.66 Q1301.06 1454.1 1297.42 1454.1 M1297.42 1450.39 Q1303.23 1450.39 1306.29 1455 Q1309.37 1459.58 1309.37 1468.33 Q1309.37 1477.06 1306.29 1481.67 Q1303.23 1486.25 1297.42 1486.25 Q1291.61 1486.25 1288.53 1481.67 Q1285.48 1477.06 1285.48 1468.33 Q1285.48 1459.58 1288.53 1455 Q1291.61 1450.39 1297.42 1450.39 Z\" fill=\"#000000\" fill-rule=\"evenodd\" fill-opacity=\"1\" /><path clip-path=\"url(#clip760)\" d=\"M1327.58 1454.1 Q1323.97 1454.1 1322.14 1457.66 Q1320.34 1461.2 1320.34 1468.33 Q1320.34 1475.44 1322.14 1479.01 Q1323.97 1482.55 1327.58 1482.55 Q1331.22 1482.55 1333.02 1479.01 Q1334.85 1475.44 1334.85 1468.33 Q1334.85 1461.2 1333.02 1457.66 Q1331.22 1454.1 1327.58 1454.1 M1327.58 1450.39 Q1333.39 1450.39 1336.45 1455 Q1339.53 1459.58 1339.53 1468.33 Q1339.53 1477.06 1336.45 1481.67 Q1333.39 1486.25 1327.58 1486.25 Q1321.77 1486.25 1318.69 1481.67 Q1315.64 1477.06 1315.64 1468.33 Q1315.64 1459.58 1318.69 1455 Q1321.77 1450.39 1327.58 1450.39 Z\" fill=\"#000000\" fill-rule=\"evenodd\" fill-opacity=\"1\" /><path clip-path=\"url(#clip760)\" d=\"M1760.26 1481.64 L1767.9 1481.64 L1767.9 1455.28 L1759.59 1456.95 L1759.59 1452.69 L1767.85 1451.02 L1772.53 1451.02 L1772.53 1481.64 L1780.16 1481.64 L1780.16 1485.58 L1760.26 1485.58 L1760.26 1481.64 Z\" fill=\"#000000\" fill-rule=\"evenodd\" fill-opacity=\"1\" /><path clip-path=\"url(#clip760)\" d=\"M1789.66 1451.02 L1808.01 1451.02 L1808.01 1454.96 L1793.94 1454.96 L1793.94 1463.43 Q1794.96 1463.08 1795.97 1462.92 Q1796.99 1462.73 1798.01 1462.73 Q1803.8 1462.73 1807.18 1465.9 Q1810.56 1469.08 1810.56 1474.49 Q1810.56 1480.07 1807.09 1483.17 Q1803.61 1486.25 1797.29 1486.25 Q1795.12 1486.25 1792.85 1485.88 Q1790.6 1485.51 1788.2 1484.77 L1788.2 1480.07 Q1790.28 1481.2 1792.5 1481.76 Q1794.72 1482.32 1797.2 1482.32 Q1801.21 1482.32 1803.54 1480.21 Q1805.88 1478.1 1805.88 1474.49 Q1805.88 1470.88 1803.54 1468.77 Q1801.21 1466.67 1797.2 1466.67 Q1795.33 1466.67 1793.45 1467.08 Q1791.6 1467.5 1789.66 1468.38 L1789.66 1451.02 Z\" fill=\"#000000\" fill-rule=\"evenodd\" fill-opacity=\"1\" /><path clip-path=\"url(#clip760)\" d=\"M1829.77 1454.1 Q1826.16 1454.1 1824.33 1457.66 Q1822.53 1461.2 1822.53 1468.33 Q1822.53 1475.44 1824.33 1479.01 Q1826.16 1482.55 1829.77 1482.55 Q1833.4 1482.55 1835.21 1479.01 Q1837.04 1475.44 1837.04 1468.33 Q1837.04 1461.2 1835.21 1457.66 Q1833.4 1454.1 1829.77 1454.1 M1829.77 1450.39 Q1835.58 1450.39 1838.64 1455 Q1841.72 1459.58 1841.72 1468.33 Q1841.72 1477.06 1838.64 1481.67 Q1835.58 1486.25 1829.77 1486.25 Q1823.96 1486.25 1820.88 1481.67 Q1817.83 1477.06 1817.83 1468.33 Q1817.83 1459.58 1820.88 1455 Q1823.96 1450.39 1829.77 1450.39 Z\" fill=\"#000000\" fill-rule=\"evenodd\" fill-opacity=\"1\" /><path clip-path=\"url(#clip760)\" d=\"M2266.53 1481.64 L2282.85 1481.64 L2282.85 1485.58 L2260.91 1485.58 L2260.91 1481.64 Q2263.57 1478.89 2268.15 1474.26 Q2272.76 1469.61 2273.94 1468.27 Q2276.18 1465.74 2277.06 1464.01 Q2277.97 1462.25 2277.97 1460.56 Q2277.97 1457.8 2276.02 1456.07 Q2274.1 1454.33 2271 1454.33 Q2268.8 1454.33 2266.35 1455.09 Q2263.92 1455.86 2261.14 1457.41 L2261.14 1452.69 Q2263.96 1451.55 2266.42 1450.97 Q2268.87 1450.39 2270.91 1450.39 Q2276.28 1450.39 2279.47 1453.08 Q2282.66 1455.77 2282.66 1460.26 Q2282.66 1462.39 2281.85 1464.31 Q2281.07 1466.2 2278.96 1468.8 Q2278.38 1469.47 2275.28 1472.69 Q2272.18 1475.88 2266.53 1481.64 Z\" fill=\"#000000\" fill-rule=\"evenodd\" fill-opacity=\"1\" /><path clip-path=\"url(#clip760)\" d=\"M2302.66 1454.1 Q2299.05 1454.1 2297.23 1457.66 Q2295.42 1461.2 2295.42 1468.33 Q2295.42 1475.44 2297.23 1479.01 Q2299.05 1482.55 2302.66 1482.55 Q2306.3 1482.55 2308.1 1479.01 Q2309.93 1475.44 2309.93 1468.33 Q2309.93 1461.2 2308.1 1457.66 Q2306.3 1454.1 2302.66 1454.1 M2302.66 1450.39 Q2308.47 1450.39 2311.53 1455 Q2314.61 1459.58 2314.61 1468.33 Q2314.61 1477.06 2311.53 1481.67 Q2308.47 1486.25 2302.66 1486.25 Q2296.85 1486.25 2293.78 1481.67 Q2290.72 1477.06 2290.72 1468.33 Q2290.72 1459.58 2293.78 1455 Q2296.85 1450.39 2302.66 1450.39 Z\" fill=\"#000000\" fill-rule=\"evenodd\" fill-opacity=\"1\" /><path clip-path=\"url(#clip760)\" d=\"M2332.83 1454.1 Q2329.22 1454.1 2327.39 1457.66 Q2325.58 1461.2 2325.58 1468.33 Q2325.58 1475.44 2327.39 1479.01 Q2329.22 1482.55 2332.83 1482.55 Q2336.46 1482.55 2338.27 1479.01 Q2340.1 1475.44 2340.1 1468.33 Q2340.1 1461.2 2338.27 1457.66 Q2336.46 1454.1 2332.83 1454.1 M2332.83 1450.39 Q2338.64 1450.39 2341.69 1455 Q2344.77 1459.58 2344.77 1468.33 Q2344.77 1477.06 2341.69 1481.67 Q2338.64 1486.25 2332.83 1486.25 Q2327.02 1486.25 2323.94 1481.67 Q2320.88 1477.06 2320.88 1468.33 Q2320.88 1459.58 2323.94 1455 Q2327.02 1450.39 2332.83 1450.39 Z\" fill=\"#000000\" fill-rule=\"evenodd\" fill-opacity=\"1\" /><path clip-path=\"url(#clip760)\" d=\"M1043.7 1520.52 L1050.13 1520.52 L1050.13 1540 L1073.49 1540 L1073.49 1520.52 L1079.92 1520.52 L1079.92 1568.04 L1073.49 1568.04 L1073.49 1545.41 L1050.13 1545.41 L1050.13 1568.04 L1043.7 1568.04 L1043.7 1520.52 Z\" fill=\"#000000\" fill-rule=\"evenodd\" fill-opacity=\"1\" /><path clip-path=\"url(#clip760)\" d=\"M1106.27 1536.5 Q1101.56 1536.5 1098.83 1540.19 Q1096.09 1543.85 1096.09 1550.25 Q1096.09 1556.65 1098.79 1560.34 Q1101.53 1564 1106.27 1564 Q1110.95 1564 1113.69 1560.31 Q1116.43 1556.62 1116.43 1550.25 Q1116.43 1543.92 1113.69 1540.23 Q1110.95 1536.5 1106.27 1536.5 M1106.27 1531.54 Q1113.91 1531.54 1118.27 1536.5 Q1122.63 1541.47 1122.63 1550.25 Q1122.63 1559 1118.27 1564 Q1113.91 1568.97 1106.27 1568.97 Q1098.6 1568.97 1094.24 1564 Q1089.91 1559 1089.91 1550.25 Q1089.91 1541.47 1094.24 1536.5 Q1098.6 1531.54 1106.27 1531.54 Z\" fill=\"#000000\" fill-rule=\"evenodd\" fill-opacity=\"1\" /><path clip-path=\"url(#clip760)\" d=\"M1131.74 1553.98 L1131.74 1532.4 L1137.59 1532.4 L1137.59 1553.75 Q1137.59 1558.81 1139.57 1561.36 Q1141.54 1563.87 1145.49 1563.87 Q1150.23 1563.87 1152.97 1560.85 Q1155.73 1557.83 1155.73 1552.61 L1155.73 1532.4 L1161.59 1532.4 L1161.59 1568.04 L1155.73 1568.04 L1155.73 1562.57 Q1153.6 1565.82 1150.77 1567.41 Q1147.97 1568.97 1144.24 1568.97 Q1138.1 1568.97 1134.92 1565.15 Q1131.74 1561.33 1131.74 1553.98 M1146.47 1531.54 L1146.47 1531.54 Z\" fill=\"#000000\" fill-rule=\"evenodd\" fill-opacity=\"1\" /><path clip-path=\"url(#clip760)\" d=\"M1196.38 1533.45 L1196.38 1538.98 Q1193.9 1537.71 1191.22 1537.07 Q1188.55 1536.44 1185.69 1536.44 Q1181.32 1536.44 1179.13 1537.77 Q1176.96 1539.11 1176.96 1541.79 Q1176.96 1543.82 1178.52 1545 Q1180.08 1546.15 1184.79 1547.2 L1186.8 1547.64 Q1193.04 1548.98 1195.65 1551.43 Q1198.29 1553.85 1198.29 1558.21 Q1198.29 1563.17 1194.34 1566.07 Q1190.43 1568.97 1183.55 1568.97 Q1180.69 1568.97 1177.57 1568.39 Q1174.48 1567.85 1171.04 1566.74 L1171.04 1560.69 Q1174.29 1562.38 1177.44 1563.24 Q1180.59 1564.07 1183.68 1564.07 Q1187.82 1564.07 1190.05 1562.66 Q1192.27 1561.23 1192.27 1558.65 Q1192.27 1556.27 1190.65 1554.99 Q1189.06 1553.72 1183.62 1552.54 L1181.58 1552.07 Q1176.14 1550.92 1173.72 1548.56 Q1171.3 1546.18 1171.3 1542.04 Q1171.3 1537.01 1174.86 1534.27 Q1178.43 1531.54 1184.98 1531.54 Q1188.23 1531.54 1191.1 1532.01 Q1193.96 1532.49 1196.38 1533.45 Z\" fill=\"#000000\" fill-rule=\"evenodd\" fill-opacity=\"1\" /><path clip-path=\"url(#clip760)\" d=\"M1207.62 1532.4 L1213.47 1532.4 L1213.47 1568.04 L1207.62 1568.04 L1207.62 1532.4 M1207.62 1518.52 L1213.47 1518.52 L1213.47 1525.93 L1207.62 1525.93 L1207.62 1518.52 Z\" fill=\"#000000\" fill-rule=\"evenodd\" fill-opacity=\"1\" /><path clip-path=\"url(#clip760)\" d=\"M1255.36 1546.53 L1255.36 1568.04 L1249.5 1568.04 L1249.5 1546.72 Q1249.5 1541.66 1247.53 1539.14 Q1245.55 1536.63 1241.61 1536.63 Q1236.87 1536.63 1234.13 1539.65 Q1231.39 1542.68 1231.39 1547.9 L1231.39 1568.04 L1225.5 1568.04 L1225.5 1532.4 L1231.39 1532.4 L1231.39 1537.93 Q1233.49 1534.72 1236.32 1533.13 Q1239.19 1531.54 1242.91 1531.54 Q1249.06 1531.54 1252.21 1535.36 Q1255.36 1539.14 1255.36 1546.53 Z\" fill=\"#000000\" fill-rule=\"evenodd\" fill-opacity=\"1\" /><path clip-path=\"url(#clip760)\" d=\"M1290.5 1549.81 Q1290.5 1543.44 1287.85 1539.94 Q1285.24 1536.44 1280.5 1536.44 Q1275.79 1536.44 1273.15 1539.94 Q1270.54 1543.44 1270.54 1549.81 Q1270.54 1556.14 1273.15 1559.64 Q1275.79 1563.14 1280.5 1563.14 Q1285.24 1563.14 1287.85 1559.64 Q1290.5 1556.14 1290.5 1549.81 M1296.35 1563.62 Q1296.35 1572.72 1292.31 1577.15 Q1288.27 1581.6 1279.93 1581.6 Q1276.84 1581.6 1274.1 1581.13 Q1271.37 1580.68 1268.79 1579.72 L1268.79 1574.03 Q1271.37 1575.43 1273.88 1576.1 Q1276.4 1576.76 1279.01 1576.76 Q1284.77 1576.76 1287.63 1573.74 Q1290.5 1570.75 1290.5 1564.67 L1290.5 1561.77 Q1288.68 1564.92 1285.85 1566.48 Q1283.02 1568.04 1279.07 1568.04 Q1272.51 1568.04 1268.5 1563.05 Q1264.49 1558.05 1264.49 1549.81 Q1264.49 1541.53 1268.5 1536.53 Q1272.51 1531.54 1279.07 1531.54 Q1283.02 1531.54 1285.85 1533.1 Q1288.68 1534.66 1290.5 1537.81 L1290.5 1532.4 L1296.35 1532.4 L1296.35 1563.62 Z\" fill=\"#000000\" fill-rule=\"evenodd\" fill-opacity=\"1\" /><path clip-path=\"url(#clip760)\" d=\"M1357.88 1522.08 L1357.88 1528.35 Q1354.22 1526.6 1350.97 1525.74 Q1347.72 1524.88 1344.7 1524.88 Q1339.45 1524.88 1336.58 1526.92 Q1333.75 1528.96 1333.75 1532.71 Q1333.75 1535.87 1335.63 1537.49 Q1337.54 1539.08 1342.82 1540.07 L1346.71 1540.86 Q1353.9 1542.23 1357.3 1545.7 Q1360.74 1549.14 1360.74 1554.93 Q1360.74 1561.84 1356.1 1565.4 Q1351.48 1568.97 1342.54 1568.97 Q1339.16 1568.97 1335.34 1568.2 Q1331.56 1567.44 1327.48 1565.94 L1327.48 1559.32 Q1331.4 1561.52 1335.15 1562.63 Q1338.91 1563.75 1342.54 1563.75 Q1348.04 1563.75 1351.03 1561.58 Q1354.03 1559.42 1354.03 1555.41 Q1354.03 1551.91 1351.86 1549.93 Q1349.73 1547.96 1344.83 1546.97 L1340.91 1546.21 Q1333.72 1544.78 1330.51 1541.72 Q1327.29 1538.67 1327.29 1533.22 Q1327.29 1526.92 1331.71 1523.29 Q1336.17 1519.66 1343.97 1519.66 Q1347.31 1519.66 1350.78 1520.27 Q1354.25 1520.87 1357.88 1522.08 Z\" fill=\"#000000\" fill-rule=\"evenodd\" fill-opacity=\"1\" /><path clip-path=\"url(#clip760)\" d=\"M1369.91 1553.98 L1369.91 1532.4 L1375.77 1532.4 L1375.77 1553.75 Q1375.77 1558.81 1377.74 1561.36 Q1379.71 1563.87 1383.66 1563.87 Q1388.4 1563.87 1391.14 1560.85 Q1393.91 1557.83 1393.91 1552.61 L1393.91 1532.4 L1399.76 1532.4 L1399.76 1568.04 L1393.91 1568.04 L1393.91 1562.57 Q1391.77 1565.82 1388.94 1567.41 Q1386.14 1568.97 1382.42 1568.97 Q1376.27 1568.97 1373.09 1565.15 Q1369.91 1561.33 1369.91 1553.98 M1384.65 1531.54 L1384.65 1531.54 Z\" fill=\"#000000\" fill-rule=\"evenodd\" fill-opacity=\"1\" /><path clip-path=\"url(#clip760)\" d=\"M1417.49 1562.7 L1417.49 1581.6 L1411.6 1581.6 L1411.6 1532.4 L1417.49 1532.4 L1417.49 1537.81 Q1419.34 1534.62 1422.14 1533.1 Q1424.97 1531.54 1428.89 1531.54 Q1435.38 1531.54 1439.42 1536.69 Q1443.5 1541.85 1443.5 1550.25 Q1443.5 1558.65 1439.42 1563.81 Q1435.38 1568.97 1428.89 1568.97 Q1424.97 1568.97 1422.14 1567.44 Q1419.34 1565.88 1417.49 1562.7 M1437.42 1550.25 Q1437.42 1543.79 1434.74 1540.13 Q1432.1 1536.44 1427.45 1536.44 Q1422.81 1536.44 1420.13 1540.13 Q1417.49 1543.79 1417.49 1550.25 Q1417.49 1556.71 1420.13 1560.4 Q1422.81 1564.07 1427.45 1564.07 Q1432.1 1564.07 1434.74 1560.4 Q1437.42 1556.71 1437.42 1550.25 Z\" fill=\"#000000\" fill-rule=\"evenodd\" fill-opacity=\"1\" /><path clip-path=\"url(#clip760)\" d=\"M1458.87 1562.7 L1458.87 1581.6 L1452.98 1581.6 L1452.98 1532.4 L1458.87 1532.4 L1458.87 1537.81 Q1460.72 1534.62 1463.52 1533.1 Q1466.35 1531.54 1470.26 1531.54 Q1476.76 1531.54 1480.8 1536.69 Q1484.87 1541.85 1484.87 1550.25 Q1484.87 1558.65 1480.8 1563.81 Q1476.76 1568.97 1470.26 1568.97 Q1466.35 1568.97 1463.52 1567.44 Q1460.72 1565.88 1458.87 1562.7 M1478.79 1550.25 Q1478.79 1543.79 1476.12 1540.13 Q1473.48 1536.44 1468.83 1536.44 Q1464.18 1536.44 1461.51 1540.13 Q1458.87 1543.79 1458.87 1550.25 Q1458.87 1556.71 1461.51 1560.4 Q1464.18 1564.07 1468.83 1564.07 Q1473.48 1564.07 1476.12 1560.4 Q1478.79 1556.71 1478.79 1550.25 Z\" fill=\"#000000\" fill-rule=\"evenodd\" fill-opacity=\"1\" /><path clip-path=\"url(#clip760)\" d=\"M1494.58 1518.52 L1500.44 1518.52 L1500.44 1568.04 L1494.58 1568.04 L1494.58 1518.52 Z\" fill=\"#000000\" fill-rule=\"evenodd\" fill-opacity=\"1\" /><path clip-path=\"url(#clip760)\" d=\"M1527.52 1571.35 Q1525.04 1577.72 1522.69 1579.66 Q1520.33 1581.6 1516.38 1581.6 L1511.7 1581.6 L1511.7 1576.7 L1515.14 1576.7 Q1517.56 1576.7 1518.9 1575.56 Q1520.23 1574.41 1521.86 1570.14 L1522.91 1567.47 L1508.49 1532.4 L1514.7 1532.4 L1525.84 1560.28 L1536.98 1532.4 L1543.18 1532.4 L1527.52 1571.35 Z\" fill=\"#000000\" fill-rule=\"evenodd\" fill-opacity=\"1\" /><polyline clip-path=\"url(#clip762)\" style=\"stroke:#000000; stroke-linecap:round; stroke-linejoin:round; stroke-width:2; stroke-opacity:0.1; fill:none\" points=\"\n",
       "  234.125,1392.71 2352.76,1392.71 \n",
       "  \"/>\n",
       "<polyline clip-path=\"url(#clip762)\" style=\"stroke:#000000; stroke-linecap:round; stroke-linejoin:round; stroke-width:2; stroke-opacity:0.1; fill:none\" points=\"\n",
       "  234.125,1086.13 2352.76,1086.13 \n",
       "  \"/>\n",
       "<polyline clip-path=\"url(#clip762)\" style=\"stroke:#000000; stroke-linecap:round; stroke-linejoin:round; stroke-width:2; stroke-opacity:0.1; fill:none\" points=\"\n",
       "  234.125,779.549 2352.76,779.549 \n",
       "  \"/>\n",
       "<polyline clip-path=\"url(#clip762)\" style=\"stroke:#000000; stroke-linecap:round; stroke-linejoin:round; stroke-width:2; stroke-opacity:0.1; fill:none\" points=\"\n",
       "  234.125,472.968 2352.76,472.968 \n",
       "  \"/>\n",
       "<polyline clip-path=\"url(#clip762)\" style=\"stroke:#000000; stroke-linecap:round; stroke-linejoin:round; stroke-width:2; stroke-opacity:0.1; fill:none\" points=\"\n",
       "  234.125,166.388 2352.76,166.388 \n",
       "  \"/>\n",
       "<polyline clip-path=\"url(#clip760)\" style=\"stroke:#000000; stroke-linecap:round; stroke-linejoin:round; stroke-width:4; stroke-opacity:1; fill:none\" points=\"\n",
       "  234.125,1423.18 234.125,123.472 \n",
       "  \"/>\n",
       "<polyline clip-path=\"url(#clip760)\" style=\"stroke:#000000; stroke-linecap:round; stroke-linejoin:round; stroke-width:4; stroke-opacity:1; fill:none\" points=\"\n",
       "  234.125,1392.71 253.023,1392.71 \n",
       "  \"/>\n",
       "<polyline clip-path=\"url(#clip760)\" style=\"stroke:#000000; stroke-linecap:round; stroke-linejoin:round; stroke-width:4; stroke-opacity:1; fill:none\" points=\"\n",
       "  234.125,1086.13 253.023,1086.13 \n",
       "  \"/>\n",
       "<polyline clip-path=\"url(#clip760)\" style=\"stroke:#000000; stroke-linecap:round; stroke-linejoin:round; stroke-width:4; stroke-opacity:1; fill:none\" points=\"\n",
       "  234.125,779.549 253.023,779.549 \n",
       "  \"/>\n",
       "<polyline clip-path=\"url(#clip760)\" style=\"stroke:#000000; stroke-linecap:round; stroke-linejoin:round; stroke-width:4; stroke-opacity:1; fill:none\" points=\"\n",
       "  234.125,472.968 253.023,472.968 \n",
       "  \"/>\n",
       "<polyline clip-path=\"url(#clip760)\" style=\"stroke:#000000; stroke-linecap:round; stroke-linejoin:round; stroke-width:4; stroke-opacity:1; fill:none\" points=\"\n",
       "  234.125,166.388 253.023,166.388 \n",
       "  \"/>\n",
       "<path clip-path=\"url(#clip760)\" d=\"M186.181 1378.51 Q182.57 1378.51 180.741 1382.07 Q178.936 1385.62 178.936 1392.74 Q178.936 1399.85 180.741 1403.42 Q182.57 1406.96 186.181 1406.96 Q189.815 1406.96 191.621 1403.42 Q193.45 1399.85 193.45 1392.74 Q193.45 1385.62 191.621 1382.07 Q189.815 1378.51 186.181 1378.51 M186.181 1374.8 Q191.991 1374.8 195.047 1379.41 Q198.125 1383.99 198.125 1392.74 Q198.125 1401.47 195.047 1406.08 Q191.991 1410.66 186.181 1410.66 Q180.371 1410.66 177.292 1406.08 Q174.237 1401.47 174.237 1392.74 Q174.237 1383.99 177.292 1379.41 Q180.371 1374.8 186.181 1374.8 Z\" fill=\"#000000\" fill-rule=\"evenodd\" fill-opacity=\"1\" /><path clip-path=\"url(#clip760)\" d=\"M146.066 1068.85 L164.422 1068.85 L164.422 1072.78 L150.348 1072.78 L150.348 1081.26 Q151.366 1080.91 152.385 1080.75 Q153.403 1080.56 154.422 1080.56 Q160.209 1080.56 163.589 1083.73 Q166.968 1086.9 166.968 1092.32 Q166.968 1097.9 163.496 1101 Q160.024 1104.08 153.704 1104.08 Q151.528 1104.08 149.26 1103.71 Q147.015 1103.34 144.607 1102.6 L144.607 1097.9 Q146.691 1099.03 148.913 1099.59 Q151.135 1100.15 153.612 1100.15 Q157.616 1100.15 159.954 1098.04 Q162.292 1095.93 162.292 1092.32 Q162.292 1088.71 159.954 1086.6 Q157.616 1084.5 153.612 1084.5 Q151.737 1084.5 149.862 1084.91 Q148.01 1085.33 146.066 1086.21 L146.066 1068.85 Z\" fill=\"#000000\" fill-rule=\"evenodd\" fill-opacity=\"1\" /><path clip-path=\"url(#clip760)\" d=\"M186.181 1071.93 Q182.57 1071.93 180.741 1075.49 Q178.936 1079.03 178.936 1086.16 Q178.936 1093.27 180.741 1096.84 Q182.57 1100.38 186.181 1100.38 Q189.815 1100.38 191.621 1096.84 Q193.45 1093.27 193.45 1086.16 Q193.45 1079.03 191.621 1075.49 Q189.815 1071.93 186.181 1071.93 M186.181 1068.22 Q191.991 1068.22 195.047 1072.83 Q198.125 1077.41 198.125 1086.16 Q198.125 1094.89 195.047 1099.5 Q191.991 1104.08 186.181 1104.08 Q180.371 1104.08 177.292 1099.5 Q174.237 1094.89 174.237 1086.16 Q174.237 1077.41 177.292 1072.83 Q180.371 1068.22 186.181 1068.22 Z\" fill=\"#000000\" fill-rule=\"evenodd\" fill-opacity=\"1\" /><path clip-path=\"url(#clip760)\" d=\"M116.668 792.894 L124.306 792.894 L124.306 766.528 L115.996 768.195 L115.996 763.936 L124.26 762.269 L128.936 762.269 L128.936 792.894 L136.575 792.894 L136.575 796.829 L116.668 796.829 L116.668 792.894 Z\" fill=\"#000000\" fill-rule=\"evenodd\" fill-opacity=\"1\" /><path clip-path=\"url(#clip760)\" d=\"M156.019 765.348 Q152.408 765.348 150.579 768.912 Q148.774 772.454 148.774 779.584 Q148.774 786.69 150.579 790.255 Q152.408 793.797 156.019 793.797 Q159.653 793.797 161.459 790.255 Q163.288 786.69 163.288 779.584 Q163.288 772.454 161.459 768.912 Q159.653 765.348 156.019 765.348 M156.019 761.644 Q161.829 761.644 164.885 766.25 Q167.964 770.834 167.964 779.584 Q167.964 788.31 164.885 792.917 Q161.829 797.5 156.019 797.5 Q150.209 797.5 147.13 792.917 Q144.075 788.31 144.075 779.584 Q144.075 770.834 147.13 766.25 Q150.209 761.644 156.019 761.644 Z\" fill=\"#000000\" fill-rule=\"evenodd\" fill-opacity=\"1\" /><path clip-path=\"url(#clip760)\" d=\"M186.181 765.348 Q182.57 765.348 180.741 768.912 Q178.936 772.454 178.936 779.584 Q178.936 786.69 180.741 790.255 Q182.57 793.797 186.181 793.797 Q189.815 793.797 191.621 790.255 Q193.45 786.69 193.45 779.584 Q193.45 772.454 191.621 768.912 Q189.815 765.348 186.181 765.348 M186.181 761.644 Q191.991 761.644 195.047 766.25 Q198.125 770.834 198.125 779.584 Q198.125 788.31 195.047 792.917 Q191.991 797.5 186.181 797.5 Q180.371 797.5 177.292 792.917 Q174.237 788.31 174.237 779.584 Q174.237 770.834 177.292 766.25 Q180.371 761.644 186.181 761.644 Z\" fill=\"#000000\" fill-rule=\"evenodd\" fill-opacity=\"1\" /><path clip-path=\"url(#clip760)\" d=\"M116.668 486.313 L124.306 486.313 L124.306 459.948 L115.996 461.614 L115.996 457.355 L124.26 455.688 L128.936 455.688 L128.936 486.313 L136.575 486.313 L136.575 490.248 L116.668 490.248 L116.668 486.313 Z\" fill=\"#000000\" fill-rule=\"evenodd\" fill-opacity=\"1\" /><path clip-path=\"url(#clip760)\" d=\"M146.066 455.688 L164.422 455.688 L164.422 459.624 L150.348 459.624 L150.348 468.096 Q151.366 467.749 152.385 467.587 Q153.403 467.401 154.422 467.401 Q160.209 467.401 163.589 470.573 Q166.968 473.744 166.968 479.161 Q166.968 484.739 163.496 487.841 Q160.024 490.92 153.704 490.92 Q151.528 490.92 149.26 490.549 Q147.015 490.179 144.607 489.438 L144.607 484.739 Q146.691 485.873 148.913 486.429 Q151.135 486.985 153.612 486.985 Q157.616 486.985 159.954 484.878 Q162.292 482.772 162.292 479.161 Q162.292 475.549 159.954 473.443 Q157.616 471.337 153.612 471.337 Q151.737 471.337 149.862 471.753 Q148.01 472.17 146.066 473.049 L146.066 455.688 Z\" fill=\"#000000\" fill-rule=\"evenodd\" fill-opacity=\"1\" /><path clip-path=\"url(#clip760)\" d=\"M186.181 458.767 Q182.57 458.767 180.741 462.332 Q178.936 465.874 178.936 473.003 Q178.936 480.11 180.741 483.674 Q182.57 487.216 186.181 487.216 Q189.815 487.216 191.621 483.674 Q193.45 480.11 193.45 473.003 Q193.45 465.874 191.621 462.332 Q189.815 458.767 186.181 458.767 M186.181 455.063 Q191.991 455.063 195.047 459.67 Q198.125 464.253 198.125 473.003 Q198.125 481.73 195.047 486.336 Q191.991 490.92 186.181 490.92 Q180.371 490.92 177.292 486.336 Q174.237 481.73 174.237 473.003 Q174.237 464.253 177.292 459.67 Q180.371 455.063 186.181 455.063 Z\" fill=\"#000000\" fill-rule=\"evenodd\" fill-opacity=\"1\" /><path clip-path=\"url(#clip760)\" d=\"M119.885 179.733 L136.204 179.733 L136.204 183.668 L114.26 183.668 L114.26 179.733 Q116.922 176.978 121.505 172.349 Q126.112 167.696 127.292 166.353 Q129.538 163.83 130.417 162.094 Q131.32 160.335 131.32 158.645 Q131.32 155.89 129.376 154.154 Q127.455 152.418 124.353 152.418 Q122.154 152.418 119.7 153.182 Q117.269 153.946 114.492 155.497 L114.492 150.775 Q117.316 149.64 119.769 149.062 Q122.223 148.483 124.26 148.483 Q129.63 148.483 132.825 151.168 Q136.019 153.853 136.019 158.344 Q136.019 160.474 135.209 162.395 Q134.422 164.293 132.316 166.886 Q131.737 167.557 128.635 170.774 Q125.533 173.969 119.885 179.733 Z\" fill=\"#000000\" fill-rule=\"evenodd\" fill-opacity=\"1\" /><path clip-path=\"url(#clip760)\" d=\"M156.019 152.187 Q152.408 152.187 150.579 155.751 Q148.774 159.293 148.774 166.423 Q148.774 173.529 150.579 177.094 Q152.408 180.636 156.019 180.636 Q159.653 180.636 161.459 177.094 Q163.288 173.529 163.288 166.423 Q163.288 159.293 161.459 155.751 Q159.653 152.187 156.019 152.187 M156.019 148.483 Q161.829 148.483 164.885 153.089 Q167.964 157.673 167.964 166.423 Q167.964 175.149 164.885 179.756 Q161.829 184.339 156.019 184.339 Q150.209 184.339 147.13 179.756 Q144.075 175.149 144.075 166.423 Q144.075 157.673 147.13 153.089 Q150.209 148.483 156.019 148.483 Z\" fill=\"#000000\" fill-rule=\"evenodd\" fill-opacity=\"1\" /><path clip-path=\"url(#clip760)\" d=\"M186.181 152.187 Q182.57 152.187 180.741 155.751 Q178.936 159.293 178.936 166.423 Q178.936 173.529 180.741 177.094 Q182.57 180.636 186.181 180.636 Q189.815 180.636 191.621 177.094 Q193.45 173.529 193.45 166.423 Q193.45 159.293 191.621 155.751 Q189.815 152.187 186.181 152.187 M186.181 148.483 Q191.991 148.483 195.047 153.089 Q198.125 157.673 198.125 166.423 Q198.125 175.149 195.047 179.756 Q191.991 184.339 186.181 184.339 Q180.371 184.339 177.292 179.756 Q174.237 175.149 174.237 166.423 Q174.237 157.673 177.292 153.089 Q180.371 148.483 186.181 148.483 Z\" fill=\"#000000\" fill-rule=\"evenodd\" fill-opacity=\"1\" /><path clip-path=\"url(#clip760)\" d=\"M22.818 976.838 L46.4666 985.559 L46.4666 968.085 L22.818 976.838 M16.4842 980.466 L16.4842 973.177 L64.0042 955.067 L64.0042 961.751 L51.8138 966.08 L51.8138 987.5 L64.0042 991.829 L64.0042 998.608 L16.4842 980.466 Z\" fill=\"#000000\" fill-rule=\"evenodd\" fill-opacity=\"1\" /><path clip-path=\"url(#clip760)\" d=\"M28.3562 956.404 L28.3562 950.197 L58.275 939.057 L28.3562 927.917 L28.3562 921.711 L64.0042 935.079 L64.0042 943.036 L28.3562 956.404 Z\" fill=\"#000000\" fill-rule=\"evenodd\" fill-opacity=\"1\" /><path clip-path=\"url(#clip760)\" d=\"M44.7161 883.134 L47.5806 883.134 L47.5806 910.061 Q53.6281 909.679 56.8109 906.433 Q59.9619 903.155 59.9619 897.33 Q59.9619 893.956 59.1344 890.805 Q58.3069 887.622 56.6518 884.503 L62.1899 884.503 Q63.5267 887.654 64.227 890.964 Q64.9272 894.274 64.9272 897.68 Q64.9272 906.21 59.9619 911.207 Q54.9967 916.172 46.5303 916.172 Q37.7774 916.172 32.6531 911.462 Q27.4968 906.719 27.4968 898.699 Q27.4968 891.505 32.1438 887.336 Q36.7589 883.134 44.7161 883.134 M42.9973 888.991 Q38.1912 889.055 35.3266 891.696 Q32.4621 894.306 32.4621 898.635 Q32.4621 903.537 35.2312 906.497 Q38.0002 909.425 43.0292 909.87 L42.9973 888.991 Z\" fill=\"#000000\" fill-rule=\"evenodd\" fill-opacity=\"1\" /><path clip-path=\"url(#clip760)\" d=\"M33.8307 852.865 Q33.2578 853.852 33.0032 855.03 Q32.7167 856.176 32.7167 857.576 Q32.7167 862.541 35.9632 865.215 Q39.1779 867.857 45.2253 867.857 L64.0042 867.857 L64.0042 873.745 L28.3562 873.745 L28.3562 867.857 L33.8944 867.857 Q30.6479 866.011 29.0883 863.051 Q27.4968 860.091 27.4968 855.857 Q27.4968 855.253 27.5923 854.521 Q27.656 853.789 27.8151 852.897 L33.8307 852.865 Z\" fill=\"#000000\" fill-rule=\"evenodd\" fill-opacity=\"1\" /><path clip-path=\"url(#clip760)\" d=\"M46.0847 830.522 Q46.0847 837.62 47.7079 840.357 Q49.3312 843.094 53.2461 843.094 Q56.3653 843.094 58.2114 841.057 Q60.0256 838.988 60.0256 835.455 Q60.0256 830.586 56.5881 827.657 Q53.1188 824.697 47.3897 824.697 L46.0847 824.697 L46.0847 830.522 M43.6657 818.841 L64.0042 818.841 L64.0042 824.697 L58.5933 824.697 Q61.8398 826.702 63.3994 829.694 Q64.9272 832.686 64.9272 837.015 Q64.9272 842.489 61.8716 845.736 Q58.7843 848.951 53.6281 848.951 Q47.6125 848.951 44.5569 844.94 Q41.5014 840.898 41.5014 832.909 L41.5014 824.697 L40.9285 824.697 Q36.8862 824.697 34.6901 827.371 Q32.4621 830.013 32.4621 834.819 Q32.4621 837.874 33.1941 840.771 Q33.9262 843.667 35.3903 846.341 L29.9795 846.341 Q28.7381 843.126 28.1334 840.102 Q27.4968 837.079 27.4968 834.214 Q27.4968 826.48 31.5072 822.66 Q35.5176 818.841 43.6657 818.841 Z\" fill=\"#000000\" fill-rule=\"evenodd\" fill-opacity=\"1\" /><path clip-path=\"url(#clip760)\" d=\"M45.7664 783.32 Q39.4007 783.32 35.8996 785.962 Q32.3984 788.572 32.3984 793.314 Q32.3984 798.025 35.8996 800.667 Q39.4007 803.277 45.7664 803.277 Q52.1003 803.277 55.6014 800.667 Q59.1026 798.025 59.1026 793.314 Q59.1026 788.572 55.6014 785.962 Q52.1003 783.32 45.7664 783.32 M59.58 777.464 Q68.683 777.464 73.1071 781.506 Q77.5631 785.548 77.5631 793.887 Q77.5631 796.975 77.0857 799.712 Q76.6401 802.449 75.6852 805.027 L69.9879 805.027 Q71.3884 802.449 72.0568 799.935 Q72.7252 797.42 72.7252 794.81 Q72.7252 789.049 69.7015 786.185 Q66.7096 783.32 60.6303 783.32 L57.7339 783.32 Q60.885 785.134 62.4446 787.967 Q64.0042 790.8 64.0042 794.747 Q64.0042 801.303 59.0071 805.314 Q54.01 809.324 45.7664 809.324 Q37.491 809.324 32.4939 805.314 Q27.4968 801.303 27.4968 794.747 Q27.4968 790.8 29.0564 787.967 Q30.616 785.134 33.7671 783.32 L28.3562 783.32 L28.3562 777.464 L59.58 777.464 Z\" fill=\"#000000\" fill-rule=\"evenodd\" fill-opacity=\"1\" /><path clip-path=\"url(#clip760)\" d=\"M44.7161 734.909 L47.5806 734.909 L47.5806 761.836 Q53.6281 761.454 56.8109 758.207 Q59.9619 754.929 59.9619 749.104 Q59.9619 745.731 59.1344 742.58 Q58.3069 739.397 56.6518 736.278 L62.1899 736.278 Q63.5267 739.429 64.227 742.739 Q64.9272 746.049 64.9272 749.455 Q64.9272 757.985 59.9619 762.982 Q54.9967 767.947 46.5303 767.947 Q37.7774 767.947 32.6531 763.236 Q27.4968 758.494 27.4968 750.473 Q27.4968 743.28 32.1438 739.11 Q36.7589 734.909 44.7161 734.909 M42.9973 740.765 Q38.1912 740.829 35.3266 743.471 Q32.4621 746.081 32.4621 750.409 Q32.4621 755.311 35.2312 758.271 Q38.0002 761.199 43.0292 761.645 L42.9973 740.765 Z\" fill=\"#000000\" fill-rule=\"evenodd\" fill-opacity=\"1\" /><path clip-path=\"url(#clip760)\" d=\"M41.7242 681.787 Q42.4244 679.718 44.7161 677.777 Q47.0077 675.803 51.0181 673.83 L64.0042 667.305 L64.0042 674.212 L51.8138 680.291 Q47.0395 682.646 45.48 684.874 Q43.9204 687.071 43.9204 690.89 L43.9204 697.892 L64.0042 697.892 L64.0042 704.322 L16.4842 704.322 L16.4842 689.808 Q16.4842 681.66 19.8898 677.649 Q23.2955 673.639 30.1704 673.639 Q34.6582 673.639 37.6183 675.74 Q40.5784 677.809 41.7242 681.787 M21.7677 697.892 L38.6368 697.892 L38.6368 689.808 Q38.6368 685.161 36.5043 682.806 Q34.34 680.418 30.1704 680.418 Q26.0009 680.418 23.9002 682.806 Q21.7677 685.161 21.7677 689.808 L21.7677 697.892 Z\" fill=\"#000000\" fill-rule=\"evenodd\" fill-opacity=\"1\" /><path clip-path=\"url(#clip760)\" d=\"M46.0847 644.516 Q46.0847 651.614 47.7079 654.351 Q49.3312 657.088 53.2461 657.088 Q56.3653 657.088 58.2114 655.051 Q60.0256 652.982 60.0256 649.449 Q60.0256 644.58 56.5881 641.651 Q53.1188 638.691 47.3897 638.691 L46.0847 638.691 L46.0847 644.516 M43.6657 632.835 L64.0042 632.835 L64.0042 638.691 L58.5933 638.691 Q61.8398 640.696 63.3994 643.688 Q64.9272 646.68 64.9272 651.009 Q64.9272 656.483 61.8716 659.73 Q58.7843 662.945 53.6281 662.945 Q47.6125 662.945 44.5569 658.934 Q41.5014 654.892 41.5014 646.903 L41.5014 638.691 L40.9285 638.691 Q36.8862 638.691 34.6901 641.365 Q32.4621 644.007 32.4621 648.813 Q32.4621 651.868 33.1941 654.765 Q33.9262 657.661 35.3903 660.335 L29.9795 660.335 Q28.7381 657.12 28.1334 654.096 Q27.4968 651.073 27.4968 648.208 Q27.4968 640.474 31.5072 636.654 Q35.5176 632.835 43.6657 632.835 Z\" fill=\"#000000\" fill-rule=\"evenodd\" fill-opacity=\"1\" /><path clip-path=\"url(#clip760)\" d=\"M42.4881 591.139 L64.0042 591.139 L64.0042 596.996 L42.679 596.996 Q37.6183 596.996 35.1038 598.969 Q32.5894 600.943 32.5894 604.889 Q32.5894 609.632 35.6131 612.369 Q38.6368 615.106 43.8567 615.106 L64.0042 615.106 L64.0042 620.995 L28.3562 620.995 L28.3562 615.106 L33.8944 615.106 Q30.6797 613.006 29.0883 610.173 Q27.4968 607.308 27.4968 603.584 Q27.4968 597.442 31.3163 594.29 Q35.1038 591.139 42.4881 591.139 Z\" fill=\"#000000\" fill-rule=\"evenodd\" fill-opacity=\"1\" /><path clip-path=\"url(#clip760)\" d=\"M14.479 579.681 L14.479 573.793 L43.7294 573.793 L28.3562 556.319 L28.3562 548.839 L45.0344 567.745 L64.0042 548.044 L64.0042 555.682 L46.5939 573.793 L64.0042 573.793 L64.0042 579.681 L14.479 579.681 Z\" fill=\"#000000\" fill-rule=\"evenodd\" fill-opacity=\"1\" /><path clip-path=\"url(#clip760)\" d=\"M501.671 12.096 L509.854 12.096 L509.854 36.8875 L539.588 36.8875 L539.588 12.096 L547.77 12.096 L547.77 72.576 L539.588 72.576 L539.588 43.7741 L509.854 43.7741 L509.854 72.576 L501.671 72.576 L501.671 12.096 Z\" fill=\"#000000\" fill-rule=\"evenodd\" fill-opacity=\"1\" /><path clip-path=\"url(#clip760)\" d=\"M581.312 32.4315 Q575.317 32.4315 571.833 37.1306 Q568.349 41.7891 568.349 49.9314 Q568.349 58.0738 571.792 62.7728 Q575.276 67.4314 581.312 67.4314 Q587.267 67.4314 590.751 62.7323 Q594.234 58.0333 594.234 49.9314 Q594.234 41.8701 590.751 37.1711 Q587.267 32.4315 581.312 32.4315 M581.312 26.1121 Q591.034 26.1121 596.584 32.4315 Q602.134 38.7509 602.134 49.9314 Q602.134 61.0714 596.584 67.4314 Q591.034 73.7508 581.312 73.7508 Q571.549 73.7508 566 67.4314 Q560.49 61.0714 560.49 49.9314 Q560.49 38.7509 566 32.4315 Q571.549 26.1121 581.312 26.1121 Z\" fill=\"#000000\" fill-rule=\"evenodd\" fill-opacity=\"1\" /><path clip-path=\"url(#clip760)\" d=\"M613.719 54.671 L613.719 27.2059 L621.173 27.2059 L621.173 54.3874 Q621.173 60.8284 623.684 64.0691 Q626.196 67.2693 631.219 67.2693 Q637.255 67.2693 640.739 63.421 Q644.263 59.5726 644.263 52.9291 L644.263 27.2059 L651.717 27.2059 L651.717 72.576 L644.263 72.576 L644.263 65.6084 Q641.549 69.7404 637.944 71.7658 Q634.379 73.7508 629.639 73.7508 Q621.821 73.7508 617.77 68.8897 Q613.719 64.0286 613.719 54.671 M632.475 26.1121 L632.475 26.1121 Z\" fill=\"#000000\" fill-rule=\"evenodd\" fill-opacity=\"1\" /><path clip-path=\"url(#clip760)\" d=\"M695.993 28.5427 L695.993 35.5912 Q692.833 33.9709 689.431 33.1607 Q686.028 32.3505 682.382 32.3505 Q676.832 32.3505 674.037 34.0519 Q671.283 35.7533 671.283 39.156 Q671.283 41.7486 673.267 43.2475 Q675.252 44.7058 681.248 46.0426 L683.8 46.6097 Q691.74 48.3111 695.061 51.4303 Q698.424 54.509 698.424 60.0587 Q698.424 66.3781 693.4 70.0644 Q688.418 73.7508 679.668 73.7508 Q676.022 73.7508 672.052 73.0216 Q668.123 72.3329 663.748 70.9151 L663.748 63.2184 Q667.88 65.3654 671.89 66.4591 Q675.901 67.5124 679.83 67.5124 Q685.096 67.5124 687.932 65.73 Q690.767 63.9071 690.767 60.6258 Q690.767 57.5877 688.701 55.9673 Q686.676 54.3469 679.749 52.8481 L677.156 52.2405 Q670.229 50.7821 667.151 47.7845 Q664.072 44.7463 664.072 39.4801 Q664.072 33.0797 668.609 29.5959 Q673.146 26.1121 681.491 26.1121 Q685.623 26.1121 689.269 26.7198 Q692.914 27.3274 695.993 28.5427 Z\" fill=\"#000000\" fill-rule=\"evenodd\" fill-opacity=\"1\" /><path clip-path=\"url(#clip760)\" d=\"M710.293 27.2059 L717.746 27.2059 L717.746 72.576 L710.293 72.576 L710.293 27.2059 M710.293 9.54393 L717.746 9.54393 L717.746 18.9825 L710.293 18.9825 L710.293 9.54393 Z\" fill=\"#000000\" fill-rule=\"evenodd\" fill-opacity=\"1\" /><path clip-path=\"url(#clip760)\" d=\"M771.056 45.1919 L771.056 72.576 L763.603 72.576 L763.603 45.4349 Q763.603 38.994 761.091 35.7938 Q758.58 32.5936 753.556 32.5936 Q747.521 32.5936 744.037 36.4419 Q740.553 40.2903 740.553 46.9338 L740.553 72.576 L733.059 72.576 L733.059 27.2059 L740.553 27.2059 L740.553 34.2544 Q743.227 30.163 746.832 28.1376 Q750.478 26.1121 755.217 26.1121 Q763.036 26.1121 767.046 30.9732 Q771.056 35.7938 771.056 45.1919 Z\" fill=\"#000000\" fill-rule=\"evenodd\" fill-opacity=\"1\" /><path clip-path=\"url(#clip760)\" d=\"M815.778 49.3643 Q815.778 41.2625 812.416 36.8065 Q809.094 32.3505 803.058 32.3505 Q797.063 32.3505 793.701 36.8065 Q790.379 41.2625 790.379 49.3643 Q790.379 57.4256 793.701 61.8816 Q797.063 66.3376 803.058 66.3376 Q809.094 66.3376 812.416 61.8816 Q815.778 57.4256 815.778 49.3643 M823.232 66.9452 Q823.232 78.5308 818.087 84.1616 Q812.943 89.8329 802.329 89.8329 Q798.4 89.8329 794.916 89.2252 Q791.432 88.6581 788.151 87.4428 L788.151 80.1917 Q791.432 81.9741 794.633 82.8248 Q797.833 83.6755 801.155 83.6755 Q808.487 83.6755 812.132 79.8271 Q815.778 76.0193 815.778 68.282 L815.778 64.5957 Q813.469 68.6061 809.864 70.5911 Q806.259 72.576 801.236 72.576 Q792.891 72.576 787.787 66.2161 Q782.682 59.8562 782.682 49.3643 Q782.682 38.832 787.787 32.472 Q792.891 26.1121 801.236 26.1121 Q806.259 26.1121 809.864 28.0971 Q813.469 30.082 815.778 34.0924 L815.778 27.2059 L823.232 27.2059 L823.232 66.9452 Z\" fill=\"#000000\" fill-rule=\"evenodd\" fill-opacity=\"1\" /><path clip-path=\"url(#clip760)\" d=\"M897.607 28.9478 L897.607 35.9153 Q894.447 34.1734 891.247 33.3227 Q888.087 32.4315 884.846 32.4315 Q877.595 32.4315 873.585 37.0496 Q869.574 41.6271 869.574 49.9314 Q869.574 58.2358 873.585 62.8538 Q877.595 67.4314 884.846 67.4314 Q888.087 67.4314 891.247 66.5807 Q894.447 65.6895 897.607 63.9476 L897.607 70.8341 Q894.487 72.2924 891.125 73.0216 Q887.803 73.7508 884.036 73.7508 Q873.787 73.7508 867.751 67.3098 Q861.716 60.8689 861.716 49.9314 Q861.716 38.832 867.792 32.472 Q873.909 26.1121 884.522 26.1121 Q887.965 26.1121 891.247 26.8413 Q894.528 27.5299 897.607 28.9478 Z\" fill=\"#000000\" fill-rule=\"evenodd\" fill-opacity=\"1\" /><path clip-path=\"url(#clip760)\" d=\"M931.189 49.7694 Q922.155 49.7694 918.671 51.8354 Q915.187 53.9013 915.187 58.8839 Q915.187 62.8538 917.78 65.2034 Q920.413 67.5124 924.91 67.5124 Q931.108 67.5124 934.834 63.1374 Q938.602 58.7219 938.602 51.4303 L938.602 49.7694 L931.189 49.7694 M946.055 46.6907 L946.055 72.576 L938.602 72.576 L938.602 65.6895 Q936.05 69.8214 932.242 71.8063 Q928.434 73.7508 922.925 73.7508 Q915.957 73.7508 911.825 69.8619 Q907.734 65.9325 907.734 59.3701 Q907.734 51.7138 912.838 47.825 Q917.983 43.9361 928.15 43.9361 L938.602 43.9361 L938.602 43.2069 Q938.602 38.0623 935.199 35.2672 Q931.837 32.4315 925.72 32.4315 Q921.831 32.4315 918.145 33.3632 Q914.458 34.295 911.056 36.1584 L911.056 29.2718 Q915.147 27.692 918.995 26.9223 Q922.844 26.1121 926.49 26.1121 Q936.333 26.1121 941.194 31.2163 Q946.055 36.3204 946.055 46.6907 Z\" fill=\"#000000\" fill-rule=\"evenodd\" fill-opacity=\"1\" /><path clip-path=\"url(#clip760)\" d=\"M968.619 65.7705 L968.619 89.8329 L961.125 89.8329 L961.125 27.2059 L968.619 27.2059 L968.619 34.0924 Q970.968 30.0415 974.533 28.0971 Q978.139 26.1121 983.121 26.1121 Q991.385 26.1121 996.53 32.6746 Q1001.71 39.2371 1001.71 49.9314 Q1001.71 60.6258 996.53 67.1883 Q991.385 73.7508 983.121 73.7508 Q978.139 73.7508 974.533 71.8063 Q970.968 69.8214 968.619 65.7705 M993.978 49.9314 Q993.978 41.7081 990.575 37.0496 Q987.213 32.3505 981.298 32.3505 Q975.384 32.3505 971.981 37.0496 Q968.619 41.7081 968.619 49.9314 Q968.619 58.1548 971.981 62.8538 Q975.384 67.5124 981.298 67.5124 Q987.213 67.5124 990.575 62.8538 Q993.978 58.1548 993.978 49.9314 Z\" fill=\"#000000\" fill-rule=\"evenodd\" fill-opacity=\"1\" /><path clip-path=\"url(#clip760)\" d=\"M1034.69 49.7694 Q1025.66 49.7694 1022.17 51.8354 Q1018.69 53.9013 1018.69 58.8839 Q1018.69 62.8538 1021.28 65.2034 Q1023.91 67.5124 1028.41 67.5124 Q1034.61 67.5124 1038.33 63.1374 Q1042.1 58.7219 1042.1 51.4303 L1042.1 49.7694 L1034.69 49.7694 M1049.56 46.6907 L1049.56 72.576 L1042.1 72.576 L1042.1 65.6895 Q1039.55 69.8214 1035.74 71.8063 Q1031.93 73.7508 1026.43 73.7508 Q1019.46 73.7508 1015.33 69.8619 Q1011.23 65.9325 1011.23 59.3701 Q1011.23 51.7138 1016.34 47.825 Q1021.48 43.9361 1031.65 43.9361 L1042.1 43.9361 L1042.1 43.2069 Q1042.1 38.0623 1038.7 35.2672 Q1035.34 32.4315 1029.22 32.4315 Q1025.33 32.4315 1021.65 33.3632 Q1017.96 34.295 1014.56 36.1584 L1014.56 29.2718 Q1018.65 27.692 1022.5 26.9223 Q1026.34 26.1121 1029.99 26.1121 Q1039.83 26.1121 1044.69 31.2163 Q1049.56 36.3204 1049.56 46.6907 Z\" fill=\"#000000\" fill-rule=\"evenodd\" fill-opacity=\"1\" /><path clip-path=\"url(#clip760)\" d=\"M1097.56 28.9478 L1097.56 35.9153 Q1094.4 34.1734 1091.2 33.3227 Q1088.04 32.4315 1084.8 32.4315 Q1077.55 32.4315 1073.54 37.0496 Q1069.53 41.6271 1069.53 49.9314 Q1069.53 58.2358 1073.54 62.8538 Q1077.55 67.4314 1084.8 67.4314 Q1088.04 67.4314 1091.2 66.5807 Q1094.4 65.6895 1097.56 63.9476 L1097.56 70.8341 Q1094.44 72.2924 1091.08 73.0216 Q1087.76 73.7508 1083.99 73.7508 Q1073.74 73.7508 1067.7 67.3098 Q1061.67 60.8689 1061.67 49.9314 Q1061.67 38.832 1067.74 32.472 Q1073.86 26.1121 1084.47 26.1121 Q1087.92 26.1121 1091.2 26.8413 Q1094.48 27.5299 1097.56 28.9478 Z\" fill=\"#000000\" fill-rule=\"evenodd\" fill-opacity=\"1\" /><path clip-path=\"url(#clip760)\" d=\"M1110.52 27.2059 L1117.98 27.2059 L1117.98 72.576 L1110.52 72.576 L1110.52 27.2059 M1110.52 9.54393 L1117.98 9.54393 L1117.98 18.9825 L1110.52 18.9825 L1110.52 9.54393 Z\" fill=\"#000000\" fill-rule=\"evenodd\" fill-opacity=\"1\" /><path clip-path=\"url(#clip760)\" d=\"M1140.94 14.324 L1140.94 27.2059 L1156.3 27.2059 L1156.3 32.9987 L1140.94 32.9987 L1140.94 57.6282 Q1140.94 63.1779 1142.44 64.7578 Q1143.98 66.3376 1148.64 66.3376 L1156.3 66.3376 L1156.3 72.576 L1148.64 72.576 Q1140.01 72.576 1136.73 69.3758 Q1133.45 66.1351 1133.45 57.6282 L1133.45 32.9987 L1127.98 32.9987 L1127.98 27.2059 L1133.45 27.2059 L1133.45 14.324 L1140.94 14.324 Z\" fill=\"#000000\" fill-rule=\"evenodd\" fill-opacity=\"1\" /><path clip-path=\"url(#clip760)\" d=\"M1184.98 76.7889 Q1181.82 84.8907 1178.82 87.3618 Q1175.82 89.8329 1170.8 89.8329 L1164.84 89.8329 L1164.84 83.5945 L1169.22 83.5945 Q1172.3 83.5945 1174 82.1361 Q1175.7 80.6778 1177.77 75.2496 L1179.1 71.8468 L1160.75 27.2059 L1168.65 27.2059 L1182.83 62.6918 L1197.01 27.2059 L1204.91 27.2059 L1184.98 76.7889 Z\" fill=\"#000000\" fill-rule=\"evenodd\" fill-opacity=\"1\" /><path clip-path=\"url(#clip760)\" d=\"M1236.22 27.2059 L1244.12 27.2059 L1258.3 65.2844 L1272.48 27.2059 L1280.38 27.2059 L1263.36 72.576 L1253.24 72.576 L1236.22 27.2059 Z\" fill=\"#000000\" fill-rule=\"evenodd\" fill-opacity=\"1\" /><path clip-path=\"url(#clip760)\" d=\"M1319.59 28.5427 L1319.59 35.5912 Q1316.43 33.9709 1313.03 33.1607 Q1309.62 32.3505 1305.98 32.3505 Q1300.43 32.3505 1297.63 34.0519 Q1294.88 35.7533 1294.88 39.156 Q1294.88 41.7486 1296.86 43.2475 Q1298.85 44.7058 1304.84 46.0426 L1307.4 46.6097 Q1315.34 48.3111 1318.66 51.4303 Q1322.02 54.509 1322.02 60.0587 Q1322.02 66.3781 1317 70.0644 Q1312.01 73.7508 1303.26 73.7508 Q1299.62 73.7508 1295.65 73.0216 Q1291.72 72.3329 1287.34 70.9151 L1287.34 63.2184 Q1291.48 65.3654 1295.49 66.4591 Q1299.5 67.5124 1303.43 67.5124 Q1308.69 67.5124 1311.53 65.73 Q1314.36 63.9071 1314.36 60.6258 Q1314.36 57.5877 1312.3 55.9673 Q1310.27 54.3469 1303.35 52.8481 L1300.75 52.2405 Q1293.83 50.7821 1290.75 47.7845 Q1287.67 44.7463 1287.67 39.4801 Q1287.67 33.0797 1292.21 29.5959 Q1296.74 26.1121 1305.09 26.1121 Q1309.22 26.1121 1312.86 26.7198 Q1316.51 27.3274 1319.59 28.5427 Z\" fill=\"#000000\" fill-rule=\"evenodd\" fill-opacity=\"1\" /><path clip-path=\"url(#clip760)\" d=\"M1359.65 12.096 L1367.88 12.096 L1367.88 48.8377 Q1367.88 58.5599 1371.4 62.8538 Q1374.92 67.1073 1382.82 67.1073 Q1390.68 67.1073 1394.21 62.8538 Q1397.73 58.5599 1397.73 48.8377 L1397.73 12.096 L1405.95 12.096 L1405.95 49.8504 Q1405.95 61.6791 1400.08 67.7149 Q1394.25 73.7508 1382.82 73.7508 Q1371.36 73.7508 1365.49 67.7149 Q1359.65 61.6791 1359.65 49.8504 L1359.65 12.096 Z\" fill=\"#000000\" fill-rule=\"evenodd\" fill-opacity=\"1\" /><path clip-path=\"url(#clip760)\" d=\"M1428.36 14.324 L1428.36 27.2059 L1443.71 27.2059 L1443.71 32.9987 L1428.36 32.9987 L1428.36 57.6282 Q1428.36 63.1779 1429.85 64.7578 Q1431.39 66.3376 1436.05 66.3376 L1443.71 66.3376 L1443.71 72.576 L1436.05 72.576 Q1427.42 72.576 1424.14 69.3758 Q1420.86 66.1351 1420.86 57.6282 L1420.86 32.9987 L1415.39 32.9987 L1415.39 27.2059 L1420.86 27.2059 L1420.86 14.324 L1428.36 14.324 Z\" fill=\"#000000\" fill-rule=\"evenodd\" fill-opacity=\"1\" /><path clip-path=\"url(#clip760)\" d=\"M1453.51 27.2059 L1460.97 27.2059 L1460.97 72.576 L1453.51 72.576 L1453.51 27.2059 M1453.51 9.54393 L1460.97 9.54393 L1460.97 18.9825 L1453.51 18.9825 L1453.51 9.54393 Z\" fill=\"#000000\" fill-rule=\"evenodd\" fill-opacity=\"1\" /><path clip-path=\"url(#clip760)\" d=\"M1476.56 9.54393 L1484.02 9.54393 L1484.02 72.576 L1476.56 72.576 L1476.56 9.54393 Z\" fill=\"#000000\" fill-rule=\"evenodd\" fill-opacity=\"1\" /><path clip-path=\"url(#clip760)\" d=\"M1499.61 27.2059 L1507.07 27.2059 L1507.07 72.576 L1499.61 72.576 L1499.61 27.2059 M1499.61 9.54393 L1507.07 9.54393 L1507.07 18.9825 L1499.61 18.9825 L1499.61 9.54393 Z\" fill=\"#000000\" fill-rule=\"evenodd\" fill-opacity=\"1\" /><path clip-path=\"url(#clip760)\" d=\"M1530.03 14.324 L1530.03 27.2059 L1545.39 27.2059 L1545.39 32.9987 L1530.03 32.9987 L1530.03 57.6282 Q1530.03 63.1779 1531.53 64.7578 Q1533.07 66.3376 1537.73 66.3376 L1545.39 66.3376 L1545.39 72.576 L1537.73 72.576 Q1529.1 72.576 1525.82 69.3758 Q1522.54 66.1351 1522.54 57.6282 L1522.54 32.9987 L1517.07 32.9987 L1517.07 27.2059 L1522.54 27.2059 L1522.54 14.324 L1530.03 14.324 Z\" fill=\"#000000\" fill-rule=\"evenodd\" fill-opacity=\"1\" /><path clip-path=\"url(#clip760)\" d=\"M1574.07 76.7889 Q1570.91 84.8907 1567.91 87.3618 Q1564.91 89.8329 1559.89 89.8329 L1553.93 89.8329 L1553.93 83.5945 L1558.31 83.5945 Q1561.39 83.5945 1563.09 82.1361 Q1564.79 80.6778 1566.86 75.2496 L1568.19 71.8468 L1549.84 27.2059 L1557.74 27.2059 L1571.92 62.6918 L1586.1 27.2059 L1594 27.2059 L1574.07 76.7889 Z\" fill=\"#000000\" fill-rule=\"evenodd\" fill-opacity=\"1\" /><path clip-path=\"url(#clip760)\" d=\"M1622.19 9.62495 Q1616.76 18.942 1614.13 28.0566 Q1611.5 37.1711 1611.5 46.5287 Q1611.5 55.8863 1614.13 65.0818 Q1616.8 74.2369 1622.19 83.5134 L1615.71 83.5134 Q1609.63 73.9938 1606.6 64.7983 Q1603.6 55.6027 1603.6 46.5287 Q1603.6 37.4952 1606.6 28.3401 Q1609.59 19.1851 1615.71 9.62495 L1622.19 9.62495 Z\" fill=\"#000000\" fill-rule=\"evenodd\" fill-opacity=\"1\" /><path clip-path=\"url(#clip760)\" d=\"M1645.16 18.8205 L1645.16 41.5461 L1655.45 41.5461 Q1661.16 41.5461 1664.28 38.5889 Q1667.4 35.6318 1667.4 30.163 Q1667.4 24.7348 1664.28 21.7777 Q1661.16 18.8205 1655.45 18.8205 L1645.16 18.8205 M1636.98 12.096 L1655.45 12.096 Q1665.62 12.096 1670.8 16.714 Q1676.03 21.2916 1676.03 30.163 Q1676.03 39.1155 1670.8 43.6931 Q1665.62 48.2706 1655.45 48.2706 L1645.16 48.2706 L1645.16 72.576 L1636.98 72.576 L1636.98 12.096 Z\" fill=\"#000000\" fill-rule=\"evenodd\" fill-opacity=\"1\" /><path clip-path=\"url(#clip760)\" d=\"M1701.31 32.4315 Q1695.31 32.4315 1691.83 37.1306 Q1688.34 41.7891 1688.34 49.9314 Q1688.34 58.0738 1691.79 62.7728 Q1695.27 67.4314 1701.31 67.4314 Q1707.26 67.4314 1710.74 62.7323 Q1714.23 58.0333 1714.23 49.9314 Q1714.23 41.8701 1710.74 37.1711 Q1707.26 32.4315 1701.31 32.4315 M1701.31 26.1121 Q1711.03 26.1121 1716.58 32.4315 Q1722.13 38.7509 1722.13 49.9314 Q1722.13 61.0714 1716.58 67.4314 Q1711.03 73.7508 1701.31 73.7508 Q1691.54 73.7508 1685.99 67.4314 Q1680.48 61.0714 1680.48 49.9314 Q1680.48 38.7509 1685.99 32.4315 Q1691.54 26.1121 1701.31 26.1121 Z\" fill=\"#000000\" fill-rule=\"evenodd\" fill-opacity=\"1\" /><path clip-path=\"url(#clip760)\" d=\"M1741.69 65.7705 L1741.69 89.8329 L1734.2 89.8329 L1734.2 27.2059 L1741.69 27.2059 L1741.69 34.0924 Q1744.04 30.0415 1747.61 28.0971 Q1751.21 26.1121 1756.2 26.1121 Q1764.46 26.1121 1769.6 32.6746 Q1774.79 39.2371 1774.79 49.9314 Q1774.79 60.6258 1769.6 67.1883 Q1764.46 73.7508 1756.2 73.7508 Q1751.21 73.7508 1747.61 71.8063 Q1744.04 69.8214 1741.69 65.7705 M1767.05 49.9314 Q1767.05 41.7081 1763.65 37.0496 Q1760.29 32.3505 1754.37 32.3505 Q1748.46 32.3505 1745.06 37.0496 Q1741.69 41.7081 1741.69 49.9314 Q1741.69 58.1548 1745.06 62.8538 Q1748.46 67.5124 1754.37 67.5124 Q1760.29 67.5124 1763.65 62.8538 Q1767.05 58.1548 1767.05 49.9314 Z\" fill=\"#000000\" fill-rule=\"evenodd\" fill-opacity=\"1\" /><path clip-path=\"url(#clip760)\" d=\"M1788.12 34.9026 L1840.05 34.9026 L1840.05 41.7081 L1788.12 41.7081 L1788.12 34.9026 M1788.12 51.4303 L1840.05 51.4303 L1840.05 58.3168 L1788.12 58.3168 L1788.12 51.4303 Z\" fill=\"#000000\" fill-rule=\"evenodd\" fill-opacity=\"1\" /><path clip-path=\"url(#clip760)\" d=\"M1857.79 12.096 L1889.92 12.096 L1889.92 18.9825 L1865.29 18.9825 L1865.29 33.8088 Q1867.07 33.2012 1868.85 32.9176 Q1870.63 32.5936 1872.42 32.5936 Q1882.54 32.5936 1888.46 38.1433 Q1894.37 43.6931 1894.37 53.1722 Q1894.37 62.9348 1888.3 68.3631 Q1882.22 73.7508 1871.16 73.7508 Q1867.35 73.7508 1863.38 73.1026 Q1859.45 72.4545 1855.24 71.1582 L1855.24 62.9348 Q1858.89 64.9198 1862.78 65.892 Q1866.66 66.8642 1871 66.8642 Q1878.01 66.8642 1882.1 63.1779 Q1886.19 59.4916 1886.19 53.1722 Q1886.19 46.8528 1882.1 43.1664 Q1878.01 39.4801 1871 39.4801 Q1867.72 39.4801 1864.44 40.2093 Q1861.2 40.9384 1857.79 42.4778 L1857.79 12.096 Z\" fill=\"#000000\" fill-rule=\"evenodd\" fill-opacity=\"1\" /><path clip-path=\"url(#clip760)\" d=\"M1927.99 17.4837 Q1921.68 17.4837 1918.47 23.7221 Q1915.32 29.92 1915.32 42.3968 Q1915.32 54.833 1918.47 61.0714 Q1921.68 67.2693 1927.99 67.2693 Q1934.35 67.2693 1937.51 61.0714 Q1940.71 54.833 1940.71 42.3968 Q1940.71 29.92 1937.51 23.7221 Q1934.35 17.4837 1927.99 17.4837 M1927.99 11.0023 Q1938.16 11.0023 1943.51 19.0636 Q1948.9 27.0843 1948.9 42.3968 Q1948.9 57.6687 1943.51 65.73 Q1938.16 73.7508 1927.99 73.7508 Q1917.83 73.7508 1912.44 65.73 Q1907.09 57.6687 1907.09 42.3968 Q1907.09 27.0843 1912.44 19.0636 Q1917.83 11.0023 1927.99 11.0023 Z\" fill=\"#000000\" fill-rule=\"evenodd\" fill-opacity=\"1\" /><path clip-path=\"url(#clip760)\" d=\"M1980.78 17.4837 Q1974.46 17.4837 1971.26 23.7221 Q1968.1 29.92 1968.1 42.3968 Q1968.1 54.833 1971.26 61.0714 Q1974.46 67.2693 1980.78 67.2693 Q1987.14 67.2693 1990.3 61.0714 Q1993.5 54.833 1993.5 42.3968 Q1993.5 29.92 1990.3 23.7221 Q1987.14 17.4837 1980.78 17.4837 M1980.78 11.0023 Q1990.95 11.0023 1996.29 19.0636 Q2001.68 27.0843 2001.68 42.3968 Q2001.68 57.6687 1996.29 65.73 Q1990.95 73.7508 1980.78 73.7508 Q1970.61 73.7508 1965.22 65.73 Q1959.88 57.6687 1959.88 42.3968 Q1959.88 27.0843 1965.22 19.0636 Q1970.61 11.0023 1980.78 11.0023 Z\" fill=\"#000000\" fill-rule=\"evenodd\" fill-opacity=\"1\" /><path clip-path=\"url(#clip760)\" d=\"M2033.56 17.4837 Q2027.24 17.4837 2024.04 23.7221 Q2020.88 29.92 2020.88 42.3968 Q2020.88 54.833 2024.04 61.0714 Q2027.24 67.2693 2033.56 67.2693 Q2039.92 67.2693 2043.08 61.0714 Q2046.28 54.833 2046.28 42.3968 Q2046.28 29.92 2043.08 23.7221 Q2039.92 17.4837 2033.56 17.4837 M2033.56 11.0023 Q2043.73 11.0023 2049.08 19.0636 Q2054.46 27.0843 2054.46 42.3968 Q2054.46 57.6687 2049.08 65.73 Q2043.73 73.7508 2033.56 73.7508 Q2023.39 73.7508 2018.01 65.73 Q2012.66 57.6687 2012.66 42.3968 Q2012.66 27.0843 2018.01 19.0636 Q2023.39 11.0023 2033.56 11.0023 Z\" fill=\"#000000\" fill-rule=\"evenodd\" fill-opacity=\"1\" /><path clip-path=\"url(#clip760)\" d=\"M2066.62 9.62495 L2073.1 9.62495 Q2079.17 19.1851 2082.17 28.3401 Q2085.21 37.4952 2085.21 46.5287 Q2085.21 55.6027 2082.17 64.7983 Q2079.17 73.9938 2073.1 83.5134 L2066.62 83.5134 Q2072 74.2369 2074.64 65.0818 Q2077.31 55.8863 2077.31 46.5287 Q2077.31 37.1711 2074.64 28.0566 Q2072 18.942 2066.62 9.62495 Z\" fill=\"#000000\" fill-rule=\"evenodd\" fill-opacity=\"1\" /><polyline clip-path=\"url(#clip762)\" style=\"stroke:#009af9; stroke-linecap:round; stroke-linejoin:round; stroke-width:4; stroke-opacity:1; fill:none\" points=\"\n",
       "  2292.79,1386.4 2282.75,1386.36 2272.71,1386.31 2262.66,1386.29 2252.62,1386.21 2242.58,1386.21 2232.53,1386.16 2222.49,1386.11 2212.44,1386.06 2202.4,1386 \n",
       "  2192.36,1385.99 2182.31,1385.92 2172.27,1385.87 2162.23,1385.78 2152.18,1385.75 2142.14,1385.67 2132.09,1385.58 2122.05,1385.52 2112.01,1385.48 2101.96,1385.39 \n",
       "  2091.92,1385.33 2081.88,1385.29 2071.83,1385.21 2061.79,1385.11 2051.74,1385.01 2041.7,1384.92 2031.66,1384.8 2021.61,1384.54 2011.57,1384.41 2001.53,1384.27 \n",
       "  1991.48,1384 1981.44,1383.69 1971.39,1382.98 1961.35,1175.02 1951.31,1132.36 1941.26,1088.55 1931.22,1076.05 1921.18,1048.39 1911.13,1036.37 1901.09,1016.46 \n",
       "  1891.04,1006.99 1881,988.535 1870.96,991.112 1860.91,962.151 1850.87,968.578 1840.83,951.549 1830.78,944.667 1820.74,932.572 1810.69,923.644 1800.65,911.045 \n",
       "  1790.61,893.272 1780.56,895.798 1770.52,892.097 1760.48,886.099 1750.43,866.63 1740.39,850.369 1730.34,854.878 1720.3,836.902 1710.26,835.972 1700.21,828.913 \n",
       "  1690.17,820.094 1680.13,804.523 1670.08,812.566 1660.04,801.736 1649.99,790.64 1639.95,789.454 1629.91,782.461 1619.86,775.588 1609.82,767.925 1599.78,758.174 \n",
       "  1589.73,742.608 1579.69,729.677 1569.64,731.894 1559.6,739.854 1549.56,718.636 1539.51,720.592 1529.47,717.408 1519.43,706.472 1509.38,703.268 1499.34,699.481 \n",
       "  1489.29,683.804 1479.25,684.617 1469.21,673.374 1459.16,669.529 1449.12,664.473 1439.08,653.685 1429.03,660.463 1418.99,653.126 1408.94,641.991 1398.9,631.417 \n",
       "  1388.86,631.876 1378.81,628.158 1368.77,626.663 1358.73,611.306 1348.68,612.443 1338.64,605.408 1328.59,600.784 1318.55,592.735 1308.51,592.438 1298.46,582.681 \n",
       "  1288.42,587.503 1278.38,576.383 1268.33,567.225 1258.29,568.508 1248.24,557.463 1238.2,549.763 1228.16,549.764 1218.11,542.804 1208.07,532.536 1198.02,534.781 \n",
       "  1187.98,529.628 1177.94,529.434 1167.89,520.965 1157.85,514.308 1147.81,509.83 1137.76,504.166 1127.72,502.633 1117.67,494.008 1107.63,484.095 1097.59,489.074 \n",
       "  1087.54,483.778 1077.5,478.502 1067.46,479.261 1057.41,467.612 1047.37,456.122 1037.32,462.263 1027.28,458.267 1017.24,451.042 1007.19,443.966 997.15,439.892 \n",
       "  987.106,439.218 977.062,430.156 967.019,429.661 956.975,421.871 946.931,416.26 936.887,416.282 926.843,413.637 916.8,410.815 906.756,403.841 896.712,396.789 \n",
       "  886.668,392.089 876.625,385.299 866.581,384.917 856.537,382.33 846.493,379.512 836.45,373.874 826.406,371.623 816.362,357.721 806.318,356.777 796.275,360.133 \n",
       "  786.231,354.14 776.187,342.346 766.143,344.981 756.1,344.185 746.056,333.368 736.012,332.591 725.968,328.278 715.925,320.344 705.881,315.931 695.837,315.456 \n",
       "  685.793,305.254 675.75,303.834 665.706,302.023 655.662,303.008 645.618,291.732 635.574,294.215 625.531,286.588 615.487,282.153 605.443,282.859 595.399,272.01 \n",
       "  585.356,270.1 575.312,268.417 565.268,263.407 555.224,261.188 545.181,252.809 535.137,250.27 525.093,248.693 515.049,242.224 505.006,240.1 494.962,236.298 \n",
       "  484.918,232.081 474.874,225.282 464.831,223.2 454.787,220.09 444.743,217.033 434.699,214.427 424.656,209.947 414.612,202.363 404.568,201.748 394.524,197.929 \n",
       "  384.481,195.106 374.437,190.08 364.393,187.147 354.349,182.586 344.305,180.108 334.262,174.688 324.218,171.151 314.174,167.406 304.13,163.945 294.087,160.256 \n",
       "  \n",
       "  \"/>\n",
       "<polyline clip-path=\"url(#clip762)\" style=\"stroke:#e26f46; stroke-linecap:round; stroke-linejoin:round; stroke-width:4; stroke-opacity:1; fill:none\" points=\"\n",
       "  2292.79,1386.39 2282.75,1386.36 2272.71,1386.32 2262.66,1386.29 2252.62,1386.23 2242.58,1386.19 2232.53,1386.15 2222.49,1386.1 2212.44,1386.07 2202.4,1386 \n",
       "  2192.36,1386 2182.31,1385.9 2172.27,1385.84 2162.23,1385.82 2152.18,1385.72 2142.14,1385.66 2132.09,1385.64 2122.05,1385.5 2112.01,1385.5 2101.96,1385.38 \n",
       "  2091.92,1385.34 2081.88,1385.22 2071.83,1385.21 2061.79,1385.13 2051.74,1384.98 2041.7,1384.88 2031.66,1384.74 2021.61,1384.55 2011.57,1384.45 2001.53,1384.1 \n",
       "  1991.48,1384.08 1981.44,1383.58 1971.39,1382.59 1961.35,1276.82 1951.31,1251.53 1941.26,1234.9 1931.22,1220.46 1921.18,1211.09 1911.13,1195.86 1901.09,1186.19 \n",
       "  1891.04,1167.75 1881,1160.76 1870.96,1151.45 1860.91,1139.63 1850.87,1135.6 1840.83,1123.08 1830.78,1111.84 1820.74,1107.77 1810.69,1097.39 1800.65,1091.05 \n",
       "  1790.61,1080.41 1780.56,1075.06 1770.52,1065.19 1760.48,1056.42 1750.43,1045.29 1740.39,1047.64 1730.34,1030.31 1720.3,1025.11 1710.26,1021.2 1700.21,1009.63 \n",
       "  1690.17,1003.13 1680.13,999.652 1670.08,984.684 1660.04,980.671 1649.99,978.84 1639.95,965.556 1629.91,962.139 1619.86,958.399 1609.82,946.02 1599.78,938.516 \n",
       "  1589.73,933.299 1579.69,922.888 1569.64,919.449 1559.6,910.655 1549.56,906.685 1539.51,901.502 1529.47,894.161 1519.43,880.712 1509.38,877.732 1499.34,867.188 \n",
       "  1489.29,864.922 1479.25,858.39 1469.21,852.449 1459.16,844.81 1449.12,841.332 1439.08,830.495 1429.03,822.819 1418.99,819.473 1408.94,810.818 1398.9,809.055 \n",
       "  1388.86,800.815 1378.81,796.61 1368.77,788.874 1358.73,777.101 1348.68,775.104 1338.64,768.696 1328.59,762.071 1318.55,756.15 1308.51,747.049 1298.46,741.305 \n",
       "  1288.42,738.294 1278.38,730.552 1268.33,726.915 1258.29,714.876 1248.24,712.409 1238.2,706.8 1228.16,701.31 1218.11,699.325 1208.07,683.738 1198.02,682.318 \n",
       "  1187.98,673.817 1177.94,671.819 1167.89,664.671 1157.85,655.135 1147.81,647.918 1137.76,644.264 1127.72,639.174 1117.67,633.17 1107.63,626.17 1097.59,621.992 \n",
       "  1087.54,615.358 1077.5,608.121 1067.46,600.671 1057.41,595.595 1047.37,592.537 1037.32,582.962 1027.28,577.644 1017.24,573.145 1007.19,565.044 997.15,560.817 \n",
       "  987.106,556.653 977.062,548.27 967.019,543.78 956.975,536.702 946.931,531.121 936.887,524.426 926.843,519.888 916.8,510.715 906.756,509.174 896.712,501.625 \n",
       "  886.668,492.718 876.625,487.804 866.581,483.758 856.537,478.112 846.493,472.992 836.45,466.047 826.406,459.881 816.362,452.242 806.318,449.671 796.275,444.497 \n",
       "  786.231,435.78 776.187,429.189 766.143,425.883 756.1,421.746 746.056,415.664 736.012,408.818 725.968,403.105 715.925,394.809 705.881,390.901 695.837,384.178 \n",
       "  685.793,379.1 675.75,374.082 665.706,369.121 655.662,363.323 645.618,357.964 635.574,352.247 625.531,345.766 615.487,341.038 605.443,334.946 595.399,330.049 \n",
       "  585.356,323.1 575.312,317.447 565.268,311.366 555.224,305.589 545.181,298.237 535.137,295.934 525.093,288.813 515.049,282.22 505.006,278.579 494.962,271.659 \n",
       "  484.918,265.443 474.874,261.221 464.831,255.199 454.787,249.412 444.743,244.912 434.699,238.194 424.656,232.509 414.612,227.643 404.568,220.813 394.524,216.224 \n",
       "  384.481,209.531 374.437,204.801 364.393,199.862 354.349,192.91 344.305,187.284 334.262,182.902 324.218,176.393 314.174,171.564 304.13,165.637 294.087,160.256 \n",
       "  \n",
       "  \"/>\n",
       "<polyline clip-path=\"url(#clip762)\" style=\"stroke:#3da44d; stroke-linecap:round; stroke-linejoin:round; stroke-width:4; stroke-opacity:1; fill:none\" points=\"\n",
       "  2292.79,782.59 2282.75,769.064 2272.71,773.007 2262.66,773.816 2252.62,763.586 2242.58,786.468 2232.53,779.63 2222.49,777.871 2212.44,781.17 2202.4,772.056 \n",
       "  2192.36,778.814 2182.31,777.443 2172.27,769.325 2162.23,783.082 2152.18,779.621 2142.14,780.131 2132.09,780.866 2122.05,775.509 2112.01,779.02 2101.96,776.98 \n",
       "  2091.92,781.675 2081.88,773.178 2071.83,783.608 2061.79,779.158 2051.74,773.105 2041.7,780.819 2031.66,790.269 2021.61,771.518 2011.57,781.045 2001.53,777.028 \n",
       "  1991.48,770.028 1981.44,780.826 1971.39,777.085 1961.35,775.075 1951.31,775.083 1941.26,769.09 1931.22,774.201 1921.18,765.874 1911.13,754.559 1901.09,756.829 \n",
       "  1891.04,752.266 1881,739.934 1870.96,738.543 1860.91,734.597 1850.87,727.907 1840.83,737.269 1830.78,736.316 1820.74,723.393 1810.69,716.57 1800.65,715.497 \n",
       "  1790.61,713.462 1780.56,702.866 1770.52,707.401 1760.48,704.212 1750.43,693.109 1740.39,687.352 1730.34,686.173 1720.3,675.411 1710.26,682.629 1700.21,680.804 \n",
       "  1690.17,674.549 1680.13,674.514 1670.08,666.801 1660.04,660.467 1649.99,658.458 1639.95,662.634 1629.91,643.736 1619.86,644.828 1609.82,641.38 1599.78,646.157 \n",
       "  1589.73,636.403 1579.69,628.538 1569.64,633.56 1559.6,628.682 1549.56,614.355 1539.51,615.695 1529.47,615.3 1519.43,605.937 1509.38,602.078 1499.34,607.184 \n",
       "  1489.29,602.979 1479.25,594.613 1469.21,595.417 1459.16,591.316 1449.12,587.487 1439.08,580.459 1429.03,575.038 1418.99,573.772 1408.94,572.454 1398.9,566.836 \n",
       "  1388.86,560.59 1378.81,559.309 1368.77,553.912 1358.73,550.423 1348.68,543.314 1338.64,538.877 1328.59,545.654 1318.55,542.313 1308.51,532.631 1298.46,531.151 \n",
       "  1288.42,526.485 1278.38,523.894 1268.33,519.19 1258.29,512.299 1248.24,515.371 1238.2,508.269 1228.16,506.754 1218.11,492.766 1208.07,498.721 1198.02,493.302 \n",
       "  1187.98,484.489 1177.94,482.98 1167.89,480.81 1157.85,471.998 1147.81,471.77 1137.76,471.093 1127.72,467.694 1117.67,463.734 1107.63,467.91 1097.59,452.229 \n",
       "  1087.54,447.858 1077.5,448.226 1067.46,448.289 1057.41,441.091 1047.37,437.125 1037.32,430.684 1027.28,425.868 1017.24,422.76 1007.19,426.963 997.15,418.717 \n",
       "  987.106,418.365 977.062,412.306 967.019,405.853 956.975,401.888 946.931,398.339 936.887,403.966 926.843,387.17 916.8,391.597 906.756,383.608 896.712,379.464 \n",
       "  886.668,378.71 876.625,371.433 866.581,372.064 856.537,365.783 846.493,367.708 836.45,360.5 826.406,356.437 816.362,350.823 806.318,348.039 796.275,345.202 \n",
       "  786.231,347.696 776.187,336.039 766.143,330.914 756.1,328.792 746.056,318.059 736.012,325.381 725.968,319.99 715.925,319.357 705.881,311.068 695.837,307.697 \n",
       "  685.793,301.147 675.75,303.519 665.706,296.545 655.662,294.207 645.618,286.586 635.574,288.017 625.531,280.723 615.487,280.269 605.443,272.444 595.399,270.494 \n",
       "  585.356,266.478 575.312,261.954 565.268,258.139 555.224,254.602 545.181,251.284 535.137,249.577 525.093,248.271 515.049,241.601 505.006,238.795 494.962,234.722 \n",
       "  484.918,229.572 474.874,225.654 464.831,223.344 454.787,221.304 444.743,215.534 434.699,209.66 424.656,206.467 414.612,204.815 404.568,201.702 394.524,198.835 \n",
       "  384.481,193.156 374.437,188.436 364.393,184.744 354.349,181.921 344.305,180.19 334.262,176.907 324.218,171.368 314.174,167.406 304.13,164.558 294.087,160.256 \n",
       "  \n",
       "  \"/>\n",
       "<path clip-path=\"url(#clip760)\" d=\"\n",
       "M917.526 1379.86 L1340.52 1379.86 L1340.52 1172.5 L917.526 1172.5  Z\n",
       "  \" fill=\"#ffffff\" fill-rule=\"evenodd\" fill-opacity=\"1\"/>\n",
       "<polyline clip-path=\"url(#clip760)\" style=\"stroke:#000000; stroke-linecap:round; stroke-linejoin:round; stroke-width:4; stroke-opacity:1; fill:none\" points=\"\n",
       "  917.526,1379.86 1340.52,1379.86 1340.52,1172.5 917.526,1172.5 917.526,1379.86 \n",
       "  \"/>\n",
       "<polyline clip-path=\"url(#clip760)\" style=\"stroke:#009af9; stroke-linecap:round; stroke-linejoin:round; stroke-width:4; stroke-opacity:1; fill:none\" points=\"\n",
       "  941.067,1224.34 1082.31,1224.34 \n",
       "  \"/>\n",
       "<path clip-path=\"url(#clip760)\" d=\"M1105.85 1207.06 L1110.55 1207.06 L1110.55 1228.05 Q1110.55 1233.61 1112.56 1236.06 Q1114.58 1238.49 1119.09 1238.49 Q1123.58 1238.49 1125.59 1236.06 Q1127.61 1233.61 1127.61 1228.05 L1127.61 1207.06 L1132.31 1207.06 L1132.31 1228.63 Q1132.31 1235.39 1128.95 1238.84 Q1125.62 1242.29 1119.09 1242.29 Q1112.54 1242.29 1109.18 1238.84 Q1105.85 1235.39 1105.85 1228.63 L1105.85 1207.06 Z\" fill=\"#000000\" fill-rule=\"evenodd\" fill-opacity=\"1\" /><path clip-path=\"url(#clip760)\" d=\"M1145.11 1208.33 L1145.11 1215.69 L1153.88 1215.69 L1153.88 1219 L1145.11 1219 L1145.11 1233.07 Q1145.11 1236.25 1145.96 1237.15 Q1146.84 1238.05 1149.51 1238.05 L1153.88 1238.05 L1153.88 1241.62 L1149.51 1241.62 Q1144.58 1241.62 1142.7 1239.79 Q1140.83 1237.94 1140.83 1233.07 L1140.83 1219 L1137.7 1219 L1137.7 1215.69 L1140.83 1215.69 L1140.83 1208.33 L1145.11 1208.33 Z\" fill=\"#000000\" fill-rule=\"evenodd\" fill-opacity=\"1\" /><path clip-path=\"url(#clip760)\" d=\"M1159.48 1215.69 L1163.74 1215.69 L1163.74 1241.62 L1159.48 1241.62 L1159.48 1215.69 M1159.48 1205.6 L1163.74 1205.6 L1163.74 1210.99 L1159.48 1210.99 L1159.48 1205.6 Z\" fill=\"#000000\" fill-rule=\"evenodd\" fill-opacity=\"1\" /><path clip-path=\"url(#clip760)\" d=\"M1172.65 1205.6 L1176.91 1205.6 L1176.91 1241.62 L1172.65 1241.62 L1172.65 1205.6 Z\" fill=\"#000000\" fill-rule=\"evenodd\" fill-opacity=\"1\" /><path clip-path=\"url(#clip760)\" d=\"M1185.83 1215.69 L1190.08 1215.69 L1190.08 1241.62 L1185.83 1241.62 L1185.83 1215.69 M1185.83 1205.6 L1190.08 1205.6 L1190.08 1210.99 L1185.83 1210.99 L1185.83 1205.6 Z\" fill=\"#000000\" fill-rule=\"evenodd\" fill-opacity=\"1\" /><path clip-path=\"url(#clip760)\" d=\"M1203.21 1208.33 L1203.21 1215.69 L1211.98 1215.69 L1211.98 1219 L1203.21 1219 L1203.21 1233.07 Q1203.21 1236.25 1204.07 1237.15 Q1204.95 1238.05 1207.61 1238.05 L1211.98 1238.05 L1211.98 1241.62 L1207.61 1241.62 Q1202.68 1241.62 1200.8 1239.79 Q1198.93 1237.94 1198.93 1233.07 L1198.93 1219 L1195.8 1219 L1195.8 1215.69 L1198.93 1215.69 L1198.93 1208.33 L1203.21 1208.33 Z\" fill=\"#000000\" fill-rule=\"evenodd\" fill-opacity=\"1\" /><path clip-path=\"url(#clip760)\" d=\"M1228.37 1244.02 Q1226.57 1248.65 1224.85 1250.07 Q1223.14 1251.48 1220.27 1251.48 L1216.87 1251.48 L1216.87 1247.91 L1219.37 1247.91 Q1221.13 1247.91 1222.1 1247.08 Q1223.07 1246.25 1224.25 1243.14 L1225.02 1241.2 L1214.53 1215.69 L1219.04 1215.69 L1227.14 1235.97 L1235.25 1215.69 L1239.76 1215.69 L1228.37 1244.02 Z\" fill=\"#000000\" fill-rule=\"evenodd\" fill-opacity=\"1\" /><polyline clip-path=\"url(#clip760)\" style=\"stroke:#e26f46; stroke-linecap:round; stroke-linejoin:round; stroke-width:4; stroke-opacity:1; fill:none\" points=\"\n",
       "  941.067,1276.18 1082.31,1276.18 \n",
       "  \"/>\n",
       "<path clip-path=\"url(#clip760)\" d=\"M1110.52 1262.74 L1110.52 1275.72 L1116.4 1275.72 Q1119.67 1275.72 1121.45 1274.04 Q1123.23 1272.35 1123.23 1269.22 Q1123.23 1266.12 1121.45 1264.43 Q1119.67 1262.74 1116.4 1262.74 L1110.52 1262.74 M1105.85 1258.9 L1116.4 1258.9 Q1122.21 1258.9 1125.18 1261.54 Q1128.16 1264.15 1128.16 1269.22 Q1128.16 1274.34 1125.18 1276.95 Q1122.21 1279.57 1116.4 1279.57 L1110.52 1279.57 L1110.52 1293.46 L1105.85 1293.46 L1105.85 1258.9 Z\" fill=\"#000000\" fill-rule=\"evenodd\" fill-opacity=\"1\" /><path clip-path=\"url(#clip760)\" d=\"M1133.21 1267.53 L1137.47 1267.53 L1137.47 1293.46 L1133.21 1293.46 L1133.21 1267.53 M1133.21 1257.44 L1137.47 1257.44 L1137.47 1262.83 L1133.21 1262.83 L1133.21 1257.44 Z\" fill=\"#000000\" fill-rule=\"evenodd\" fill-opacity=\"1\" /><path clip-path=\"url(#clip760)\" d=\"M1165.04 1268.53 L1165.04 1272.51 Q1163.23 1271.51 1161.4 1271.03 Q1159.6 1270.52 1157.75 1270.52 Q1153.6 1270.52 1151.31 1273.16 Q1149.02 1275.77 1149.02 1280.52 Q1149.02 1285.26 1151.31 1287.9 Q1153.6 1290.52 1157.75 1290.52 Q1159.6 1290.52 1161.4 1290.03 Q1163.23 1289.52 1165.04 1288.53 L1165.04 1292.46 Q1163.26 1293.29 1161.33 1293.71 Q1159.44 1294.13 1157.28 1294.13 Q1151.43 1294.13 1147.98 1290.45 Q1144.53 1286.77 1144.53 1280.52 Q1144.53 1274.17 1148 1270.54 Q1151.5 1266.91 1157.56 1266.91 Q1159.53 1266.91 1161.4 1267.32 Q1163.28 1267.72 1165.04 1268.53 Z\" fill=\"#000000\" fill-rule=\"evenodd\" fill-opacity=\"1\" /><path clip-path=\"url(#clip760)\" d=\"M1172.28 1257.44 L1176.57 1257.44 L1176.57 1278.71 L1189.27 1267.53 L1194.71 1267.53 L1180.96 1279.66 L1195.29 1293.46 L1189.74 1293.46 L1176.57 1280.79 L1176.57 1293.46 L1172.28 1293.46 L1172.28 1257.44 Z\" fill=\"#000000\" fill-rule=\"evenodd\" fill-opacity=\"1\" /><path clip-path=\"url(#clip760)\" d=\"M1209 1295.86 Q1207.19 1300.49 1205.48 1301.91 Q1203.77 1303.32 1200.89 1303.32 L1197.49 1303.32 L1197.49 1299.75 L1199.99 1299.75 Q1201.75 1299.75 1202.72 1298.92 Q1203.7 1298.09 1204.88 1294.98 L1205.64 1293.04 L1195.15 1267.53 L1199.67 1267.53 L1207.77 1287.81 L1215.87 1267.53 L1220.39 1267.53 L1209 1295.86 Z\" fill=\"#000000\" fill-rule=\"evenodd\" fill-opacity=\"1\" /><polyline clip-path=\"url(#clip760)\" style=\"stroke:#3da44d; stroke-linecap:round; stroke-linejoin:round; stroke-width:4; stroke-opacity:1; fill:none\" points=\"\n",
       "  941.067,1328.02 1082.31,1328.02 \n",
       "  \"/>\n",
       "<path clip-path=\"url(#clip760)\" d=\"M1122.24 1329.09 Q1123.74 1329.6 1125.15 1331.27 Q1126.59 1332.94 1128.02 1335.85 L1132.77 1345.3 L1127.75 1345.3 L1123.33 1336.43 Q1121.61 1332.96 1119.99 1331.82 Q1118.4 1330.69 1115.62 1330.69 L1110.52 1330.69 L1110.52 1345.3 L1105.85 1345.3 L1105.85 1310.74 L1116.4 1310.74 Q1122.33 1310.74 1125.25 1313.21 Q1128.16 1315.69 1128.16 1320.69 Q1128.16 1323.95 1126.64 1326.11 Q1125.13 1328.26 1122.24 1329.09 M1110.52 1314.58 L1110.52 1326.85 L1116.4 1326.85 Q1119.78 1326.85 1121.5 1325.3 Q1123.23 1323.72 1123.23 1320.69 Q1123.23 1317.66 1121.5 1316.13 Q1119.78 1314.58 1116.4 1314.58 L1110.52 1314.58 Z\" fill=\"#000000\" fill-rule=\"evenodd\" fill-opacity=\"1\" /><path clip-path=\"url(#clip760)\" d=\"M1149.34 1332.26 Q1144.18 1332.26 1142.19 1333.44 Q1140.2 1334.63 1140.2 1337.47 Q1140.2 1339.74 1141.68 1341.08 Q1143.19 1342.4 1145.76 1342.4 Q1149.3 1342.4 1151.43 1339.9 Q1153.58 1337.38 1153.58 1333.21 L1153.58 1332.26 L1149.34 1332.26 M1157.84 1330.5 L1157.84 1345.3 L1153.58 1345.3 L1153.58 1341.36 Q1152.12 1343.72 1149.95 1344.86 Q1147.77 1345.97 1144.62 1345.97 Q1140.64 1345.97 1138.28 1343.75 Q1135.94 1341.5 1135.94 1337.75 Q1135.94 1333.38 1138.86 1331.15 Q1141.8 1328.93 1147.61 1328.93 L1153.58 1328.93 L1153.58 1328.51 Q1153.58 1325.57 1151.64 1323.98 Q1149.71 1322.36 1146.22 1322.36 Q1144 1322.36 1141.89 1322.89 Q1139.78 1323.42 1137.84 1324.49 L1137.84 1320.55 Q1140.18 1319.65 1142.38 1319.21 Q1144.58 1318.75 1146.66 1318.75 Q1152.28 1318.75 1155.06 1321.66 Q1157.84 1324.58 1157.84 1330.5 Z\" fill=\"#000000\" fill-rule=\"evenodd\" fill-opacity=\"1\" /><path clip-path=\"url(#clip760)\" d=\"M1188.16 1329.65 L1188.16 1345.3 L1183.9 1345.3 L1183.9 1329.79 Q1183.9 1326.11 1182.47 1324.28 Q1181.03 1322.45 1178.16 1322.45 Q1174.71 1322.45 1172.72 1324.65 Q1170.73 1326.85 1170.73 1330.64 L1170.73 1345.3 L1166.45 1345.3 L1166.45 1319.37 L1170.73 1319.37 L1170.73 1323.4 Q1172.26 1321.06 1174.32 1319.9 Q1176.4 1318.75 1179.11 1318.75 Q1183.58 1318.75 1185.87 1321.52 Q1188.16 1324.28 1188.16 1329.65 Z\" fill=\"#000000\" fill-rule=\"evenodd\" fill-opacity=\"1\" /><path clip-path=\"url(#clip760)\" d=\"M1213.72 1323.31 L1213.72 1309.28 L1217.98 1309.28 L1217.98 1345.3 L1213.72 1345.3 L1213.72 1341.41 Q1212.38 1343.72 1210.32 1344.86 Q1208.28 1345.97 1205.41 1345.97 Q1200.71 1345.97 1197.75 1342.22 Q1194.81 1338.47 1194.81 1332.36 Q1194.81 1326.25 1197.75 1322.5 Q1200.71 1318.75 1205.41 1318.75 Q1208.28 1318.75 1210.32 1319.88 Q1212.38 1320.99 1213.72 1323.31 M1199.21 1332.36 Q1199.21 1337.06 1201.13 1339.74 Q1203.07 1342.4 1206.45 1342.4 Q1209.83 1342.4 1211.77 1339.74 Q1213.72 1337.06 1213.72 1332.36 Q1213.72 1327.66 1211.77 1325 Q1209.83 1322.31 1206.45 1322.31 Q1203.07 1322.31 1201.13 1325 Q1199.21 1327.66 1199.21 1332.36 Z\" fill=\"#000000\" fill-rule=\"evenodd\" fill-opacity=\"1\" /><path clip-path=\"url(#clip760)\" d=\"M1236.8 1322.36 Q1233.37 1322.36 1231.38 1325.04 Q1229.39 1327.7 1229.39 1332.36 Q1229.39 1337.01 1231.36 1339.69 Q1233.35 1342.36 1236.8 1342.36 Q1240.2 1342.36 1242.19 1339.67 Q1244.18 1336.99 1244.18 1332.36 Q1244.18 1327.75 1242.19 1325.06 Q1240.2 1322.36 1236.8 1322.36 M1236.8 1318.75 Q1242.35 1318.75 1245.52 1322.36 Q1248.7 1325.97 1248.7 1332.36 Q1248.7 1338.72 1245.52 1342.36 Q1242.35 1345.97 1236.8 1345.97 Q1231.22 1345.97 1228.05 1342.36 Q1224.9 1338.72 1224.9 1332.36 Q1224.9 1325.97 1228.05 1322.36 Q1231.22 1318.75 1236.8 1318.75 Z\" fill=\"#000000\" fill-rule=\"evenodd\" fill-opacity=\"1\" /><path clip-path=\"url(#clip760)\" d=\"M1275.94 1324.35 Q1277.54 1321.48 1279.76 1320.11 Q1281.98 1318.75 1284.99 1318.75 Q1289.04 1318.75 1291.24 1321.59 Q1293.44 1324.42 1293.44 1329.65 L1293.44 1345.3 L1289.16 1345.3 L1289.16 1329.79 Q1289.16 1326.06 1287.84 1324.25 Q1286.52 1322.45 1283.81 1322.45 Q1280.5 1322.45 1278.58 1324.65 Q1276.66 1326.85 1276.66 1330.64 L1276.66 1345.3 L1272.38 1345.3 L1272.38 1329.79 Q1272.38 1326.04 1271.06 1324.25 Q1269.74 1322.45 1266.98 1322.45 Q1263.72 1322.45 1261.8 1324.67 Q1259.88 1326.87 1259.88 1330.64 L1259.88 1345.3 L1255.59 1345.3 L1255.59 1319.37 L1259.88 1319.37 L1259.88 1323.4 Q1261.33 1321.01 1263.37 1319.88 Q1265.41 1318.75 1268.21 1318.75 Q1271.03 1318.75 1273 1320.18 Q1274.99 1321.62 1275.94 1324.35 Z\" fill=\"#000000\" fill-rule=\"evenodd\" fill-opacity=\"1\" /></svg>\n"
      ],
      "text/html": [
       "<?xml version=\"1.0\" encoding=\"utf-8\"?>\n",
       "<svg xmlns=\"http://www.w3.org/2000/svg\" xmlns:xlink=\"http://www.w3.org/1999/xlink\" width=\"600\" height=\"400\" viewBox=\"0 0 2400 1600\">\n",
       "<defs>\n",
       "  <clipPath id=\"clip810\">\n",
       "    <rect x=\"0\" y=\"0\" width=\"2400\" height=\"1600\"/>\n",
       "  </clipPath>\n",
       "</defs>\n",
       "<path clip-path=\"url(#clip810)\" d=\"\n",
       "M0 1600 L2400 1600 L2400 0 L0 0  Z\n",
       "  \" fill=\"#ffffff\" fill-rule=\"evenodd\" fill-opacity=\"1\"/>\n",
       "<defs>\n",
       "  <clipPath id=\"clip811\">\n",
       "    <rect x=\"480\" y=\"0\" width=\"1681\" height=\"1600\"/>\n",
       "  </clipPath>\n",
       "</defs>\n",
       "<path clip-path=\"url(#clip810)\" d=\"\n",
       "M234.125 1423.18 L2352.76 1423.18 L2352.76 123.472 L234.125 123.472  Z\n",
       "  \" fill=\"#ffffff\" fill-rule=\"evenodd\" fill-opacity=\"1\"/>\n",
       "<defs>\n",
       "  <clipPath id=\"clip812\">\n",
       "    <rect x=\"234\" y=\"123\" width=\"2120\" height=\"1301\"/>\n",
       "  </clipPath>\n",
       "</defs>\n",
       "<polyline clip-path=\"url(#clip812)\" style=\"stroke:#000000; stroke-linecap:round; stroke-linejoin:round; stroke-width:2; stroke-opacity:0.1; fill:none\" points=\"\n",
       "  294.087,1423.18 294.087,123.472 \n",
       "  \"/>\n",
       "<polyline clip-path=\"url(#clip812)\" style=\"stroke:#000000; stroke-linecap:round; stroke-linejoin:round; stroke-width:2; stroke-opacity:0.1; fill:none\" points=\"\n",
       "  796.275,1423.18 796.275,123.472 \n",
       "  \"/>\n",
       "<polyline clip-path=\"url(#clip812)\" style=\"stroke:#000000; stroke-linecap:round; stroke-linejoin:round; stroke-width:2; stroke-opacity:0.1; fill:none\" points=\"\n",
       "  1298.46,1423.18 1298.46,123.472 \n",
       "  \"/>\n",
       "<polyline clip-path=\"url(#clip812)\" style=\"stroke:#000000; stroke-linecap:round; stroke-linejoin:round; stroke-width:2; stroke-opacity:0.1; fill:none\" points=\"\n",
       "  1800.65,1423.18 1800.65,123.472 \n",
       "  \"/>\n",
       "<polyline clip-path=\"url(#clip812)\" style=\"stroke:#000000; stroke-linecap:round; stroke-linejoin:round; stroke-width:2; stroke-opacity:0.1; fill:none\" points=\"\n",
       "  2302.84,1423.18 2302.84,123.472 \n",
       "  \"/>\n",
       "<polyline clip-path=\"url(#clip810)\" style=\"stroke:#000000; stroke-linecap:round; stroke-linejoin:round; stroke-width:4; stroke-opacity:1; fill:none\" points=\"\n",
       "  234.125,1423.18 2352.76,1423.18 \n",
       "  \"/>\n",
       "<polyline clip-path=\"url(#clip810)\" style=\"stroke:#000000; stroke-linecap:round; stroke-linejoin:round; stroke-width:4; stroke-opacity:1; fill:none\" points=\"\n",
       "  294.087,1423.18 294.087,1404.28 \n",
       "  \"/>\n",
       "<polyline clip-path=\"url(#clip810)\" style=\"stroke:#000000; stroke-linecap:round; stroke-linejoin:round; stroke-width:4; stroke-opacity:1; fill:none\" points=\"\n",
       "  796.275,1423.18 796.275,1404.28 \n",
       "  \"/>\n",
       "<polyline clip-path=\"url(#clip810)\" style=\"stroke:#000000; stroke-linecap:round; stroke-linejoin:round; stroke-width:4; stroke-opacity:1; fill:none\" points=\"\n",
       "  1298.46,1423.18 1298.46,1404.28 \n",
       "  \"/>\n",
       "<polyline clip-path=\"url(#clip810)\" style=\"stroke:#000000; stroke-linecap:round; stroke-linejoin:round; stroke-width:4; stroke-opacity:1; fill:none\" points=\"\n",
       "  1800.65,1423.18 1800.65,1404.28 \n",
       "  \"/>\n",
       "<polyline clip-path=\"url(#clip810)\" style=\"stroke:#000000; stroke-linecap:round; stroke-linejoin:round; stroke-width:4; stroke-opacity:1; fill:none\" points=\"\n",
       "  2302.84,1423.18 2302.84,1404.28 \n",
       "  \"/>\n",
       "<path clip-path=\"url(#clip810)\" d=\"M294.087 1454.1 Q290.476 1454.1 288.647 1457.66 Q286.841 1461.2 286.841 1468.33 Q286.841 1475.44 288.647 1479.01 Q290.476 1482.55 294.087 1482.55 Q297.721 1482.55 299.526 1479.01 Q301.355 1475.44 301.355 1468.33 Q301.355 1461.2 299.526 1457.66 Q297.721 1454.1 294.087 1454.1 M294.087 1450.39 Q299.897 1450.39 302.952 1455 Q306.031 1459.58 306.031 1468.33 Q306.031 1477.06 302.952 1481.67 Q299.897 1486.25 294.087 1486.25 Q288.277 1486.25 285.198 1481.67 Q282.142 1477.06 282.142 1468.33 Q282.142 1459.58 285.198 1455 Q288.277 1450.39 294.087 1450.39 Z\" fill=\"#000000\" fill-rule=\"evenodd\" fill-opacity=\"1\" /><path clip-path=\"url(#clip810)\" d=\"M770.974 1451.02 L789.33 1451.02 L789.33 1454.96 L775.256 1454.96 L775.256 1463.43 Q776.275 1463.08 777.293 1462.92 Q778.312 1462.73 779.33 1462.73 Q785.117 1462.73 788.497 1465.9 Q791.876 1469.08 791.876 1474.49 Q791.876 1480.07 788.404 1483.17 Q784.932 1486.25 778.613 1486.25 Q776.437 1486.25 774.168 1485.88 Q771.923 1485.51 769.516 1484.77 L769.516 1480.07 Q771.599 1481.2 773.821 1481.76 Q776.043 1482.32 778.52 1482.32 Q782.525 1482.32 784.863 1480.21 Q787.201 1478.1 787.201 1474.49 Q787.201 1470.88 784.863 1468.77 Q782.525 1466.67 778.52 1466.67 Q776.645 1466.67 774.77 1467.08 Q772.918 1467.5 770.974 1468.38 L770.974 1451.02 Z\" fill=\"#000000\" fill-rule=\"evenodd\" fill-opacity=\"1\" /><path clip-path=\"url(#clip810)\" d=\"M811.089 1454.1 Q807.478 1454.1 805.65 1457.66 Q803.844 1461.2 803.844 1468.33 Q803.844 1475.44 805.65 1479.01 Q807.478 1482.55 811.089 1482.55 Q814.724 1482.55 816.529 1479.01 Q818.358 1475.44 818.358 1468.33 Q818.358 1461.2 816.529 1457.66 Q814.724 1454.1 811.089 1454.1 M811.089 1450.39 Q816.9 1450.39 819.955 1455 Q823.034 1459.58 823.034 1468.33 Q823.034 1477.06 819.955 1481.67 Q816.9 1486.25 811.089 1486.25 Q805.279 1486.25 802.201 1481.67 Q799.145 1477.06 799.145 1468.33 Q799.145 1459.58 802.201 1455 Q805.279 1450.39 811.089 1450.39 Z\" fill=\"#000000\" fill-rule=\"evenodd\" fill-opacity=\"1\" /><path clip-path=\"url(#clip810)\" d=\"M1258.07 1481.64 L1265.71 1481.64 L1265.71 1455.28 L1257.4 1456.95 L1257.4 1452.69 L1265.66 1451.02 L1270.34 1451.02 L1270.34 1481.64 L1277.98 1481.64 L1277.98 1485.58 L1258.07 1485.58 L1258.07 1481.64 Z\" fill=\"#000000\" fill-rule=\"evenodd\" fill-opacity=\"1\" /><path clip-path=\"url(#clip810)\" d=\"M1297.42 1454.1 Q1293.81 1454.1 1291.98 1457.66 Q1290.18 1461.2 1290.18 1468.33 Q1290.18 1475.44 1291.98 1479.01 Q1293.81 1482.55 1297.42 1482.55 Q1301.06 1482.55 1302.86 1479.01 Q1304.69 1475.44 1304.69 1468.33 Q1304.69 1461.2 1302.86 1457.66 Q1301.06 1454.1 1297.42 1454.1 M1297.42 1450.39 Q1303.23 1450.39 1306.29 1455 Q1309.37 1459.58 1309.37 1468.33 Q1309.37 1477.06 1306.29 1481.67 Q1303.23 1486.25 1297.42 1486.25 Q1291.61 1486.25 1288.53 1481.67 Q1285.48 1477.06 1285.48 1468.33 Q1285.48 1459.58 1288.53 1455 Q1291.61 1450.39 1297.42 1450.39 Z\" fill=\"#000000\" fill-rule=\"evenodd\" fill-opacity=\"1\" /><path clip-path=\"url(#clip810)\" d=\"M1327.58 1454.1 Q1323.97 1454.1 1322.14 1457.66 Q1320.34 1461.2 1320.34 1468.33 Q1320.34 1475.44 1322.14 1479.01 Q1323.97 1482.55 1327.58 1482.55 Q1331.22 1482.55 1333.02 1479.01 Q1334.85 1475.44 1334.85 1468.33 Q1334.85 1461.2 1333.02 1457.66 Q1331.22 1454.1 1327.58 1454.1 M1327.58 1450.39 Q1333.39 1450.39 1336.45 1455 Q1339.53 1459.58 1339.53 1468.33 Q1339.53 1477.06 1336.45 1481.67 Q1333.39 1486.25 1327.58 1486.25 Q1321.77 1486.25 1318.69 1481.67 Q1315.64 1477.06 1315.64 1468.33 Q1315.64 1459.58 1318.69 1455 Q1321.77 1450.39 1327.58 1450.39 Z\" fill=\"#000000\" fill-rule=\"evenodd\" fill-opacity=\"1\" /><path clip-path=\"url(#clip810)\" d=\"M1760.26 1481.64 L1767.9 1481.64 L1767.9 1455.28 L1759.59 1456.95 L1759.59 1452.69 L1767.85 1451.02 L1772.53 1451.02 L1772.53 1481.64 L1780.16 1481.64 L1780.16 1485.58 L1760.26 1485.58 L1760.26 1481.64 Z\" fill=\"#000000\" fill-rule=\"evenodd\" fill-opacity=\"1\" /><path clip-path=\"url(#clip810)\" d=\"M1789.66 1451.02 L1808.01 1451.02 L1808.01 1454.96 L1793.94 1454.96 L1793.94 1463.43 Q1794.96 1463.08 1795.97 1462.92 Q1796.99 1462.73 1798.01 1462.73 Q1803.8 1462.73 1807.18 1465.9 Q1810.56 1469.08 1810.56 1474.49 Q1810.56 1480.07 1807.09 1483.17 Q1803.61 1486.25 1797.29 1486.25 Q1795.12 1486.25 1792.85 1485.88 Q1790.6 1485.51 1788.2 1484.77 L1788.2 1480.07 Q1790.28 1481.2 1792.5 1481.76 Q1794.72 1482.32 1797.2 1482.32 Q1801.21 1482.32 1803.54 1480.21 Q1805.88 1478.1 1805.88 1474.49 Q1805.88 1470.88 1803.54 1468.77 Q1801.21 1466.67 1797.2 1466.67 Q1795.33 1466.67 1793.45 1467.08 Q1791.6 1467.5 1789.66 1468.38 L1789.66 1451.02 Z\" fill=\"#000000\" fill-rule=\"evenodd\" fill-opacity=\"1\" /><path clip-path=\"url(#clip810)\" d=\"M1829.77 1454.1 Q1826.16 1454.1 1824.33 1457.66 Q1822.53 1461.2 1822.53 1468.33 Q1822.53 1475.44 1824.33 1479.01 Q1826.16 1482.55 1829.77 1482.55 Q1833.4 1482.55 1835.21 1479.01 Q1837.04 1475.44 1837.04 1468.33 Q1837.04 1461.2 1835.21 1457.66 Q1833.4 1454.1 1829.77 1454.1 M1829.77 1450.39 Q1835.58 1450.39 1838.64 1455 Q1841.72 1459.58 1841.72 1468.33 Q1841.72 1477.06 1838.64 1481.67 Q1835.58 1486.25 1829.77 1486.25 Q1823.96 1486.25 1820.88 1481.67 Q1817.83 1477.06 1817.83 1468.33 Q1817.83 1459.58 1820.88 1455 Q1823.96 1450.39 1829.77 1450.39 Z\" fill=\"#000000\" fill-rule=\"evenodd\" fill-opacity=\"1\" /><path clip-path=\"url(#clip810)\" d=\"M2266.53 1481.64 L2282.85 1481.64 L2282.85 1485.58 L2260.91 1485.58 L2260.91 1481.64 Q2263.57 1478.89 2268.15 1474.26 Q2272.76 1469.61 2273.94 1468.27 Q2276.18 1465.74 2277.06 1464.01 Q2277.97 1462.25 2277.97 1460.56 Q2277.97 1457.8 2276.02 1456.07 Q2274.1 1454.33 2271 1454.33 Q2268.8 1454.33 2266.35 1455.09 Q2263.92 1455.86 2261.14 1457.41 L2261.14 1452.69 Q2263.96 1451.55 2266.42 1450.97 Q2268.87 1450.39 2270.91 1450.39 Q2276.28 1450.39 2279.47 1453.08 Q2282.66 1455.77 2282.66 1460.26 Q2282.66 1462.39 2281.85 1464.31 Q2281.07 1466.2 2278.96 1468.8 Q2278.38 1469.47 2275.28 1472.69 Q2272.18 1475.88 2266.53 1481.64 Z\" fill=\"#000000\" fill-rule=\"evenodd\" fill-opacity=\"1\" /><path clip-path=\"url(#clip810)\" d=\"M2302.66 1454.1 Q2299.05 1454.1 2297.23 1457.66 Q2295.42 1461.2 2295.42 1468.33 Q2295.42 1475.44 2297.23 1479.01 Q2299.05 1482.55 2302.66 1482.55 Q2306.3 1482.55 2308.1 1479.01 Q2309.93 1475.44 2309.93 1468.33 Q2309.93 1461.2 2308.1 1457.66 Q2306.3 1454.1 2302.66 1454.1 M2302.66 1450.39 Q2308.47 1450.39 2311.53 1455 Q2314.61 1459.58 2314.61 1468.33 Q2314.61 1477.06 2311.53 1481.67 Q2308.47 1486.25 2302.66 1486.25 Q2296.85 1486.25 2293.78 1481.67 Q2290.72 1477.06 2290.72 1468.33 Q2290.72 1459.58 2293.78 1455 Q2296.85 1450.39 2302.66 1450.39 Z\" fill=\"#000000\" fill-rule=\"evenodd\" fill-opacity=\"1\" /><path clip-path=\"url(#clip810)\" d=\"M2332.83 1454.1 Q2329.22 1454.1 2327.39 1457.66 Q2325.58 1461.2 2325.58 1468.33 Q2325.58 1475.44 2327.39 1479.01 Q2329.22 1482.55 2332.83 1482.55 Q2336.46 1482.55 2338.27 1479.01 Q2340.1 1475.44 2340.1 1468.33 Q2340.1 1461.2 2338.27 1457.66 Q2336.46 1454.1 2332.83 1454.1 M2332.83 1450.39 Q2338.64 1450.39 2341.69 1455 Q2344.77 1459.58 2344.77 1468.33 Q2344.77 1477.06 2341.69 1481.67 Q2338.64 1486.25 2332.83 1486.25 Q2327.02 1486.25 2323.94 1481.67 Q2320.88 1477.06 2320.88 1468.33 Q2320.88 1459.58 2323.94 1455 Q2327.02 1450.39 2332.83 1450.39 Z\" fill=\"#000000\" fill-rule=\"evenodd\" fill-opacity=\"1\" /><path clip-path=\"url(#clip810)\" d=\"M1043.7 1520.52 L1050.13 1520.52 L1050.13 1540 L1073.49 1540 L1073.49 1520.52 L1079.92 1520.52 L1079.92 1568.04 L1073.49 1568.04 L1073.49 1545.41 L1050.13 1545.41 L1050.13 1568.04 L1043.7 1568.04 L1043.7 1520.52 Z\" fill=\"#000000\" fill-rule=\"evenodd\" fill-opacity=\"1\" /><path clip-path=\"url(#clip810)\" d=\"M1106.27 1536.5 Q1101.56 1536.5 1098.83 1540.19 Q1096.09 1543.85 1096.09 1550.25 Q1096.09 1556.65 1098.79 1560.34 Q1101.53 1564 1106.27 1564 Q1110.95 1564 1113.69 1560.31 Q1116.43 1556.62 1116.43 1550.25 Q1116.43 1543.92 1113.69 1540.23 Q1110.95 1536.5 1106.27 1536.5 M1106.27 1531.54 Q1113.91 1531.54 1118.27 1536.5 Q1122.63 1541.47 1122.63 1550.25 Q1122.63 1559 1118.27 1564 Q1113.91 1568.97 1106.27 1568.97 Q1098.6 1568.97 1094.24 1564 Q1089.91 1559 1089.91 1550.25 Q1089.91 1541.47 1094.24 1536.5 Q1098.6 1531.54 1106.27 1531.54 Z\" fill=\"#000000\" fill-rule=\"evenodd\" fill-opacity=\"1\" /><path clip-path=\"url(#clip810)\" d=\"M1131.74 1553.98 L1131.74 1532.4 L1137.59 1532.4 L1137.59 1553.75 Q1137.59 1558.81 1139.57 1561.36 Q1141.54 1563.87 1145.49 1563.87 Q1150.23 1563.87 1152.97 1560.85 Q1155.73 1557.83 1155.73 1552.61 L1155.73 1532.4 L1161.59 1532.4 L1161.59 1568.04 L1155.73 1568.04 L1155.73 1562.57 Q1153.6 1565.82 1150.77 1567.41 Q1147.97 1568.97 1144.24 1568.97 Q1138.1 1568.97 1134.92 1565.15 Q1131.74 1561.33 1131.74 1553.98 M1146.47 1531.54 L1146.47 1531.54 Z\" fill=\"#000000\" fill-rule=\"evenodd\" fill-opacity=\"1\" /><path clip-path=\"url(#clip810)\" d=\"M1196.38 1533.45 L1196.38 1538.98 Q1193.9 1537.71 1191.22 1537.07 Q1188.55 1536.44 1185.69 1536.44 Q1181.32 1536.44 1179.13 1537.77 Q1176.96 1539.11 1176.96 1541.79 Q1176.96 1543.82 1178.52 1545 Q1180.08 1546.15 1184.79 1547.2 L1186.8 1547.64 Q1193.04 1548.98 1195.65 1551.43 Q1198.29 1553.85 1198.29 1558.21 Q1198.29 1563.17 1194.34 1566.07 Q1190.43 1568.97 1183.55 1568.97 Q1180.69 1568.97 1177.57 1568.39 Q1174.48 1567.85 1171.04 1566.74 L1171.04 1560.69 Q1174.29 1562.38 1177.44 1563.24 Q1180.59 1564.07 1183.68 1564.07 Q1187.82 1564.07 1190.05 1562.66 Q1192.27 1561.23 1192.27 1558.65 Q1192.27 1556.27 1190.65 1554.99 Q1189.06 1553.72 1183.62 1552.54 L1181.58 1552.07 Q1176.14 1550.92 1173.72 1548.56 Q1171.3 1546.18 1171.3 1542.04 Q1171.3 1537.01 1174.86 1534.27 Q1178.43 1531.54 1184.98 1531.54 Q1188.23 1531.54 1191.1 1532.01 Q1193.96 1532.49 1196.38 1533.45 Z\" fill=\"#000000\" fill-rule=\"evenodd\" fill-opacity=\"1\" /><path clip-path=\"url(#clip810)\" d=\"M1207.62 1532.4 L1213.47 1532.4 L1213.47 1568.04 L1207.62 1568.04 L1207.62 1532.4 M1207.62 1518.52 L1213.47 1518.52 L1213.47 1525.93 L1207.62 1525.93 L1207.62 1518.52 Z\" fill=\"#000000\" fill-rule=\"evenodd\" fill-opacity=\"1\" /><path clip-path=\"url(#clip810)\" d=\"M1255.36 1546.53 L1255.36 1568.04 L1249.5 1568.04 L1249.5 1546.72 Q1249.5 1541.66 1247.53 1539.14 Q1245.55 1536.63 1241.61 1536.63 Q1236.87 1536.63 1234.13 1539.65 Q1231.39 1542.68 1231.39 1547.9 L1231.39 1568.04 L1225.5 1568.04 L1225.5 1532.4 L1231.39 1532.4 L1231.39 1537.93 Q1233.49 1534.72 1236.32 1533.13 Q1239.19 1531.54 1242.91 1531.54 Q1249.06 1531.54 1252.21 1535.36 Q1255.36 1539.14 1255.36 1546.53 Z\" fill=\"#000000\" fill-rule=\"evenodd\" fill-opacity=\"1\" /><path clip-path=\"url(#clip810)\" d=\"M1290.5 1549.81 Q1290.5 1543.44 1287.85 1539.94 Q1285.24 1536.44 1280.5 1536.44 Q1275.79 1536.44 1273.15 1539.94 Q1270.54 1543.44 1270.54 1549.81 Q1270.54 1556.14 1273.15 1559.64 Q1275.79 1563.14 1280.5 1563.14 Q1285.24 1563.14 1287.85 1559.64 Q1290.5 1556.14 1290.5 1549.81 M1296.35 1563.62 Q1296.35 1572.72 1292.31 1577.15 Q1288.27 1581.6 1279.93 1581.6 Q1276.84 1581.6 1274.1 1581.13 Q1271.37 1580.68 1268.79 1579.72 L1268.79 1574.03 Q1271.37 1575.43 1273.88 1576.1 Q1276.4 1576.76 1279.01 1576.76 Q1284.77 1576.76 1287.63 1573.74 Q1290.5 1570.75 1290.5 1564.67 L1290.5 1561.77 Q1288.68 1564.92 1285.85 1566.48 Q1283.02 1568.04 1279.07 1568.04 Q1272.51 1568.04 1268.5 1563.05 Q1264.49 1558.05 1264.49 1549.81 Q1264.49 1541.53 1268.5 1536.53 Q1272.51 1531.54 1279.07 1531.54 Q1283.02 1531.54 1285.85 1533.1 Q1288.68 1534.66 1290.5 1537.81 L1290.5 1532.4 L1296.35 1532.4 L1296.35 1563.62 Z\" fill=\"#000000\" fill-rule=\"evenodd\" fill-opacity=\"1\" /><path clip-path=\"url(#clip810)\" d=\"M1357.88 1522.08 L1357.88 1528.35 Q1354.22 1526.6 1350.97 1525.74 Q1347.72 1524.88 1344.7 1524.88 Q1339.45 1524.88 1336.58 1526.92 Q1333.75 1528.96 1333.75 1532.71 Q1333.75 1535.87 1335.63 1537.49 Q1337.54 1539.08 1342.82 1540.07 L1346.71 1540.86 Q1353.9 1542.23 1357.3 1545.7 Q1360.74 1549.14 1360.74 1554.93 Q1360.74 1561.84 1356.1 1565.4 Q1351.48 1568.97 1342.54 1568.97 Q1339.16 1568.97 1335.34 1568.2 Q1331.56 1567.44 1327.48 1565.94 L1327.48 1559.32 Q1331.4 1561.52 1335.15 1562.63 Q1338.91 1563.75 1342.54 1563.75 Q1348.04 1563.75 1351.03 1561.58 Q1354.03 1559.42 1354.03 1555.41 Q1354.03 1551.91 1351.86 1549.93 Q1349.73 1547.96 1344.83 1546.97 L1340.91 1546.21 Q1333.72 1544.78 1330.51 1541.72 Q1327.29 1538.67 1327.29 1533.22 Q1327.29 1526.92 1331.71 1523.29 Q1336.17 1519.66 1343.97 1519.66 Q1347.31 1519.66 1350.78 1520.27 Q1354.25 1520.87 1357.88 1522.08 Z\" fill=\"#000000\" fill-rule=\"evenodd\" fill-opacity=\"1\" /><path clip-path=\"url(#clip810)\" d=\"M1369.91 1553.98 L1369.91 1532.4 L1375.77 1532.4 L1375.77 1553.75 Q1375.77 1558.81 1377.74 1561.36 Q1379.71 1563.87 1383.66 1563.87 Q1388.4 1563.87 1391.14 1560.85 Q1393.91 1557.83 1393.91 1552.61 L1393.91 1532.4 L1399.76 1532.4 L1399.76 1568.04 L1393.91 1568.04 L1393.91 1562.57 Q1391.77 1565.82 1388.94 1567.41 Q1386.14 1568.97 1382.42 1568.97 Q1376.27 1568.97 1373.09 1565.15 Q1369.91 1561.33 1369.91 1553.98 M1384.65 1531.54 L1384.65 1531.54 Z\" fill=\"#000000\" fill-rule=\"evenodd\" fill-opacity=\"1\" /><path clip-path=\"url(#clip810)\" d=\"M1417.49 1562.7 L1417.49 1581.6 L1411.6 1581.6 L1411.6 1532.4 L1417.49 1532.4 L1417.49 1537.81 Q1419.34 1534.62 1422.14 1533.1 Q1424.97 1531.54 1428.89 1531.54 Q1435.38 1531.54 1439.42 1536.69 Q1443.5 1541.85 1443.5 1550.25 Q1443.5 1558.65 1439.42 1563.81 Q1435.38 1568.97 1428.89 1568.97 Q1424.97 1568.97 1422.14 1567.44 Q1419.34 1565.88 1417.49 1562.7 M1437.42 1550.25 Q1437.42 1543.79 1434.74 1540.13 Q1432.1 1536.44 1427.45 1536.44 Q1422.81 1536.44 1420.13 1540.13 Q1417.49 1543.79 1417.49 1550.25 Q1417.49 1556.71 1420.13 1560.4 Q1422.81 1564.07 1427.45 1564.07 Q1432.1 1564.07 1434.74 1560.4 Q1437.42 1556.71 1437.42 1550.25 Z\" fill=\"#000000\" fill-rule=\"evenodd\" fill-opacity=\"1\" /><path clip-path=\"url(#clip810)\" d=\"M1458.87 1562.7 L1458.87 1581.6 L1452.98 1581.6 L1452.98 1532.4 L1458.87 1532.4 L1458.87 1537.81 Q1460.72 1534.62 1463.52 1533.1 Q1466.35 1531.54 1470.26 1531.54 Q1476.76 1531.54 1480.8 1536.69 Q1484.87 1541.85 1484.87 1550.25 Q1484.87 1558.65 1480.8 1563.81 Q1476.76 1568.97 1470.26 1568.97 Q1466.35 1568.97 1463.52 1567.44 Q1460.72 1565.88 1458.87 1562.7 M1478.79 1550.25 Q1478.79 1543.79 1476.12 1540.13 Q1473.48 1536.44 1468.83 1536.44 Q1464.18 1536.44 1461.51 1540.13 Q1458.87 1543.79 1458.87 1550.25 Q1458.87 1556.71 1461.51 1560.4 Q1464.18 1564.07 1468.83 1564.07 Q1473.48 1564.07 1476.12 1560.4 Q1478.79 1556.71 1478.79 1550.25 Z\" fill=\"#000000\" fill-rule=\"evenodd\" fill-opacity=\"1\" /><path clip-path=\"url(#clip810)\" d=\"M1494.58 1518.52 L1500.44 1518.52 L1500.44 1568.04 L1494.58 1568.04 L1494.58 1518.52 Z\" fill=\"#000000\" fill-rule=\"evenodd\" fill-opacity=\"1\" /><path clip-path=\"url(#clip810)\" d=\"M1527.52 1571.35 Q1525.04 1577.72 1522.69 1579.66 Q1520.33 1581.6 1516.38 1581.6 L1511.7 1581.6 L1511.7 1576.7 L1515.14 1576.7 Q1517.56 1576.7 1518.9 1575.56 Q1520.23 1574.41 1521.86 1570.14 L1522.91 1567.47 L1508.49 1532.4 L1514.7 1532.4 L1525.84 1560.28 L1536.98 1532.4 L1543.18 1532.4 L1527.52 1571.35 Z\" fill=\"#000000\" fill-rule=\"evenodd\" fill-opacity=\"1\" /><polyline clip-path=\"url(#clip812)\" style=\"stroke:#000000; stroke-linecap:round; stroke-linejoin:round; stroke-width:2; stroke-opacity:0.1; fill:none\" points=\"\n",
       "  234.125,1392.71 2352.76,1392.71 \n",
       "  \"/>\n",
       "<polyline clip-path=\"url(#clip812)\" style=\"stroke:#000000; stroke-linecap:round; stroke-linejoin:round; stroke-width:2; stroke-opacity:0.1; fill:none\" points=\"\n",
       "  234.125,1086.13 2352.76,1086.13 \n",
       "  \"/>\n",
       "<polyline clip-path=\"url(#clip812)\" style=\"stroke:#000000; stroke-linecap:round; stroke-linejoin:round; stroke-width:2; stroke-opacity:0.1; fill:none\" points=\"\n",
       "  234.125,779.549 2352.76,779.549 \n",
       "  \"/>\n",
       "<polyline clip-path=\"url(#clip812)\" style=\"stroke:#000000; stroke-linecap:round; stroke-linejoin:round; stroke-width:2; stroke-opacity:0.1; fill:none\" points=\"\n",
       "  234.125,472.968 2352.76,472.968 \n",
       "  \"/>\n",
       "<polyline clip-path=\"url(#clip812)\" style=\"stroke:#000000; stroke-linecap:round; stroke-linejoin:round; stroke-width:2; stroke-opacity:0.1; fill:none\" points=\"\n",
       "  234.125,166.388 2352.76,166.388 \n",
       "  \"/>\n",
       "<polyline clip-path=\"url(#clip810)\" style=\"stroke:#000000; stroke-linecap:round; stroke-linejoin:round; stroke-width:4; stroke-opacity:1; fill:none\" points=\"\n",
       "  234.125,1423.18 234.125,123.472 \n",
       "  \"/>\n",
       "<polyline clip-path=\"url(#clip810)\" style=\"stroke:#000000; stroke-linecap:round; stroke-linejoin:round; stroke-width:4; stroke-opacity:1; fill:none\" points=\"\n",
       "  234.125,1392.71 253.023,1392.71 \n",
       "  \"/>\n",
       "<polyline clip-path=\"url(#clip810)\" style=\"stroke:#000000; stroke-linecap:round; stroke-linejoin:round; stroke-width:4; stroke-opacity:1; fill:none\" points=\"\n",
       "  234.125,1086.13 253.023,1086.13 \n",
       "  \"/>\n",
       "<polyline clip-path=\"url(#clip810)\" style=\"stroke:#000000; stroke-linecap:round; stroke-linejoin:round; stroke-width:4; stroke-opacity:1; fill:none\" points=\"\n",
       "  234.125,779.549 253.023,779.549 \n",
       "  \"/>\n",
       "<polyline clip-path=\"url(#clip810)\" style=\"stroke:#000000; stroke-linecap:round; stroke-linejoin:round; stroke-width:4; stroke-opacity:1; fill:none\" points=\"\n",
       "  234.125,472.968 253.023,472.968 \n",
       "  \"/>\n",
       "<polyline clip-path=\"url(#clip810)\" style=\"stroke:#000000; stroke-linecap:round; stroke-linejoin:round; stroke-width:4; stroke-opacity:1; fill:none\" points=\"\n",
       "  234.125,166.388 253.023,166.388 \n",
       "  \"/>\n",
       "<path clip-path=\"url(#clip810)\" d=\"M186.181 1378.51 Q182.57 1378.51 180.741 1382.07 Q178.936 1385.62 178.936 1392.74 Q178.936 1399.85 180.741 1403.42 Q182.57 1406.96 186.181 1406.96 Q189.815 1406.96 191.621 1403.42 Q193.45 1399.85 193.45 1392.74 Q193.45 1385.62 191.621 1382.07 Q189.815 1378.51 186.181 1378.51 M186.181 1374.8 Q191.991 1374.8 195.047 1379.41 Q198.125 1383.99 198.125 1392.74 Q198.125 1401.47 195.047 1406.08 Q191.991 1410.66 186.181 1410.66 Q180.371 1410.66 177.292 1406.08 Q174.237 1401.47 174.237 1392.74 Q174.237 1383.99 177.292 1379.41 Q180.371 1374.8 186.181 1374.8 Z\" fill=\"#000000\" fill-rule=\"evenodd\" fill-opacity=\"1\" /><path clip-path=\"url(#clip810)\" d=\"M146.066 1068.85 L164.422 1068.85 L164.422 1072.78 L150.348 1072.78 L150.348 1081.26 Q151.366 1080.91 152.385 1080.75 Q153.403 1080.56 154.422 1080.56 Q160.209 1080.56 163.589 1083.73 Q166.968 1086.9 166.968 1092.32 Q166.968 1097.9 163.496 1101 Q160.024 1104.08 153.704 1104.08 Q151.528 1104.08 149.26 1103.71 Q147.015 1103.34 144.607 1102.6 L144.607 1097.9 Q146.691 1099.03 148.913 1099.59 Q151.135 1100.15 153.612 1100.15 Q157.616 1100.15 159.954 1098.04 Q162.292 1095.93 162.292 1092.32 Q162.292 1088.71 159.954 1086.6 Q157.616 1084.5 153.612 1084.5 Q151.737 1084.5 149.862 1084.91 Q148.01 1085.33 146.066 1086.21 L146.066 1068.85 Z\" fill=\"#000000\" fill-rule=\"evenodd\" fill-opacity=\"1\" /><path clip-path=\"url(#clip810)\" d=\"M186.181 1071.93 Q182.57 1071.93 180.741 1075.49 Q178.936 1079.03 178.936 1086.16 Q178.936 1093.27 180.741 1096.84 Q182.57 1100.38 186.181 1100.38 Q189.815 1100.38 191.621 1096.84 Q193.45 1093.27 193.45 1086.16 Q193.45 1079.03 191.621 1075.49 Q189.815 1071.93 186.181 1071.93 M186.181 1068.22 Q191.991 1068.22 195.047 1072.83 Q198.125 1077.41 198.125 1086.16 Q198.125 1094.89 195.047 1099.5 Q191.991 1104.08 186.181 1104.08 Q180.371 1104.08 177.292 1099.5 Q174.237 1094.89 174.237 1086.16 Q174.237 1077.41 177.292 1072.83 Q180.371 1068.22 186.181 1068.22 Z\" fill=\"#000000\" fill-rule=\"evenodd\" fill-opacity=\"1\" /><path clip-path=\"url(#clip810)\" d=\"M116.668 792.894 L124.306 792.894 L124.306 766.528 L115.996 768.195 L115.996 763.936 L124.26 762.269 L128.936 762.269 L128.936 792.894 L136.575 792.894 L136.575 796.829 L116.668 796.829 L116.668 792.894 Z\" fill=\"#000000\" fill-rule=\"evenodd\" fill-opacity=\"1\" /><path clip-path=\"url(#clip810)\" d=\"M156.019 765.348 Q152.408 765.348 150.579 768.912 Q148.774 772.454 148.774 779.584 Q148.774 786.69 150.579 790.255 Q152.408 793.797 156.019 793.797 Q159.653 793.797 161.459 790.255 Q163.288 786.69 163.288 779.584 Q163.288 772.454 161.459 768.912 Q159.653 765.348 156.019 765.348 M156.019 761.644 Q161.829 761.644 164.885 766.25 Q167.964 770.834 167.964 779.584 Q167.964 788.31 164.885 792.917 Q161.829 797.5 156.019 797.5 Q150.209 797.5 147.13 792.917 Q144.075 788.31 144.075 779.584 Q144.075 770.834 147.13 766.25 Q150.209 761.644 156.019 761.644 Z\" fill=\"#000000\" fill-rule=\"evenodd\" fill-opacity=\"1\" /><path clip-path=\"url(#clip810)\" d=\"M186.181 765.348 Q182.57 765.348 180.741 768.912 Q178.936 772.454 178.936 779.584 Q178.936 786.69 180.741 790.255 Q182.57 793.797 186.181 793.797 Q189.815 793.797 191.621 790.255 Q193.45 786.69 193.45 779.584 Q193.45 772.454 191.621 768.912 Q189.815 765.348 186.181 765.348 M186.181 761.644 Q191.991 761.644 195.047 766.25 Q198.125 770.834 198.125 779.584 Q198.125 788.31 195.047 792.917 Q191.991 797.5 186.181 797.5 Q180.371 797.5 177.292 792.917 Q174.237 788.31 174.237 779.584 Q174.237 770.834 177.292 766.25 Q180.371 761.644 186.181 761.644 Z\" fill=\"#000000\" fill-rule=\"evenodd\" fill-opacity=\"1\" /><path clip-path=\"url(#clip810)\" d=\"M116.668 486.313 L124.306 486.313 L124.306 459.948 L115.996 461.614 L115.996 457.355 L124.26 455.688 L128.936 455.688 L128.936 486.313 L136.575 486.313 L136.575 490.248 L116.668 490.248 L116.668 486.313 Z\" fill=\"#000000\" fill-rule=\"evenodd\" fill-opacity=\"1\" /><path clip-path=\"url(#clip810)\" d=\"M146.066 455.688 L164.422 455.688 L164.422 459.624 L150.348 459.624 L150.348 468.096 Q151.366 467.749 152.385 467.587 Q153.403 467.401 154.422 467.401 Q160.209 467.401 163.589 470.573 Q166.968 473.744 166.968 479.161 Q166.968 484.739 163.496 487.841 Q160.024 490.92 153.704 490.92 Q151.528 490.92 149.26 490.549 Q147.015 490.179 144.607 489.438 L144.607 484.739 Q146.691 485.873 148.913 486.429 Q151.135 486.985 153.612 486.985 Q157.616 486.985 159.954 484.878 Q162.292 482.772 162.292 479.161 Q162.292 475.549 159.954 473.443 Q157.616 471.337 153.612 471.337 Q151.737 471.337 149.862 471.753 Q148.01 472.17 146.066 473.049 L146.066 455.688 Z\" fill=\"#000000\" fill-rule=\"evenodd\" fill-opacity=\"1\" /><path clip-path=\"url(#clip810)\" d=\"M186.181 458.767 Q182.57 458.767 180.741 462.332 Q178.936 465.874 178.936 473.003 Q178.936 480.11 180.741 483.674 Q182.57 487.216 186.181 487.216 Q189.815 487.216 191.621 483.674 Q193.45 480.11 193.45 473.003 Q193.45 465.874 191.621 462.332 Q189.815 458.767 186.181 458.767 M186.181 455.063 Q191.991 455.063 195.047 459.67 Q198.125 464.253 198.125 473.003 Q198.125 481.73 195.047 486.336 Q191.991 490.92 186.181 490.92 Q180.371 490.92 177.292 486.336 Q174.237 481.73 174.237 473.003 Q174.237 464.253 177.292 459.67 Q180.371 455.063 186.181 455.063 Z\" fill=\"#000000\" fill-rule=\"evenodd\" fill-opacity=\"1\" /><path clip-path=\"url(#clip810)\" d=\"M119.885 179.733 L136.204 179.733 L136.204 183.668 L114.26 183.668 L114.26 179.733 Q116.922 176.978 121.505 172.349 Q126.112 167.696 127.292 166.353 Q129.538 163.83 130.417 162.094 Q131.32 160.335 131.32 158.645 Q131.32 155.89 129.376 154.154 Q127.455 152.418 124.353 152.418 Q122.154 152.418 119.7 153.182 Q117.269 153.946 114.492 155.497 L114.492 150.775 Q117.316 149.64 119.769 149.062 Q122.223 148.483 124.26 148.483 Q129.63 148.483 132.825 151.168 Q136.019 153.853 136.019 158.344 Q136.019 160.474 135.209 162.395 Q134.422 164.293 132.316 166.886 Q131.737 167.557 128.635 170.774 Q125.533 173.969 119.885 179.733 Z\" fill=\"#000000\" fill-rule=\"evenodd\" fill-opacity=\"1\" /><path clip-path=\"url(#clip810)\" d=\"M156.019 152.187 Q152.408 152.187 150.579 155.751 Q148.774 159.293 148.774 166.423 Q148.774 173.529 150.579 177.094 Q152.408 180.636 156.019 180.636 Q159.653 180.636 161.459 177.094 Q163.288 173.529 163.288 166.423 Q163.288 159.293 161.459 155.751 Q159.653 152.187 156.019 152.187 M156.019 148.483 Q161.829 148.483 164.885 153.089 Q167.964 157.673 167.964 166.423 Q167.964 175.149 164.885 179.756 Q161.829 184.339 156.019 184.339 Q150.209 184.339 147.13 179.756 Q144.075 175.149 144.075 166.423 Q144.075 157.673 147.13 153.089 Q150.209 148.483 156.019 148.483 Z\" fill=\"#000000\" fill-rule=\"evenodd\" fill-opacity=\"1\" /><path clip-path=\"url(#clip810)\" d=\"M186.181 152.187 Q182.57 152.187 180.741 155.751 Q178.936 159.293 178.936 166.423 Q178.936 173.529 180.741 177.094 Q182.57 180.636 186.181 180.636 Q189.815 180.636 191.621 177.094 Q193.45 173.529 193.45 166.423 Q193.45 159.293 191.621 155.751 Q189.815 152.187 186.181 152.187 M186.181 148.483 Q191.991 148.483 195.047 153.089 Q198.125 157.673 198.125 166.423 Q198.125 175.149 195.047 179.756 Q191.991 184.339 186.181 184.339 Q180.371 184.339 177.292 179.756 Q174.237 175.149 174.237 166.423 Q174.237 157.673 177.292 153.089 Q180.371 148.483 186.181 148.483 Z\" fill=\"#000000\" fill-rule=\"evenodd\" fill-opacity=\"1\" /><path clip-path=\"url(#clip810)\" d=\"M22.818 976.838 L46.4666 985.559 L46.4666 968.085 L22.818 976.838 M16.4842 980.466 L16.4842 973.177 L64.0042 955.067 L64.0042 961.751 L51.8138 966.08 L51.8138 987.5 L64.0042 991.829 L64.0042 998.608 L16.4842 980.466 Z\" fill=\"#000000\" fill-rule=\"evenodd\" fill-opacity=\"1\" /><path clip-path=\"url(#clip810)\" d=\"M28.3562 956.404 L28.3562 950.197 L58.275 939.057 L28.3562 927.917 L28.3562 921.711 L64.0042 935.079 L64.0042 943.036 L28.3562 956.404 Z\" fill=\"#000000\" fill-rule=\"evenodd\" fill-opacity=\"1\" /><path clip-path=\"url(#clip810)\" d=\"M44.7161 883.134 L47.5806 883.134 L47.5806 910.061 Q53.6281 909.679 56.8109 906.433 Q59.9619 903.155 59.9619 897.33 Q59.9619 893.956 59.1344 890.805 Q58.3069 887.622 56.6518 884.503 L62.1899 884.503 Q63.5267 887.654 64.227 890.964 Q64.9272 894.274 64.9272 897.68 Q64.9272 906.21 59.9619 911.207 Q54.9967 916.172 46.5303 916.172 Q37.7774 916.172 32.6531 911.462 Q27.4968 906.719 27.4968 898.699 Q27.4968 891.505 32.1438 887.336 Q36.7589 883.134 44.7161 883.134 M42.9973 888.991 Q38.1912 889.055 35.3266 891.696 Q32.4621 894.306 32.4621 898.635 Q32.4621 903.537 35.2312 906.497 Q38.0002 909.425 43.0292 909.87 L42.9973 888.991 Z\" fill=\"#000000\" fill-rule=\"evenodd\" fill-opacity=\"1\" /><path clip-path=\"url(#clip810)\" d=\"M33.8307 852.865 Q33.2578 853.852 33.0032 855.03 Q32.7167 856.176 32.7167 857.576 Q32.7167 862.541 35.9632 865.215 Q39.1779 867.857 45.2253 867.857 L64.0042 867.857 L64.0042 873.745 L28.3562 873.745 L28.3562 867.857 L33.8944 867.857 Q30.6479 866.011 29.0883 863.051 Q27.4968 860.091 27.4968 855.857 Q27.4968 855.253 27.5923 854.521 Q27.656 853.789 27.8151 852.897 L33.8307 852.865 Z\" fill=\"#000000\" fill-rule=\"evenodd\" fill-opacity=\"1\" /><path clip-path=\"url(#clip810)\" d=\"M46.0847 830.522 Q46.0847 837.62 47.7079 840.357 Q49.3312 843.094 53.2461 843.094 Q56.3653 843.094 58.2114 841.057 Q60.0256 838.988 60.0256 835.455 Q60.0256 830.586 56.5881 827.657 Q53.1188 824.697 47.3897 824.697 L46.0847 824.697 L46.0847 830.522 M43.6657 818.841 L64.0042 818.841 L64.0042 824.697 L58.5933 824.697 Q61.8398 826.702 63.3994 829.694 Q64.9272 832.686 64.9272 837.015 Q64.9272 842.489 61.8716 845.736 Q58.7843 848.951 53.6281 848.951 Q47.6125 848.951 44.5569 844.94 Q41.5014 840.898 41.5014 832.909 L41.5014 824.697 L40.9285 824.697 Q36.8862 824.697 34.6901 827.371 Q32.4621 830.013 32.4621 834.819 Q32.4621 837.874 33.1941 840.771 Q33.9262 843.667 35.3903 846.341 L29.9795 846.341 Q28.7381 843.126 28.1334 840.102 Q27.4968 837.079 27.4968 834.214 Q27.4968 826.48 31.5072 822.66 Q35.5176 818.841 43.6657 818.841 Z\" fill=\"#000000\" fill-rule=\"evenodd\" fill-opacity=\"1\" /><path clip-path=\"url(#clip810)\" d=\"M45.7664 783.32 Q39.4007 783.32 35.8996 785.962 Q32.3984 788.572 32.3984 793.314 Q32.3984 798.025 35.8996 800.667 Q39.4007 803.277 45.7664 803.277 Q52.1003 803.277 55.6014 800.667 Q59.1026 798.025 59.1026 793.314 Q59.1026 788.572 55.6014 785.962 Q52.1003 783.32 45.7664 783.32 M59.58 777.464 Q68.683 777.464 73.1071 781.506 Q77.5631 785.548 77.5631 793.887 Q77.5631 796.975 77.0857 799.712 Q76.6401 802.449 75.6852 805.027 L69.9879 805.027 Q71.3884 802.449 72.0568 799.935 Q72.7252 797.42 72.7252 794.81 Q72.7252 789.049 69.7015 786.185 Q66.7096 783.32 60.6303 783.32 L57.7339 783.32 Q60.885 785.134 62.4446 787.967 Q64.0042 790.8 64.0042 794.747 Q64.0042 801.303 59.0071 805.314 Q54.01 809.324 45.7664 809.324 Q37.491 809.324 32.4939 805.314 Q27.4968 801.303 27.4968 794.747 Q27.4968 790.8 29.0564 787.967 Q30.616 785.134 33.7671 783.32 L28.3562 783.32 L28.3562 777.464 L59.58 777.464 Z\" fill=\"#000000\" fill-rule=\"evenodd\" fill-opacity=\"1\" /><path clip-path=\"url(#clip810)\" d=\"M44.7161 734.909 L47.5806 734.909 L47.5806 761.836 Q53.6281 761.454 56.8109 758.207 Q59.9619 754.929 59.9619 749.104 Q59.9619 745.731 59.1344 742.58 Q58.3069 739.397 56.6518 736.278 L62.1899 736.278 Q63.5267 739.429 64.227 742.739 Q64.9272 746.049 64.9272 749.455 Q64.9272 757.985 59.9619 762.982 Q54.9967 767.947 46.5303 767.947 Q37.7774 767.947 32.6531 763.236 Q27.4968 758.494 27.4968 750.473 Q27.4968 743.28 32.1438 739.11 Q36.7589 734.909 44.7161 734.909 M42.9973 740.765 Q38.1912 740.829 35.3266 743.471 Q32.4621 746.081 32.4621 750.409 Q32.4621 755.311 35.2312 758.271 Q38.0002 761.199 43.0292 761.645 L42.9973 740.765 Z\" fill=\"#000000\" fill-rule=\"evenodd\" fill-opacity=\"1\" /><path clip-path=\"url(#clip810)\" d=\"M41.7242 681.787 Q42.4244 679.718 44.7161 677.777 Q47.0077 675.803 51.0181 673.83 L64.0042 667.305 L64.0042 674.212 L51.8138 680.291 Q47.0395 682.646 45.48 684.874 Q43.9204 687.071 43.9204 690.89 L43.9204 697.892 L64.0042 697.892 L64.0042 704.322 L16.4842 704.322 L16.4842 689.808 Q16.4842 681.66 19.8898 677.649 Q23.2955 673.639 30.1704 673.639 Q34.6582 673.639 37.6183 675.74 Q40.5784 677.809 41.7242 681.787 M21.7677 697.892 L38.6368 697.892 L38.6368 689.808 Q38.6368 685.161 36.5043 682.806 Q34.34 680.418 30.1704 680.418 Q26.0009 680.418 23.9002 682.806 Q21.7677 685.161 21.7677 689.808 L21.7677 697.892 Z\" fill=\"#000000\" fill-rule=\"evenodd\" fill-opacity=\"1\" /><path clip-path=\"url(#clip810)\" d=\"M46.0847 644.516 Q46.0847 651.614 47.7079 654.351 Q49.3312 657.088 53.2461 657.088 Q56.3653 657.088 58.2114 655.051 Q60.0256 652.982 60.0256 649.449 Q60.0256 644.58 56.5881 641.651 Q53.1188 638.691 47.3897 638.691 L46.0847 638.691 L46.0847 644.516 M43.6657 632.835 L64.0042 632.835 L64.0042 638.691 L58.5933 638.691 Q61.8398 640.696 63.3994 643.688 Q64.9272 646.68 64.9272 651.009 Q64.9272 656.483 61.8716 659.73 Q58.7843 662.945 53.6281 662.945 Q47.6125 662.945 44.5569 658.934 Q41.5014 654.892 41.5014 646.903 L41.5014 638.691 L40.9285 638.691 Q36.8862 638.691 34.6901 641.365 Q32.4621 644.007 32.4621 648.813 Q32.4621 651.868 33.1941 654.765 Q33.9262 657.661 35.3903 660.335 L29.9795 660.335 Q28.7381 657.12 28.1334 654.096 Q27.4968 651.073 27.4968 648.208 Q27.4968 640.474 31.5072 636.654 Q35.5176 632.835 43.6657 632.835 Z\" fill=\"#000000\" fill-rule=\"evenodd\" fill-opacity=\"1\" /><path clip-path=\"url(#clip810)\" d=\"M42.4881 591.139 L64.0042 591.139 L64.0042 596.996 L42.679 596.996 Q37.6183 596.996 35.1038 598.969 Q32.5894 600.943 32.5894 604.889 Q32.5894 609.632 35.6131 612.369 Q38.6368 615.106 43.8567 615.106 L64.0042 615.106 L64.0042 620.995 L28.3562 620.995 L28.3562 615.106 L33.8944 615.106 Q30.6797 613.006 29.0883 610.173 Q27.4968 607.308 27.4968 603.584 Q27.4968 597.442 31.3163 594.29 Q35.1038 591.139 42.4881 591.139 Z\" fill=\"#000000\" fill-rule=\"evenodd\" fill-opacity=\"1\" /><path clip-path=\"url(#clip810)\" d=\"M14.479 579.681 L14.479 573.793 L43.7294 573.793 L28.3562 556.319 L28.3562 548.839 L45.0344 567.745 L64.0042 548.044 L64.0042 555.682 L46.5939 573.793 L64.0042 573.793 L64.0042 579.681 L14.479 579.681 Z\" fill=\"#000000\" fill-rule=\"evenodd\" fill-opacity=\"1\" /><path clip-path=\"url(#clip810)\" d=\"M501.671 12.096 L509.854 12.096 L509.854 36.8875 L539.588 36.8875 L539.588 12.096 L547.77 12.096 L547.77 72.576 L539.588 72.576 L539.588 43.7741 L509.854 43.7741 L509.854 72.576 L501.671 72.576 L501.671 12.096 Z\" fill=\"#000000\" fill-rule=\"evenodd\" fill-opacity=\"1\" /><path clip-path=\"url(#clip810)\" d=\"M581.312 32.4315 Q575.317 32.4315 571.833 37.1306 Q568.349 41.7891 568.349 49.9314 Q568.349 58.0738 571.792 62.7728 Q575.276 67.4314 581.312 67.4314 Q587.267 67.4314 590.751 62.7323 Q594.234 58.0333 594.234 49.9314 Q594.234 41.8701 590.751 37.1711 Q587.267 32.4315 581.312 32.4315 M581.312 26.1121 Q591.034 26.1121 596.584 32.4315 Q602.134 38.7509 602.134 49.9314 Q602.134 61.0714 596.584 67.4314 Q591.034 73.7508 581.312 73.7508 Q571.549 73.7508 566 67.4314 Q560.49 61.0714 560.49 49.9314 Q560.49 38.7509 566 32.4315 Q571.549 26.1121 581.312 26.1121 Z\" fill=\"#000000\" fill-rule=\"evenodd\" fill-opacity=\"1\" /><path clip-path=\"url(#clip810)\" d=\"M613.719 54.671 L613.719 27.2059 L621.173 27.2059 L621.173 54.3874 Q621.173 60.8284 623.684 64.0691 Q626.196 67.2693 631.219 67.2693 Q637.255 67.2693 640.739 63.421 Q644.263 59.5726 644.263 52.9291 L644.263 27.2059 L651.717 27.2059 L651.717 72.576 L644.263 72.576 L644.263 65.6084 Q641.549 69.7404 637.944 71.7658 Q634.379 73.7508 629.639 73.7508 Q621.821 73.7508 617.77 68.8897 Q613.719 64.0286 613.719 54.671 M632.475 26.1121 L632.475 26.1121 Z\" fill=\"#000000\" fill-rule=\"evenodd\" fill-opacity=\"1\" /><path clip-path=\"url(#clip810)\" d=\"M695.993 28.5427 L695.993 35.5912 Q692.833 33.9709 689.431 33.1607 Q686.028 32.3505 682.382 32.3505 Q676.832 32.3505 674.037 34.0519 Q671.283 35.7533 671.283 39.156 Q671.283 41.7486 673.267 43.2475 Q675.252 44.7058 681.248 46.0426 L683.8 46.6097 Q691.74 48.3111 695.061 51.4303 Q698.424 54.509 698.424 60.0587 Q698.424 66.3781 693.4 70.0644 Q688.418 73.7508 679.668 73.7508 Q676.022 73.7508 672.052 73.0216 Q668.123 72.3329 663.748 70.9151 L663.748 63.2184 Q667.88 65.3654 671.89 66.4591 Q675.901 67.5124 679.83 67.5124 Q685.096 67.5124 687.932 65.73 Q690.767 63.9071 690.767 60.6258 Q690.767 57.5877 688.701 55.9673 Q686.676 54.3469 679.749 52.8481 L677.156 52.2405 Q670.229 50.7821 667.151 47.7845 Q664.072 44.7463 664.072 39.4801 Q664.072 33.0797 668.609 29.5959 Q673.146 26.1121 681.491 26.1121 Q685.623 26.1121 689.269 26.7198 Q692.914 27.3274 695.993 28.5427 Z\" fill=\"#000000\" fill-rule=\"evenodd\" fill-opacity=\"1\" /><path clip-path=\"url(#clip810)\" d=\"M710.293 27.2059 L717.746 27.2059 L717.746 72.576 L710.293 72.576 L710.293 27.2059 M710.293 9.54393 L717.746 9.54393 L717.746 18.9825 L710.293 18.9825 L710.293 9.54393 Z\" fill=\"#000000\" fill-rule=\"evenodd\" fill-opacity=\"1\" /><path clip-path=\"url(#clip810)\" d=\"M771.056 45.1919 L771.056 72.576 L763.603 72.576 L763.603 45.4349 Q763.603 38.994 761.091 35.7938 Q758.58 32.5936 753.556 32.5936 Q747.521 32.5936 744.037 36.4419 Q740.553 40.2903 740.553 46.9338 L740.553 72.576 L733.059 72.576 L733.059 27.2059 L740.553 27.2059 L740.553 34.2544 Q743.227 30.163 746.832 28.1376 Q750.478 26.1121 755.217 26.1121 Q763.036 26.1121 767.046 30.9732 Q771.056 35.7938 771.056 45.1919 Z\" fill=\"#000000\" fill-rule=\"evenodd\" fill-opacity=\"1\" /><path clip-path=\"url(#clip810)\" d=\"M815.778 49.3643 Q815.778 41.2625 812.416 36.8065 Q809.094 32.3505 803.058 32.3505 Q797.063 32.3505 793.701 36.8065 Q790.379 41.2625 790.379 49.3643 Q790.379 57.4256 793.701 61.8816 Q797.063 66.3376 803.058 66.3376 Q809.094 66.3376 812.416 61.8816 Q815.778 57.4256 815.778 49.3643 M823.232 66.9452 Q823.232 78.5308 818.087 84.1616 Q812.943 89.8329 802.329 89.8329 Q798.4 89.8329 794.916 89.2252 Q791.432 88.6581 788.151 87.4428 L788.151 80.1917 Q791.432 81.9741 794.633 82.8248 Q797.833 83.6755 801.155 83.6755 Q808.487 83.6755 812.132 79.8271 Q815.778 76.0193 815.778 68.282 L815.778 64.5957 Q813.469 68.6061 809.864 70.5911 Q806.259 72.576 801.236 72.576 Q792.891 72.576 787.787 66.2161 Q782.682 59.8562 782.682 49.3643 Q782.682 38.832 787.787 32.472 Q792.891 26.1121 801.236 26.1121 Q806.259 26.1121 809.864 28.0971 Q813.469 30.082 815.778 34.0924 L815.778 27.2059 L823.232 27.2059 L823.232 66.9452 Z\" fill=\"#000000\" fill-rule=\"evenodd\" fill-opacity=\"1\" /><path clip-path=\"url(#clip810)\" d=\"M897.607 28.9478 L897.607 35.9153 Q894.447 34.1734 891.247 33.3227 Q888.087 32.4315 884.846 32.4315 Q877.595 32.4315 873.585 37.0496 Q869.574 41.6271 869.574 49.9314 Q869.574 58.2358 873.585 62.8538 Q877.595 67.4314 884.846 67.4314 Q888.087 67.4314 891.247 66.5807 Q894.447 65.6895 897.607 63.9476 L897.607 70.8341 Q894.487 72.2924 891.125 73.0216 Q887.803 73.7508 884.036 73.7508 Q873.787 73.7508 867.751 67.3098 Q861.716 60.8689 861.716 49.9314 Q861.716 38.832 867.792 32.472 Q873.909 26.1121 884.522 26.1121 Q887.965 26.1121 891.247 26.8413 Q894.528 27.5299 897.607 28.9478 Z\" fill=\"#000000\" fill-rule=\"evenodd\" fill-opacity=\"1\" /><path clip-path=\"url(#clip810)\" d=\"M931.189 49.7694 Q922.155 49.7694 918.671 51.8354 Q915.187 53.9013 915.187 58.8839 Q915.187 62.8538 917.78 65.2034 Q920.413 67.5124 924.91 67.5124 Q931.108 67.5124 934.834 63.1374 Q938.602 58.7219 938.602 51.4303 L938.602 49.7694 L931.189 49.7694 M946.055 46.6907 L946.055 72.576 L938.602 72.576 L938.602 65.6895 Q936.05 69.8214 932.242 71.8063 Q928.434 73.7508 922.925 73.7508 Q915.957 73.7508 911.825 69.8619 Q907.734 65.9325 907.734 59.3701 Q907.734 51.7138 912.838 47.825 Q917.983 43.9361 928.15 43.9361 L938.602 43.9361 L938.602 43.2069 Q938.602 38.0623 935.199 35.2672 Q931.837 32.4315 925.72 32.4315 Q921.831 32.4315 918.145 33.3632 Q914.458 34.295 911.056 36.1584 L911.056 29.2718 Q915.147 27.692 918.995 26.9223 Q922.844 26.1121 926.49 26.1121 Q936.333 26.1121 941.194 31.2163 Q946.055 36.3204 946.055 46.6907 Z\" fill=\"#000000\" fill-rule=\"evenodd\" fill-opacity=\"1\" /><path clip-path=\"url(#clip810)\" d=\"M968.619 65.7705 L968.619 89.8329 L961.125 89.8329 L961.125 27.2059 L968.619 27.2059 L968.619 34.0924 Q970.968 30.0415 974.533 28.0971 Q978.139 26.1121 983.121 26.1121 Q991.385 26.1121 996.53 32.6746 Q1001.71 39.2371 1001.71 49.9314 Q1001.71 60.6258 996.53 67.1883 Q991.385 73.7508 983.121 73.7508 Q978.139 73.7508 974.533 71.8063 Q970.968 69.8214 968.619 65.7705 M993.978 49.9314 Q993.978 41.7081 990.575 37.0496 Q987.213 32.3505 981.298 32.3505 Q975.384 32.3505 971.981 37.0496 Q968.619 41.7081 968.619 49.9314 Q968.619 58.1548 971.981 62.8538 Q975.384 67.5124 981.298 67.5124 Q987.213 67.5124 990.575 62.8538 Q993.978 58.1548 993.978 49.9314 Z\" fill=\"#000000\" fill-rule=\"evenodd\" fill-opacity=\"1\" /><path clip-path=\"url(#clip810)\" d=\"M1034.69 49.7694 Q1025.66 49.7694 1022.17 51.8354 Q1018.69 53.9013 1018.69 58.8839 Q1018.69 62.8538 1021.28 65.2034 Q1023.91 67.5124 1028.41 67.5124 Q1034.61 67.5124 1038.33 63.1374 Q1042.1 58.7219 1042.1 51.4303 L1042.1 49.7694 L1034.69 49.7694 M1049.56 46.6907 L1049.56 72.576 L1042.1 72.576 L1042.1 65.6895 Q1039.55 69.8214 1035.74 71.8063 Q1031.93 73.7508 1026.43 73.7508 Q1019.46 73.7508 1015.33 69.8619 Q1011.23 65.9325 1011.23 59.3701 Q1011.23 51.7138 1016.34 47.825 Q1021.48 43.9361 1031.65 43.9361 L1042.1 43.9361 L1042.1 43.2069 Q1042.1 38.0623 1038.7 35.2672 Q1035.34 32.4315 1029.22 32.4315 Q1025.33 32.4315 1021.65 33.3632 Q1017.96 34.295 1014.56 36.1584 L1014.56 29.2718 Q1018.65 27.692 1022.5 26.9223 Q1026.34 26.1121 1029.99 26.1121 Q1039.83 26.1121 1044.69 31.2163 Q1049.56 36.3204 1049.56 46.6907 Z\" fill=\"#000000\" fill-rule=\"evenodd\" fill-opacity=\"1\" /><path clip-path=\"url(#clip810)\" d=\"M1097.56 28.9478 L1097.56 35.9153 Q1094.4 34.1734 1091.2 33.3227 Q1088.04 32.4315 1084.8 32.4315 Q1077.55 32.4315 1073.54 37.0496 Q1069.53 41.6271 1069.53 49.9314 Q1069.53 58.2358 1073.54 62.8538 Q1077.55 67.4314 1084.8 67.4314 Q1088.04 67.4314 1091.2 66.5807 Q1094.4 65.6895 1097.56 63.9476 L1097.56 70.8341 Q1094.44 72.2924 1091.08 73.0216 Q1087.76 73.7508 1083.99 73.7508 Q1073.74 73.7508 1067.7 67.3098 Q1061.67 60.8689 1061.67 49.9314 Q1061.67 38.832 1067.74 32.472 Q1073.86 26.1121 1084.47 26.1121 Q1087.92 26.1121 1091.2 26.8413 Q1094.48 27.5299 1097.56 28.9478 Z\" fill=\"#000000\" fill-rule=\"evenodd\" fill-opacity=\"1\" /><path clip-path=\"url(#clip810)\" d=\"M1110.52 27.2059 L1117.98 27.2059 L1117.98 72.576 L1110.52 72.576 L1110.52 27.2059 M1110.52 9.54393 L1117.98 9.54393 L1117.98 18.9825 L1110.52 18.9825 L1110.52 9.54393 Z\" fill=\"#000000\" fill-rule=\"evenodd\" fill-opacity=\"1\" /><path clip-path=\"url(#clip810)\" d=\"M1140.94 14.324 L1140.94 27.2059 L1156.3 27.2059 L1156.3 32.9987 L1140.94 32.9987 L1140.94 57.6282 Q1140.94 63.1779 1142.44 64.7578 Q1143.98 66.3376 1148.64 66.3376 L1156.3 66.3376 L1156.3 72.576 L1148.64 72.576 Q1140.01 72.576 1136.73 69.3758 Q1133.45 66.1351 1133.45 57.6282 L1133.45 32.9987 L1127.98 32.9987 L1127.98 27.2059 L1133.45 27.2059 L1133.45 14.324 L1140.94 14.324 Z\" fill=\"#000000\" fill-rule=\"evenodd\" fill-opacity=\"1\" /><path clip-path=\"url(#clip810)\" d=\"M1184.98 76.7889 Q1181.82 84.8907 1178.82 87.3618 Q1175.82 89.8329 1170.8 89.8329 L1164.84 89.8329 L1164.84 83.5945 L1169.22 83.5945 Q1172.3 83.5945 1174 82.1361 Q1175.7 80.6778 1177.77 75.2496 L1179.1 71.8468 L1160.75 27.2059 L1168.65 27.2059 L1182.83 62.6918 L1197.01 27.2059 L1204.91 27.2059 L1184.98 76.7889 Z\" fill=\"#000000\" fill-rule=\"evenodd\" fill-opacity=\"1\" /><path clip-path=\"url(#clip810)\" d=\"M1236.22 27.2059 L1244.12 27.2059 L1258.3 65.2844 L1272.48 27.2059 L1280.38 27.2059 L1263.36 72.576 L1253.24 72.576 L1236.22 27.2059 Z\" fill=\"#000000\" fill-rule=\"evenodd\" fill-opacity=\"1\" /><path clip-path=\"url(#clip810)\" d=\"M1319.59 28.5427 L1319.59 35.5912 Q1316.43 33.9709 1313.03 33.1607 Q1309.62 32.3505 1305.98 32.3505 Q1300.43 32.3505 1297.63 34.0519 Q1294.88 35.7533 1294.88 39.156 Q1294.88 41.7486 1296.86 43.2475 Q1298.85 44.7058 1304.84 46.0426 L1307.4 46.6097 Q1315.34 48.3111 1318.66 51.4303 Q1322.02 54.509 1322.02 60.0587 Q1322.02 66.3781 1317 70.0644 Q1312.01 73.7508 1303.26 73.7508 Q1299.62 73.7508 1295.65 73.0216 Q1291.72 72.3329 1287.34 70.9151 L1287.34 63.2184 Q1291.48 65.3654 1295.49 66.4591 Q1299.5 67.5124 1303.43 67.5124 Q1308.69 67.5124 1311.53 65.73 Q1314.36 63.9071 1314.36 60.6258 Q1314.36 57.5877 1312.3 55.9673 Q1310.27 54.3469 1303.35 52.8481 L1300.75 52.2405 Q1293.83 50.7821 1290.75 47.7845 Q1287.67 44.7463 1287.67 39.4801 Q1287.67 33.0797 1292.21 29.5959 Q1296.74 26.1121 1305.09 26.1121 Q1309.22 26.1121 1312.86 26.7198 Q1316.51 27.3274 1319.59 28.5427 Z\" fill=\"#000000\" fill-rule=\"evenodd\" fill-opacity=\"1\" /><path clip-path=\"url(#clip810)\" d=\"M1359.65 12.096 L1367.88 12.096 L1367.88 48.8377 Q1367.88 58.5599 1371.4 62.8538 Q1374.92 67.1073 1382.82 67.1073 Q1390.68 67.1073 1394.21 62.8538 Q1397.73 58.5599 1397.73 48.8377 L1397.73 12.096 L1405.95 12.096 L1405.95 49.8504 Q1405.95 61.6791 1400.08 67.7149 Q1394.25 73.7508 1382.82 73.7508 Q1371.36 73.7508 1365.49 67.7149 Q1359.65 61.6791 1359.65 49.8504 L1359.65 12.096 Z\" fill=\"#000000\" fill-rule=\"evenodd\" fill-opacity=\"1\" /><path clip-path=\"url(#clip810)\" d=\"M1428.36 14.324 L1428.36 27.2059 L1443.71 27.2059 L1443.71 32.9987 L1428.36 32.9987 L1428.36 57.6282 Q1428.36 63.1779 1429.85 64.7578 Q1431.39 66.3376 1436.05 66.3376 L1443.71 66.3376 L1443.71 72.576 L1436.05 72.576 Q1427.42 72.576 1424.14 69.3758 Q1420.86 66.1351 1420.86 57.6282 L1420.86 32.9987 L1415.39 32.9987 L1415.39 27.2059 L1420.86 27.2059 L1420.86 14.324 L1428.36 14.324 Z\" fill=\"#000000\" fill-rule=\"evenodd\" fill-opacity=\"1\" /><path clip-path=\"url(#clip810)\" d=\"M1453.51 27.2059 L1460.97 27.2059 L1460.97 72.576 L1453.51 72.576 L1453.51 27.2059 M1453.51 9.54393 L1460.97 9.54393 L1460.97 18.9825 L1453.51 18.9825 L1453.51 9.54393 Z\" fill=\"#000000\" fill-rule=\"evenodd\" fill-opacity=\"1\" /><path clip-path=\"url(#clip810)\" d=\"M1476.56 9.54393 L1484.02 9.54393 L1484.02 72.576 L1476.56 72.576 L1476.56 9.54393 Z\" fill=\"#000000\" fill-rule=\"evenodd\" fill-opacity=\"1\" /><path clip-path=\"url(#clip810)\" d=\"M1499.61 27.2059 L1507.07 27.2059 L1507.07 72.576 L1499.61 72.576 L1499.61 27.2059 M1499.61 9.54393 L1507.07 9.54393 L1507.07 18.9825 L1499.61 18.9825 L1499.61 9.54393 Z\" fill=\"#000000\" fill-rule=\"evenodd\" fill-opacity=\"1\" /><path clip-path=\"url(#clip810)\" d=\"M1530.03 14.324 L1530.03 27.2059 L1545.39 27.2059 L1545.39 32.9987 L1530.03 32.9987 L1530.03 57.6282 Q1530.03 63.1779 1531.53 64.7578 Q1533.07 66.3376 1537.73 66.3376 L1545.39 66.3376 L1545.39 72.576 L1537.73 72.576 Q1529.1 72.576 1525.82 69.3758 Q1522.54 66.1351 1522.54 57.6282 L1522.54 32.9987 L1517.07 32.9987 L1517.07 27.2059 L1522.54 27.2059 L1522.54 14.324 L1530.03 14.324 Z\" fill=\"#000000\" fill-rule=\"evenodd\" fill-opacity=\"1\" /><path clip-path=\"url(#clip810)\" d=\"M1574.07 76.7889 Q1570.91 84.8907 1567.91 87.3618 Q1564.91 89.8329 1559.89 89.8329 L1553.93 89.8329 L1553.93 83.5945 L1558.31 83.5945 Q1561.39 83.5945 1563.09 82.1361 Q1564.79 80.6778 1566.86 75.2496 L1568.19 71.8468 L1549.84 27.2059 L1557.74 27.2059 L1571.92 62.6918 L1586.1 27.2059 L1594 27.2059 L1574.07 76.7889 Z\" fill=\"#000000\" fill-rule=\"evenodd\" fill-opacity=\"1\" /><path clip-path=\"url(#clip810)\" d=\"M1622.19 9.62495 Q1616.76 18.942 1614.13 28.0566 Q1611.5 37.1711 1611.5 46.5287 Q1611.5 55.8863 1614.13 65.0818 Q1616.8 74.2369 1622.19 83.5134 L1615.71 83.5134 Q1609.63 73.9938 1606.6 64.7983 Q1603.6 55.6027 1603.6 46.5287 Q1603.6 37.4952 1606.6 28.3401 Q1609.59 19.1851 1615.71 9.62495 L1622.19 9.62495 Z\" fill=\"#000000\" fill-rule=\"evenodd\" fill-opacity=\"1\" /><path clip-path=\"url(#clip810)\" d=\"M1645.16 18.8205 L1645.16 41.5461 L1655.45 41.5461 Q1661.16 41.5461 1664.28 38.5889 Q1667.4 35.6318 1667.4 30.163 Q1667.4 24.7348 1664.28 21.7777 Q1661.16 18.8205 1655.45 18.8205 L1645.16 18.8205 M1636.98 12.096 L1655.45 12.096 Q1665.62 12.096 1670.8 16.714 Q1676.03 21.2916 1676.03 30.163 Q1676.03 39.1155 1670.8 43.6931 Q1665.62 48.2706 1655.45 48.2706 L1645.16 48.2706 L1645.16 72.576 L1636.98 72.576 L1636.98 12.096 Z\" fill=\"#000000\" fill-rule=\"evenodd\" fill-opacity=\"1\" /><path clip-path=\"url(#clip810)\" d=\"M1701.31 32.4315 Q1695.31 32.4315 1691.83 37.1306 Q1688.34 41.7891 1688.34 49.9314 Q1688.34 58.0738 1691.79 62.7728 Q1695.27 67.4314 1701.31 67.4314 Q1707.26 67.4314 1710.74 62.7323 Q1714.23 58.0333 1714.23 49.9314 Q1714.23 41.8701 1710.74 37.1711 Q1707.26 32.4315 1701.31 32.4315 M1701.31 26.1121 Q1711.03 26.1121 1716.58 32.4315 Q1722.13 38.7509 1722.13 49.9314 Q1722.13 61.0714 1716.58 67.4314 Q1711.03 73.7508 1701.31 73.7508 Q1691.54 73.7508 1685.99 67.4314 Q1680.48 61.0714 1680.48 49.9314 Q1680.48 38.7509 1685.99 32.4315 Q1691.54 26.1121 1701.31 26.1121 Z\" fill=\"#000000\" fill-rule=\"evenodd\" fill-opacity=\"1\" /><path clip-path=\"url(#clip810)\" d=\"M1741.69 65.7705 L1741.69 89.8329 L1734.2 89.8329 L1734.2 27.2059 L1741.69 27.2059 L1741.69 34.0924 Q1744.04 30.0415 1747.61 28.0971 Q1751.21 26.1121 1756.2 26.1121 Q1764.46 26.1121 1769.6 32.6746 Q1774.79 39.2371 1774.79 49.9314 Q1774.79 60.6258 1769.6 67.1883 Q1764.46 73.7508 1756.2 73.7508 Q1751.21 73.7508 1747.61 71.8063 Q1744.04 69.8214 1741.69 65.7705 M1767.05 49.9314 Q1767.05 41.7081 1763.65 37.0496 Q1760.29 32.3505 1754.37 32.3505 Q1748.46 32.3505 1745.06 37.0496 Q1741.69 41.7081 1741.69 49.9314 Q1741.69 58.1548 1745.06 62.8538 Q1748.46 67.5124 1754.37 67.5124 Q1760.29 67.5124 1763.65 62.8538 Q1767.05 58.1548 1767.05 49.9314 Z\" fill=\"#000000\" fill-rule=\"evenodd\" fill-opacity=\"1\" /><path clip-path=\"url(#clip810)\" d=\"M1788.12 34.9026 L1840.05 34.9026 L1840.05 41.7081 L1788.12 41.7081 L1788.12 34.9026 M1788.12 51.4303 L1840.05 51.4303 L1840.05 58.3168 L1788.12 58.3168 L1788.12 51.4303 Z\" fill=\"#000000\" fill-rule=\"evenodd\" fill-opacity=\"1\" /><path clip-path=\"url(#clip810)\" d=\"M1857.79 12.096 L1889.92 12.096 L1889.92 18.9825 L1865.29 18.9825 L1865.29 33.8088 Q1867.07 33.2012 1868.85 32.9176 Q1870.63 32.5936 1872.42 32.5936 Q1882.54 32.5936 1888.46 38.1433 Q1894.37 43.6931 1894.37 53.1722 Q1894.37 62.9348 1888.3 68.3631 Q1882.22 73.7508 1871.16 73.7508 Q1867.35 73.7508 1863.38 73.1026 Q1859.45 72.4545 1855.24 71.1582 L1855.24 62.9348 Q1858.89 64.9198 1862.78 65.892 Q1866.66 66.8642 1871 66.8642 Q1878.01 66.8642 1882.1 63.1779 Q1886.19 59.4916 1886.19 53.1722 Q1886.19 46.8528 1882.1 43.1664 Q1878.01 39.4801 1871 39.4801 Q1867.72 39.4801 1864.44 40.2093 Q1861.2 40.9384 1857.79 42.4778 L1857.79 12.096 Z\" fill=\"#000000\" fill-rule=\"evenodd\" fill-opacity=\"1\" /><path clip-path=\"url(#clip810)\" d=\"M1927.99 17.4837 Q1921.68 17.4837 1918.47 23.7221 Q1915.32 29.92 1915.32 42.3968 Q1915.32 54.833 1918.47 61.0714 Q1921.68 67.2693 1927.99 67.2693 Q1934.35 67.2693 1937.51 61.0714 Q1940.71 54.833 1940.71 42.3968 Q1940.71 29.92 1937.51 23.7221 Q1934.35 17.4837 1927.99 17.4837 M1927.99 11.0023 Q1938.16 11.0023 1943.51 19.0636 Q1948.9 27.0843 1948.9 42.3968 Q1948.9 57.6687 1943.51 65.73 Q1938.16 73.7508 1927.99 73.7508 Q1917.83 73.7508 1912.44 65.73 Q1907.09 57.6687 1907.09 42.3968 Q1907.09 27.0843 1912.44 19.0636 Q1917.83 11.0023 1927.99 11.0023 Z\" fill=\"#000000\" fill-rule=\"evenodd\" fill-opacity=\"1\" /><path clip-path=\"url(#clip810)\" d=\"M1980.78 17.4837 Q1974.46 17.4837 1971.26 23.7221 Q1968.1 29.92 1968.1 42.3968 Q1968.1 54.833 1971.26 61.0714 Q1974.46 67.2693 1980.78 67.2693 Q1987.14 67.2693 1990.3 61.0714 Q1993.5 54.833 1993.5 42.3968 Q1993.5 29.92 1990.3 23.7221 Q1987.14 17.4837 1980.78 17.4837 M1980.78 11.0023 Q1990.95 11.0023 1996.29 19.0636 Q2001.68 27.0843 2001.68 42.3968 Q2001.68 57.6687 1996.29 65.73 Q1990.95 73.7508 1980.78 73.7508 Q1970.61 73.7508 1965.22 65.73 Q1959.88 57.6687 1959.88 42.3968 Q1959.88 27.0843 1965.22 19.0636 Q1970.61 11.0023 1980.78 11.0023 Z\" fill=\"#000000\" fill-rule=\"evenodd\" fill-opacity=\"1\" /><path clip-path=\"url(#clip810)\" d=\"M2033.56 17.4837 Q2027.24 17.4837 2024.04 23.7221 Q2020.88 29.92 2020.88 42.3968 Q2020.88 54.833 2024.04 61.0714 Q2027.24 67.2693 2033.56 67.2693 Q2039.92 67.2693 2043.08 61.0714 Q2046.28 54.833 2046.28 42.3968 Q2046.28 29.92 2043.08 23.7221 Q2039.92 17.4837 2033.56 17.4837 M2033.56 11.0023 Q2043.73 11.0023 2049.08 19.0636 Q2054.46 27.0843 2054.46 42.3968 Q2054.46 57.6687 2049.08 65.73 Q2043.73 73.7508 2033.56 73.7508 Q2023.39 73.7508 2018.01 65.73 Q2012.66 57.6687 2012.66 42.3968 Q2012.66 27.0843 2018.01 19.0636 Q2023.39 11.0023 2033.56 11.0023 Z\" fill=\"#000000\" fill-rule=\"evenodd\" fill-opacity=\"1\" /><path clip-path=\"url(#clip810)\" d=\"M2066.62 9.62495 L2073.1 9.62495 Q2079.17 19.1851 2082.17 28.3401 Q2085.21 37.4952 2085.21 46.5287 Q2085.21 55.6027 2082.17 64.7983 Q2079.17 73.9938 2073.1 83.5134 L2066.62 83.5134 Q2072 74.2369 2074.64 65.0818 Q2077.31 55.8863 2077.31 46.5287 Q2077.31 37.1711 2074.64 28.0566 Q2072 18.942 2066.62 9.62495 Z\" fill=\"#000000\" fill-rule=\"evenodd\" fill-opacity=\"1\" /><polyline clip-path=\"url(#clip812)\" style=\"stroke:#009af9; stroke-linecap:round; stroke-linejoin:round; stroke-width:4; stroke-opacity:1; fill:none\" points=\"\n",
       "  2292.79,1386.4 2282.75,1386.36 2272.71,1386.31 2262.66,1386.29 2252.62,1386.21 2242.58,1386.21 2232.53,1386.16 2222.49,1386.11 2212.44,1386.06 2202.4,1386 \n",
       "  2192.36,1385.99 2182.31,1385.92 2172.27,1385.87 2162.23,1385.78 2152.18,1385.75 2142.14,1385.67 2132.09,1385.58 2122.05,1385.52 2112.01,1385.48 2101.96,1385.39 \n",
       "  2091.92,1385.33 2081.88,1385.29 2071.83,1385.21 2061.79,1385.11 2051.74,1385.01 2041.7,1384.92 2031.66,1384.8 2021.61,1384.54 2011.57,1384.41 2001.53,1384.27 \n",
       "  1991.48,1384 1981.44,1383.69 1971.39,1382.98 1961.35,1175.02 1951.31,1132.36 1941.26,1088.55 1931.22,1076.05 1921.18,1048.39 1911.13,1036.37 1901.09,1016.46 \n",
       "  1891.04,1006.99 1881,988.535 1870.96,991.112 1860.91,962.151 1850.87,968.578 1840.83,951.549 1830.78,944.667 1820.74,932.572 1810.69,923.644 1800.65,911.045 \n",
       "  1790.61,893.272 1780.56,895.798 1770.52,892.097 1760.48,886.099 1750.43,866.63 1740.39,850.369 1730.34,854.878 1720.3,836.902 1710.26,835.972 1700.21,828.913 \n",
       "  1690.17,820.094 1680.13,804.523 1670.08,812.566 1660.04,801.736 1649.99,790.64 1639.95,789.454 1629.91,782.461 1619.86,775.588 1609.82,767.925 1599.78,758.174 \n",
       "  1589.73,742.608 1579.69,729.677 1569.64,731.894 1559.6,739.854 1549.56,718.636 1539.51,720.592 1529.47,717.408 1519.43,706.472 1509.38,703.268 1499.34,699.481 \n",
       "  1489.29,683.804 1479.25,684.617 1469.21,673.374 1459.16,669.529 1449.12,664.473 1439.08,653.685 1429.03,660.463 1418.99,653.126 1408.94,641.991 1398.9,631.417 \n",
       "  1388.86,631.876 1378.81,628.158 1368.77,626.663 1358.73,611.306 1348.68,612.443 1338.64,605.408 1328.59,600.784 1318.55,592.735 1308.51,592.438 1298.46,582.681 \n",
       "  1288.42,587.503 1278.38,576.383 1268.33,567.225 1258.29,568.508 1248.24,557.463 1238.2,549.763 1228.16,549.764 1218.11,542.804 1208.07,532.536 1198.02,534.781 \n",
       "  1187.98,529.628 1177.94,529.434 1167.89,520.965 1157.85,514.308 1147.81,509.83 1137.76,504.166 1127.72,502.633 1117.67,494.008 1107.63,484.095 1097.59,489.074 \n",
       "  1087.54,483.778 1077.5,478.502 1067.46,479.261 1057.41,467.612 1047.37,456.122 1037.32,462.263 1027.28,458.267 1017.24,451.042 1007.19,443.966 997.15,439.892 \n",
       "  987.106,439.218 977.062,430.156 967.019,429.661 956.975,421.871 946.931,416.26 936.887,416.282 926.843,413.637 916.8,410.815 906.756,403.841 896.712,396.789 \n",
       "  886.668,392.089 876.625,385.299 866.581,384.917 856.537,382.33 846.493,379.512 836.45,373.874 826.406,371.623 816.362,357.721 806.318,356.777 796.275,360.133 \n",
       "  786.231,354.14 776.187,342.346 766.143,344.981 756.1,344.185 746.056,333.368 736.012,332.591 725.968,328.278 715.925,320.344 705.881,315.931 695.837,315.456 \n",
       "  685.793,305.254 675.75,303.834 665.706,302.023 655.662,303.008 645.618,291.732 635.574,294.215 625.531,286.588 615.487,282.153 605.443,282.859 595.399,272.01 \n",
       "  585.356,270.1 575.312,268.417 565.268,263.407 555.224,261.188 545.181,252.809 535.137,250.27 525.093,248.693 515.049,242.224 505.006,240.1 494.962,236.298 \n",
       "  484.918,232.081 474.874,225.282 464.831,223.2 454.787,220.09 444.743,217.033 434.699,214.427 424.656,209.947 414.612,202.363 404.568,201.748 394.524,197.929 \n",
       "  384.481,195.106 374.437,190.08 364.393,187.147 354.349,182.586 344.305,180.108 334.262,174.688 324.218,171.151 314.174,167.406 304.13,163.945 294.087,160.256 \n",
       "  \n",
       "  \"/>\n",
       "<polyline clip-path=\"url(#clip812)\" style=\"stroke:#e26f46; stroke-linecap:round; stroke-linejoin:round; stroke-width:4; stroke-opacity:1; fill:none\" points=\"\n",
       "  2292.79,1386.39 2282.75,1386.36 2272.71,1386.32 2262.66,1386.29 2252.62,1386.23 2242.58,1386.19 2232.53,1386.15 2222.49,1386.1 2212.44,1386.07 2202.4,1386 \n",
       "  2192.36,1386 2182.31,1385.9 2172.27,1385.84 2162.23,1385.82 2152.18,1385.72 2142.14,1385.66 2132.09,1385.64 2122.05,1385.5 2112.01,1385.5 2101.96,1385.38 \n",
       "  2091.92,1385.34 2081.88,1385.22 2071.83,1385.21 2061.79,1385.13 2051.74,1384.98 2041.7,1384.88 2031.66,1384.74 2021.61,1384.55 2011.57,1384.45 2001.53,1384.1 \n",
       "  1991.48,1384.08 1981.44,1383.58 1971.39,1382.59 1961.35,1276.82 1951.31,1251.53 1941.26,1234.9 1931.22,1220.46 1921.18,1211.09 1911.13,1195.86 1901.09,1186.19 \n",
       "  1891.04,1167.75 1881,1160.76 1870.96,1151.45 1860.91,1139.63 1850.87,1135.6 1840.83,1123.08 1830.78,1111.84 1820.74,1107.77 1810.69,1097.39 1800.65,1091.05 \n",
       "  1790.61,1080.41 1780.56,1075.06 1770.52,1065.19 1760.48,1056.42 1750.43,1045.29 1740.39,1047.64 1730.34,1030.31 1720.3,1025.11 1710.26,1021.2 1700.21,1009.63 \n",
       "  1690.17,1003.13 1680.13,999.652 1670.08,984.684 1660.04,980.671 1649.99,978.84 1639.95,965.556 1629.91,962.139 1619.86,958.399 1609.82,946.02 1599.78,938.516 \n",
       "  1589.73,933.299 1579.69,922.888 1569.64,919.449 1559.6,910.655 1549.56,906.685 1539.51,901.502 1529.47,894.161 1519.43,880.712 1509.38,877.732 1499.34,867.188 \n",
       "  1489.29,864.922 1479.25,858.39 1469.21,852.449 1459.16,844.81 1449.12,841.332 1439.08,830.495 1429.03,822.819 1418.99,819.473 1408.94,810.818 1398.9,809.055 \n",
       "  1388.86,800.815 1378.81,796.61 1368.77,788.874 1358.73,777.101 1348.68,775.104 1338.64,768.696 1328.59,762.071 1318.55,756.15 1308.51,747.049 1298.46,741.305 \n",
       "  1288.42,738.294 1278.38,730.552 1268.33,726.915 1258.29,714.876 1248.24,712.409 1238.2,706.8 1228.16,701.31 1218.11,699.325 1208.07,683.738 1198.02,682.318 \n",
       "  1187.98,673.817 1177.94,671.819 1167.89,664.671 1157.85,655.135 1147.81,647.918 1137.76,644.264 1127.72,639.174 1117.67,633.17 1107.63,626.17 1097.59,621.992 \n",
       "  1087.54,615.358 1077.5,608.121 1067.46,600.671 1057.41,595.595 1047.37,592.537 1037.32,582.962 1027.28,577.644 1017.24,573.145 1007.19,565.044 997.15,560.817 \n",
       "  987.106,556.653 977.062,548.27 967.019,543.78 956.975,536.702 946.931,531.121 936.887,524.426 926.843,519.888 916.8,510.715 906.756,509.174 896.712,501.625 \n",
       "  886.668,492.718 876.625,487.804 866.581,483.758 856.537,478.112 846.493,472.992 836.45,466.047 826.406,459.881 816.362,452.242 806.318,449.671 796.275,444.497 \n",
       "  786.231,435.78 776.187,429.189 766.143,425.883 756.1,421.746 746.056,415.664 736.012,408.818 725.968,403.105 715.925,394.809 705.881,390.901 695.837,384.178 \n",
       "  685.793,379.1 675.75,374.082 665.706,369.121 655.662,363.323 645.618,357.964 635.574,352.247 625.531,345.766 615.487,341.038 605.443,334.946 595.399,330.049 \n",
       "  585.356,323.1 575.312,317.447 565.268,311.366 555.224,305.589 545.181,298.237 535.137,295.934 525.093,288.813 515.049,282.22 505.006,278.579 494.962,271.659 \n",
       "  484.918,265.443 474.874,261.221 464.831,255.199 454.787,249.412 444.743,244.912 434.699,238.194 424.656,232.509 414.612,227.643 404.568,220.813 394.524,216.224 \n",
       "  384.481,209.531 374.437,204.801 364.393,199.862 354.349,192.91 344.305,187.284 334.262,182.902 324.218,176.393 314.174,171.564 304.13,165.637 294.087,160.256 \n",
       "  \n",
       "  \"/>\n",
       "<polyline clip-path=\"url(#clip812)\" style=\"stroke:#3da44d; stroke-linecap:round; stroke-linejoin:round; stroke-width:4; stroke-opacity:1; fill:none\" points=\"\n",
       "  2292.79,782.59 2282.75,769.064 2272.71,773.007 2262.66,773.816 2252.62,763.586 2242.58,786.468 2232.53,779.63 2222.49,777.871 2212.44,781.17 2202.4,772.056 \n",
       "  2192.36,778.814 2182.31,777.443 2172.27,769.325 2162.23,783.082 2152.18,779.621 2142.14,780.131 2132.09,780.866 2122.05,775.509 2112.01,779.02 2101.96,776.98 \n",
       "  2091.92,781.675 2081.88,773.178 2071.83,783.608 2061.79,779.158 2051.74,773.105 2041.7,780.819 2031.66,790.269 2021.61,771.518 2011.57,781.045 2001.53,777.028 \n",
       "  1991.48,770.028 1981.44,780.826 1971.39,777.085 1961.35,775.075 1951.31,775.083 1941.26,769.09 1931.22,774.201 1921.18,765.874 1911.13,754.559 1901.09,756.829 \n",
       "  1891.04,752.266 1881,739.934 1870.96,738.543 1860.91,734.597 1850.87,727.907 1840.83,737.269 1830.78,736.316 1820.74,723.393 1810.69,716.57 1800.65,715.497 \n",
       "  1790.61,713.462 1780.56,702.866 1770.52,707.401 1760.48,704.212 1750.43,693.109 1740.39,687.352 1730.34,686.173 1720.3,675.411 1710.26,682.629 1700.21,680.804 \n",
       "  1690.17,674.549 1680.13,674.514 1670.08,666.801 1660.04,660.467 1649.99,658.458 1639.95,662.634 1629.91,643.736 1619.86,644.828 1609.82,641.38 1599.78,646.157 \n",
       "  1589.73,636.403 1579.69,628.538 1569.64,633.56 1559.6,628.682 1549.56,614.355 1539.51,615.695 1529.47,615.3 1519.43,605.937 1509.38,602.078 1499.34,607.184 \n",
       "  1489.29,602.979 1479.25,594.613 1469.21,595.417 1459.16,591.316 1449.12,587.487 1439.08,580.459 1429.03,575.038 1418.99,573.772 1408.94,572.454 1398.9,566.836 \n",
       "  1388.86,560.59 1378.81,559.309 1368.77,553.912 1358.73,550.423 1348.68,543.314 1338.64,538.877 1328.59,545.654 1318.55,542.313 1308.51,532.631 1298.46,531.151 \n",
       "  1288.42,526.485 1278.38,523.894 1268.33,519.19 1258.29,512.299 1248.24,515.371 1238.2,508.269 1228.16,506.754 1218.11,492.766 1208.07,498.721 1198.02,493.302 \n",
       "  1187.98,484.489 1177.94,482.98 1167.89,480.81 1157.85,471.998 1147.81,471.77 1137.76,471.093 1127.72,467.694 1117.67,463.734 1107.63,467.91 1097.59,452.229 \n",
       "  1087.54,447.858 1077.5,448.226 1067.46,448.289 1057.41,441.091 1047.37,437.125 1037.32,430.684 1027.28,425.868 1017.24,422.76 1007.19,426.963 997.15,418.717 \n",
       "  987.106,418.365 977.062,412.306 967.019,405.853 956.975,401.888 946.931,398.339 936.887,403.966 926.843,387.17 916.8,391.597 906.756,383.608 896.712,379.464 \n",
       "  886.668,378.71 876.625,371.433 866.581,372.064 856.537,365.783 846.493,367.708 836.45,360.5 826.406,356.437 816.362,350.823 806.318,348.039 796.275,345.202 \n",
       "  786.231,347.696 776.187,336.039 766.143,330.914 756.1,328.792 746.056,318.059 736.012,325.381 725.968,319.99 715.925,319.357 705.881,311.068 695.837,307.697 \n",
       "  685.793,301.147 675.75,303.519 665.706,296.545 655.662,294.207 645.618,286.586 635.574,288.017 625.531,280.723 615.487,280.269 605.443,272.444 595.399,270.494 \n",
       "  585.356,266.478 575.312,261.954 565.268,258.139 555.224,254.602 545.181,251.284 535.137,249.577 525.093,248.271 515.049,241.601 505.006,238.795 494.962,234.722 \n",
       "  484.918,229.572 474.874,225.654 464.831,223.344 454.787,221.304 444.743,215.534 434.699,209.66 424.656,206.467 414.612,204.815 404.568,201.702 394.524,198.835 \n",
       "  384.481,193.156 374.437,188.436 364.393,184.744 354.349,181.921 344.305,180.19 334.262,176.907 324.218,171.368 314.174,167.406 304.13,164.558 294.087,160.256 \n",
       "  \n",
       "  \"/>\n",
       "<path clip-path=\"url(#clip810)\" d=\"\n",
       "M917.526 1379.86 L1340.52 1379.86 L1340.52 1172.5 L917.526 1172.5  Z\n",
       "  \" fill=\"#ffffff\" fill-rule=\"evenodd\" fill-opacity=\"1\"/>\n",
       "<polyline clip-path=\"url(#clip810)\" style=\"stroke:#000000; stroke-linecap:round; stroke-linejoin:round; stroke-width:4; stroke-opacity:1; fill:none\" points=\"\n",
       "  917.526,1379.86 1340.52,1379.86 1340.52,1172.5 917.526,1172.5 917.526,1379.86 \n",
       "  \"/>\n",
       "<polyline clip-path=\"url(#clip810)\" style=\"stroke:#009af9; stroke-linecap:round; stroke-linejoin:round; stroke-width:4; stroke-opacity:1; fill:none\" points=\"\n",
       "  941.067,1224.34 1082.31,1224.34 \n",
       "  \"/>\n",
       "<path clip-path=\"url(#clip810)\" d=\"M1105.85 1207.06 L1110.55 1207.06 L1110.55 1228.05 Q1110.55 1233.61 1112.56 1236.06 Q1114.58 1238.49 1119.09 1238.49 Q1123.58 1238.49 1125.59 1236.06 Q1127.61 1233.61 1127.61 1228.05 L1127.61 1207.06 L1132.31 1207.06 L1132.31 1228.63 Q1132.31 1235.39 1128.95 1238.84 Q1125.62 1242.29 1119.09 1242.29 Q1112.54 1242.29 1109.18 1238.84 Q1105.85 1235.39 1105.85 1228.63 L1105.85 1207.06 Z\" fill=\"#000000\" fill-rule=\"evenodd\" fill-opacity=\"1\" /><path clip-path=\"url(#clip810)\" d=\"M1145.11 1208.33 L1145.11 1215.69 L1153.88 1215.69 L1153.88 1219 L1145.11 1219 L1145.11 1233.07 Q1145.11 1236.25 1145.96 1237.15 Q1146.84 1238.05 1149.51 1238.05 L1153.88 1238.05 L1153.88 1241.62 L1149.51 1241.62 Q1144.58 1241.62 1142.7 1239.79 Q1140.83 1237.94 1140.83 1233.07 L1140.83 1219 L1137.7 1219 L1137.7 1215.69 L1140.83 1215.69 L1140.83 1208.33 L1145.11 1208.33 Z\" fill=\"#000000\" fill-rule=\"evenodd\" fill-opacity=\"1\" /><path clip-path=\"url(#clip810)\" d=\"M1159.48 1215.69 L1163.74 1215.69 L1163.74 1241.62 L1159.48 1241.62 L1159.48 1215.69 M1159.48 1205.6 L1163.74 1205.6 L1163.74 1210.99 L1159.48 1210.99 L1159.48 1205.6 Z\" fill=\"#000000\" fill-rule=\"evenodd\" fill-opacity=\"1\" /><path clip-path=\"url(#clip810)\" d=\"M1172.65 1205.6 L1176.91 1205.6 L1176.91 1241.62 L1172.65 1241.62 L1172.65 1205.6 Z\" fill=\"#000000\" fill-rule=\"evenodd\" fill-opacity=\"1\" /><path clip-path=\"url(#clip810)\" d=\"M1185.83 1215.69 L1190.08 1215.69 L1190.08 1241.62 L1185.83 1241.62 L1185.83 1215.69 M1185.83 1205.6 L1190.08 1205.6 L1190.08 1210.99 L1185.83 1210.99 L1185.83 1205.6 Z\" fill=\"#000000\" fill-rule=\"evenodd\" fill-opacity=\"1\" /><path clip-path=\"url(#clip810)\" d=\"M1203.21 1208.33 L1203.21 1215.69 L1211.98 1215.69 L1211.98 1219 L1203.21 1219 L1203.21 1233.07 Q1203.21 1236.25 1204.07 1237.15 Q1204.95 1238.05 1207.61 1238.05 L1211.98 1238.05 L1211.98 1241.62 L1207.61 1241.62 Q1202.68 1241.62 1200.8 1239.79 Q1198.93 1237.94 1198.93 1233.07 L1198.93 1219 L1195.8 1219 L1195.8 1215.69 L1198.93 1215.69 L1198.93 1208.33 L1203.21 1208.33 Z\" fill=\"#000000\" fill-rule=\"evenodd\" fill-opacity=\"1\" /><path clip-path=\"url(#clip810)\" d=\"M1228.37 1244.02 Q1226.57 1248.65 1224.85 1250.07 Q1223.14 1251.48 1220.27 1251.48 L1216.87 1251.48 L1216.87 1247.91 L1219.37 1247.91 Q1221.13 1247.91 1222.1 1247.08 Q1223.07 1246.25 1224.25 1243.14 L1225.02 1241.2 L1214.53 1215.69 L1219.04 1215.69 L1227.14 1235.97 L1235.25 1215.69 L1239.76 1215.69 L1228.37 1244.02 Z\" fill=\"#000000\" fill-rule=\"evenodd\" fill-opacity=\"1\" /><polyline clip-path=\"url(#clip810)\" style=\"stroke:#e26f46; stroke-linecap:round; stroke-linejoin:round; stroke-width:4; stroke-opacity:1; fill:none\" points=\"\n",
       "  941.067,1276.18 1082.31,1276.18 \n",
       "  \"/>\n",
       "<path clip-path=\"url(#clip810)\" d=\"M1110.52 1262.74 L1110.52 1275.72 L1116.4 1275.72 Q1119.67 1275.72 1121.45 1274.04 Q1123.23 1272.35 1123.23 1269.22 Q1123.23 1266.12 1121.45 1264.43 Q1119.67 1262.74 1116.4 1262.74 L1110.52 1262.74 M1105.85 1258.9 L1116.4 1258.9 Q1122.21 1258.9 1125.18 1261.54 Q1128.16 1264.15 1128.16 1269.22 Q1128.16 1274.34 1125.18 1276.95 Q1122.21 1279.57 1116.4 1279.57 L1110.52 1279.57 L1110.52 1293.46 L1105.85 1293.46 L1105.85 1258.9 Z\" fill=\"#000000\" fill-rule=\"evenodd\" fill-opacity=\"1\" /><path clip-path=\"url(#clip810)\" d=\"M1133.21 1267.53 L1137.47 1267.53 L1137.47 1293.46 L1133.21 1293.46 L1133.21 1267.53 M1133.21 1257.44 L1137.47 1257.44 L1137.47 1262.83 L1133.21 1262.83 L1133.21 1257.44 Z\" fill=\"#000000\" fill-rule=\"evenodd\" fill-opacity=\"1\" /><path clip-path=\"url(#clip810)\" d=\"M1165.04 1268.53 L1165.04 1272.51 Q1163.23 1271.51 1161.4 1271.03 Q1159.6 1270.52 1157.75 1270.52 Q1153.6 1270.52 1151.31 1273.16 Q1149.02 1275.77 1149.02 1280.52 Q1149.02 1285.26 1151.31 1287.9 Q1153.6 1290.52 1157.75 1290.52 Q1159.6 1290.52 1161.4 1290.03 Q1163.23 1289.52 1165.04 1288.53 L1165.04 1292.46 Q1163.26 1293.29 1161.33 1293.71 Q1159.44 1294.13 1157.28 1294.13 Q1151.43 1294.13 1147.98 1290.45 Q1144.53 1286.77 1144.53 1280.52 Q1144.53 1274.17 1148 1270.54 Q1151.5 1266.91 1157.56 1266.91 Q1159.53 1266.91 1161.4 1267.32 Q1163.28 1267.72 1165.04 1268.53 Z\" fill=\"#000000\" fill-rule=\"evenodd\" fill-opacity=\"1\" /><path clip-path=\"url(#clip810)\" d=\"M1172.28 1257.44 L1176.57 1257.44 L1176.57 1278.71 L1189.27 1267.53 L1194.71 1267.53 L1180.96 1279.66 L1195.29 1293.46 L1189.74 1293.46 L1176.57 1280.79 L1176.57 1293.46 L1172.28 1293.46 L1172.28 1257.44 Z\" fill=\"#000000\" fill-rule=\"evenodd\" fill-opacity=\"1\" /><path clip-path=\"url(#clip810)\" d=\"M1209 1295.86 Q1207.19 1300.49 1205.48 1301.91 Q1203.77 1303.32 1200.89 1303.32 L1197.49 1303.32 L1197.49 1299.75 L1199.99 1299.75 Q1201.75 1299.75 1202.72 1298.92 Q1203.7 1298.09 1204.88 1294.98 L1205.64 1293.04 L1195.15 1267.53 L1199.67 1267.53 L1207.77 1287.81 L1215.87 1267.53 L1220.39 1267.53 L1209 1295.86 Z\" fill=\"#000000\" fill-rule=\"evenodd\" fill-opacity=\"1\" /><polyline clip-path=\"url(#clip810)\" style=\"stroke:#3da44d; stroke-linecap:round; stroke-linejoin:round; stroke-width:4; stroke-opacity:1; fill:none\" points=\"\n",
       "  941.067,1328.02 1082.31,1328.02 \n",
       "  \"/>\n",
       "<path clip-path=\"url(#clip810)\" d=\"M1122.24 1329.09 Q1123.74 1329.6 1125.15 1331.27 Q1126.59 1332.94 1128.02 1335.85 L1132.77 1345.3 L1127.75 1345.3 L1123.33 1336.43 Q1121.61 1332.96 1119.99 1331.82 Q1118.4 1330.69 1115.62 1330.69 L1110.52 1330.69 L1110.52 1345.3 L1105.85 1345.3 L1105.85 1310.74 L1116.4 1310.74 Q1122.33 1310.74 1125.25 1313.21 Q1128.16 1315.69 1128.16 1320.69 Q1128.16 1323.95 1126.64 1326.11 Q1125.13 1328.26 1122.24 1329.09 M1110.52 1314.58 L1110.52 1326.85 L1116.4 1326.85 Q1119.78 1326.85 1121.5 1325.3 Q1123.23 1323.72 1123.23 1320.69 Q1123.23 1317.66 1121.5 1316.13 Q1119.78 1314.58 1116.4 1314.58 L1110.52 1314.58 Z\" fill=\"#000000\" fill-rule=\"evenodd\" fill-opacity=\"1\" /><path clip-path=\"url(#clip810)\" d=\"M1149.34 1332.26 Q1144.18 1332.26 1142.19 1333.44 Q1140.2 1334.63 1140.2 1337.47 Q1140.2 1339.74 1141.68 1341.08 Q1143.19 1342.4 1145.76 1342.4 Q1149.3 1342.4 1151.43 1339.9 Q1153.58 1337.38 1153.58 1333.21 L1153.58 1332.26 L1149.34 1332.26 M1157.84 1330.5 L1157.84 1345.3 L1153.58 1345.3 L1153.58 1341.36 Q1152.12 1343.72 1149.95 1344.86 Q1147.77 1345.97 1144.62 1345.97 Q1140.64 1345.97 1138.28 1343.75 Q1135.94 1341.5 1135.94 1337.75 Q1135.94 1333.38 1138.86 1331.15 Q1141.8 1328.93 1147.61 1328.93 L1153.58 1328.93 L1153.58 1328.51 Q1153.58 1325.57 1151.64 1323.98 Q1149.71 1322.36 1146.22 1322.36 Q1144 1322.36 1141.89 1322.89 Q1139.78 1323.42 1137.84 1324.49 L1137.84 1320.55 Q1140.18 1319.65 1142.38 1319.21 Q1144.58 1318.75 1146.66 1318.75 Q1152.28 1318.75 1155.06 1321.66 Q1157.84 1324.58 1157.84 1330.5 Z\" fill=\"#000000\" fill-rule=\"evenodd\" fill-opacity=\"1\" /><path clip-path=\"url(#clip810)\" d=\"M1188.16 1329.65 L1188.16 1345.3 L1183.9 1345.3 L1183.9 1329.79 Q1183.9 1326.11 1182.47 1324.28 Q1181.03 1322.45 1178.16 1322.45 Q1174.71 1322.45 1172.72 1324.65 Q1170.73 1326.85 1170.73 1330.64 L1170.73 1345.3 L1166.45 1345.3 L1166.45 1319.37 L1170.73 1319.37 L1170.73 1323.4 Q1172.26 1321.06 1174.32 1319.9 Q1176.4 1318.75 1179.11 1318.75 Q1183.58 1318.75 1185.87 1321.52 Q1188.16 1324.28 1188.16 1329.65 Z\" fill=\"#000000\" fill-rule=\"evenodd\" fill-opacity=\"1\" /><path clip-path=\"url(#clip810)\" d=\"M1213.72 1323.31 L1213.72 1309.28 L1217.98 1309.28 L1217.98 1345.3 L1213.72 1345.3 L1213.72 1341.41 Q1212.38 1343.72 1210.32 1344.86 Q1208.28 1345.97 1205.41 1345.97 Q1200.71 1345.97 1197.75 1342.22 Q1194.81 1338.47 1194.81 1332.36 Q1194.81 1326.25 1197.75 1322.5 Q1200.71 1318.75 1205.41 1318.75 Q1208.28 1318.75 1210.32 1319.88 Q1212.38 1320.99 1213.72 1323.31 M1199.21 1332.36 Q1199.21 1337.06 1201.13 1339.74 Q1203.07 1342.4 1206.45 1342.4 Q1209.83 1342.4 1211.77 1339.74 Q1213.72 1337.06 1213.72 1332.36 Q1213.72 1327.66 1211.77 1325 Q1209.83 1322.31 1206.45 1322.31 Q1203.07 1322.31 1201.13 1325 Q1199.21 1327.66 1199.21 1332.36 Z\" fill=\"#000000\" fill-rule=\"evenodd\" fill-opacity=\"1\" /><path clip-path=\"url(#clip810)\" d=\"M1236.8 1322.36 Q1233.37 1322.36 1231.38 1325.04 Q1229.39 1327.7 1229.39 1332.36 Q1229.39 1337.01 1231.36 1339.69 Q1233.35 1342.36 1236.8 1342.36 Q1240.2 1342.36 1242.19 1339.67 Q1244.18 1336.99 1244.18 1332.36 Q1244.18 1327.75 1242.19 1325.06 Q1240.2 1322.36 1236.8 1322.36 M1236.8 1318.75 Q1242.35 1318.75 1245.52 1322.36 Q1248.7 1325.97 1248.7 1332.36 Q1248.7 1338.72 1245.52 1342.36 Q1242.35 1345.97 1236.8 1345.97 Q1231.22 1345.97 1228.05 1342.36 Q1224.9 1338.72 1224.9 1332.36 Q1224.9 1325.97 1228.05 1322.36 Q1231.22 1318.75 1236.8 1318.75 Z\" fill=\"#000000\" fill-rule=\"evenodd\" fill-opacity=\"1\" /><path clip-path=\"url(#clip810)\" d=\"M1275.94 1324.35 Q1277.54 1321.48 1279.76 1320.11 Q1281.98 1318.75 1284.99 1318.75 Q1289.04 1318.75 1291.24 1321.59 Q1293.44 1324.42 1293.44 1329.65 L1293.44 1345.3 L1289.16 1345.3 L1289.16 1329.79 Q1289.16 1326.06 1287.84 1324.25 Q1286.52 1322.45 1283.81 1322.45 Q1280.5 1322.45 1278.58 1324.65 Q1276.66 1326.85 1276.66 1330.64 L1276.66 1345.3 L1272.38 1345.3 L1272.38 1329.79 Q1272.38 1326.04 1271.06 1324.25 Q1269.74 1322.45 1266.98 1322.45 Q1263.72 1322.45 1261.8 1324.67 Q1259.88 1326.87 1259.88 1330.64 L1259.88 1345.3 L1255.59 1345.3 L1255.59 1319.37 L1259.88 1319.37 L1259.88 1323.4 Q1261.33 1321.01 1263.37 1319.88 Q1265.41 1318.75 1268.21 1318.75 Q1271.03 1318.75 1273 1320.18 Q1274.99 1321.62 1275.94 1324.35 Z\" fill=\"#000000\" fill-rule=\"evenodd\" fill-opacity=\"1\" /></svg>\n"
      ]
     },
     "metadata": {},
     "output_type": "display_data"
    }
   ],
   "source": [
    "x_axis = (houses)*ones(houses) - [i for i=1:200]\n",
    "plot()\n",
    "plot(x_axis , util, label=\"Utility\", legend=:bottom)\n",
    "plot!(x_axis, util2, label=\"Picky\")\n",
    "#plot!(x_axis, usage, color=\"red\", label=\"usage rate\")\n",
    "\n",
    "plot!(x_axis, utilrand, label=\"Random\")\n",
    "\n",
    "\n",
    "title!(\"Housing capacity vs Utility(Pop=\"*string(n) *\")\")\n",
    "xlabel!(\"Housing Supply\")\n",
    "ylabel!(\"Average Rank\")\n"
   ]
  },
  {
   "cell_type": "code",
   "execution_count": null,
   "metadata": {},
   "outputs": [],
   "source": [
    "x = 3"
   ]
  },
  {
   "attachments": {},
   "cell_type": "markdown",
   "metadata": {},
   "source": [
    "In this model being selective is better for everyone. Because there are fewer applicants in each pool? "
   ]
  },
  {
   "cell_type": "code",
   "execution_count": 31,
   "metadata": {},
   "outputs": [],
   "source": [
    "caps"
   ]
  },
  {
   "cell_type": "code",
   "execution_count": 28,
   "metadata": {},
   "outputs": [],
   "source": [
    "model = Model(HiGHS.Optimizer)\n",
    "all2 = zeros(houses+1, n )\n",
    "@variable(model, 0 <= all2[1:houses+1, 1:n] <= 1 )\n",
    "#@variable(model, 0 <= all2[1:houses+1, 1:n] <= 1)\n",
    "@objective(model, Min, sum( all2 .* prefs)  )\n",
    "for i=1:n\n",
    "    @constraint(model,  sum(all2[1:houses+1, i]) == 1)\n",
    "end \n",
    "# for i=1:n \n",
    "#     @constraint(model, all2[1:houses, i]' * prefs[1:houses, i] <= prefs[all[i], i] )\n",
    "# end \n",
    "for j=1:houses\n",
    "    @constraint(model,  sum(all2[j, 1:n]) <= caps[j] )\n",
    "end \n"
   ]
  },
  {
   "cell_type": "code",
   "execution_count": 29,
   "metadata": {},
   "outputs": [
    {
     "data": {
      "text/plain": [
       "A JuMP Model\n",
       "Minimization problem with:\n",
       "Variables: 1005000\n",
       "Objective function type: AffExpr\n",
       "`AffExpr`-in-`MathOptInterface.EqualTo{Float64}`: 5000 constraints\n",
       "`AffExpr`-in-`MathOptInterface.LessThan{Float64}`: 200 constraints\n",
       "`VariableRef`-in-`MathOptInterface.GreaterThan{Float64}`: 1005000 constraints\n",
       "`VariableRef`-in-`MathOptInterface.LessThan{Float64}`: 1005000 constraints\n",
       "Model mode: AUTOMATIC\n",
       "CachingOptimizer state: EMPTY_OPTIMIZER\n",
       "Solver name: HiGHS\n",
       "Names registered in the model: all2"
      ]
     },
     "metadata": {},
     "output_type": "display_data"
    }
   ],
   "source": [
    "display(model)"
   ]
  },
  {
   "cell_type": "code",
   "execution_count": 30,
   "metadata": {},
   "outputs": [
    {
     "name": "stdout",
     "output_type": "stream",
     "text": [
      "Running HiGHS 1.5.1 [date: 1970-01-01, git hash: 93f1876e4]\n",
      "Copyright (c) 2023 HiGHS under MIT licence terms\n",
      "Presolving model\n",
      "5200 rows, 1005000 cols, 2005000 nonzeros\n",
      "5200 rows, 1005000 cols, 2005000 nonzeros\n",
      "Presolve : Reductions: rows 5200(-0); columns 1005000(-0); elements 2005000(-0) - Not reduced\n",
      "Problem not reduced by presolve: solving the LP\n",
      "Using EKK dual simplex solver - serial\n",
      "  Iteration        Objective     Infeasibilities num(sum)\n",
      "          0     0.0000000000e+00 Pr: 5000(5000) 1s\n",
      "       5043     5.0960000000e+03 Pr: 0(0) 2s\n",
      "Model   status      : Optimal\n",
      "Simplex   iterations: 5043\n",
      "Objective value     :  5.0960000000e+03\n",
      "HiGHS run time      :          2.51\n"
     ]
    }
   ],
   "source": [
    "optimize!(model)"
   ]
  },
  {
   "cell_type": "code",
   "execution_count": 7,
   "metadata": {},
   "outputs": [
    {
     "name": "stderr",
     "output_type": "stream",
     "text": [
      "\u001b[32m\u001b[1m   Resolving\u001b[22m\u001b[39m package versions...\n",
      "\u001b[32m\u001b[1m    Updating\u001b[22m\u001b[39m `~/.julia/environments/v1.9/Project.toml`\n",
      " \u001b[90m [b6b21f68] \u001b[39m\u001b[92m+ Ipopt v1.2.1\u001b[39m\n",
      "\u001b[32m\u001b[1m    Updating\u001b[22m\u001b[39m `~/.julia/environments/v1.9/Manifest.toml`\n",
      " \u001b[90m [b6b21f68] \u001b[39m\u001b[92m+ Ipopt v1.2.1\u001b[39m\n",
      " \u001b[90m [ae81ac8f] \u001b[39m\u001b[92m+ ASL_jll v0.1.3+0\u001b[39m\n",
      " \u001b[90m [9cc047cb] \u001b[39m\u001b[92m+ Ipopt_jll v300.1400.1000+0\u001b[39m\n",
      " \u001b[90m [d00139f3] \u001b[39m\u001b[92m+ METIS_jll v5.1.2+0\u001b[39m\n",
      " \u001b[90m [d7ed1dd3] \u001b[39m\u001b[92m+ MUMPS_seq_jll v500.500.101+0\u001b[39m\n",
      "\u001b[33m⌅\u001b[39m\u001b[90m [656ef2d0] \u001b[39m\u001b[92m+ OpenBLAS32_jll v0.3.17+0\u001b[39m\n",
      "\u001b[36m\u001b[1m        Info\u001b[22m\u001b[39m Packages marked with \u001b[33m⌅\u001b[39m have new versions available but compatibility constraints restrict them from upgrading. To see why use `status --outdated -m`\n",
      "\u001b[32m\u001b[1mPrecompiling\u001b[22m\u001b[39m project...\n",
      "\u001b[32m  ✓ \u001b[39m\u001b[90mOpenBLAS32_jll\u001b[39m\n",
      "\u001b[32m  ✓ \u001b[39m\u001b[90mASL_jll\u001b[39m\n",
      "\u001b[32m  ✓ \u001b[39m\u001b[90mMETIS_jll\u001b[39m\n",
      "\u001b[32m  ✓ \u001b[39m\u001b[90mMUMPS_seq_jll\u001b[39m\n",
      "\u001b[32m  ✓ \u001b[39m\u001b[90mIpopt_jll\u001b[39m\n",
      "\u001b[32m  ✓ \u001b[39mIpopt\n",
      "  6 dependencies successfully precompiled in 19 seconds. 208 already precompiled.\n"
     ]
    }
   ],
   "source": [
    "import Pkg; Pkg.add(\"Ipopt\")"
   ]
  },
  {
   "cell_type": "code",
   "execution_count": 3,
   "metadata": {},
   "outputs": [],
   "source": [
    "import Ipopt\n",
    "using Juniper"
   ]
  },
  {
   "cell_type": "code",
   "execution_count": 36,
   "metadata": {},
   "outputs": [
    {
     "data": {
      "text/plain": [
       "A JuMP Model\n",
       "Feasibility problem with:\n",
       "Variables: 0\n",
       "Model mode: AUTOMATIC\n",
       "CachingOptimizer state: EMPTY_OPTIMIZER\n",
       "Solver name: Juniper"
      ]
     },
     "metadata": {},
     "output_type": "display_data"
    }
   ],
   "source": [
    "nl_solver = optimizer_with_attributes(Ipopt.Optimizer, \"print_level\"=>0)\n",
    "minlp_solver = optimizer_with_attributes(Juniper.Optimizer, \"nl_solver\"=>nl_solver)\n",
    "m = Model(minlp_solver)"
   ]
  },
  {
   "cell_type": "code",
   "execution_count": 37,
   "metadata": {},
   "outputs": [
    {
     "data": {
      "text/latex": [
       "$$ y1 + y3 $$"
      ],
      "text/plain": [
       "y1 + y3"
      ]
     },
     "metadata": {},
     "output_type": "display_data"
    }
   ],
   "source": [
    "d = 0.01\n",
    "\n",
    "f = 1.000\n",
    "@variable(m, 0 <= p1 <= 1)\n",
    "@variable(m, 0 <= q1 <= 1)\n",
    "@variable(m, 0 <= p2 <= 1)\n",
    "@variable(m, 0 <= q2 <= 1)\n",
    "@variable(m, 0 <= p3 <= 1)\n",
    "@variable(m, 0 <= q3 <= 1)\n",
    "@variable(m, 1e-4 <= v1 )\n",
    "@variable(m, 1e-4 <= v2)\n",
    "@variable(m, 1e-4 <= v3)\n",
    "@variable(m, y12, Bin)\n",
    "@variable(m, y13, Bin)\n",
    "@variable(m, y21, Bin)\n",
    "@variable(m, y23, Bin)\n",
    "@variable(m, y31, Bin)\n",
    "@variable(m, y32, Bin)\n",
    "@variable(m, y1, Bin)\n",
    "@variable(m, y2, Bin)\n",
    "@variable(m, y3, Bin)\n",
    "@variable(m, A[1:3, 1:3])\n",
    "@constraint(m, v1 >= v2)\n",
    "@constraint(m, v2 >= v3)\n",
    "\n",
    "\n",
    "@NLconstraint(m, A[1,1] == p1*q1*(1-d)/(d+p1*q1*(1-d)))\n",
    "@NLconstraint(m, A[1,2] == p1*q2*(1-d)/(d+p1*q2*(1-d)))\n",
    "@NLconstraint(m, A[1,3] == p1*q3*(1-d)/(d+p1*q3*(1-d)))\n",
    "@NLconstraint(m, A[2,1] == p2*q1*(1-d)/(d+p2*q1*(1-d)))\n",
    "@NLconstraint(m, A[2,2] == p2*q2*(1-d)/(d+p2*q2*(1-d)))\n",
    "@NLconstraint(m, A[2,3] == p2*q3*(1-d)/(d+p2*q3*(1-d)))\n",
    "@NLconstraint(m, A[3,1] == p3*q1*(1-d)/(d+p3*q1*(1-d)))\n",
    "@NLconstraint(m, A[3,2] == p3*q2*(1-d)/(d+p3*q2*(1-d)))\n",
    "@NLconstraint(m, A[3,3] == p3*q3*(1-d)/(d+p3*q3*(1-d)))\n",
    "\n",
    "@constraint(m, q3 >= q2)\n",
    "@constraint(m, q2 >= q1)\n",
    "@constraint(m, q3 == 1)\n",
    "@NLconstraint(m, p1 == 1/(200*q1)  )\n",
    "@NLconstraint(m, p2 == 1/(200*q2)  )\n",
    "@NLconstraint(m, p3 == 1/(200*q3)  )\n",
    "\n",
    "\n",
    "\n",
    "@constraint(m, y13 >= y1)\n",
    "@constraint(m, y21 + y23 >= y2)\n",
    "@constraint(m, y31  >= y3)\n",
    "@NLconstraint(m, y12 * f * v1 * A[1,1] <= (1/q2)*(q1*v1 + (q2-q1)*v2)*A[1,2] )\n",
    "@NLconstraint(m, y13 * f * v1 * A[1,1] <= (q1*v1 + (q2-q1)*v2+(1-q2)*v3)*A[1,3] )\n",
    "@NLconstraint(m, y21 * f * (1/q2)*(q1*v1 + (q2-q1)*v2) * A[2,2] <= v1*A[2,1] )\n",
    "@NLconstraint(m, y23 * f * (1/q2)*(q1*v1 + (q2-q1)*v2) * A[2,2] <= (q1*v1+(q2-q1)*v2+(1-q2)*v3)*A[2,3] )\n",
    "@NLconstraint(m, y31 * f  * (q1*v1 + (q2-q1)*v2+(1-q2)*v3) * A[3,3] <= v1*A[3,1] )\n",
    "@NLconstraint(m, y32 * f * (q1*v1 + (q2-q1)*v2+(1-q2)*v3) * A[3,3] <= (1/q2)*(q1*v1+(q2-q1)*v2)*A[3,2] )\n",
    "\n",
    "# @NLconstraint(m, y12*q2*v1*q1*(d+p1*q2*(1-d)) <= (q1*v1+0.4*v2)*q2*(d+p1*q1*(1-d)))\n",
    "# @NLconstraint(m, y13*v1*q1*(d+p1*q3*(1-d)) <= (q1*v1+0.4*v2+0.5*v3)*q3*(d+p1*q1*(1-d)))\n",
    "\n",
    "# @NLconstraint(m, y21*(0.1*v1+0.4*v2)*q2*(d+p2*q1*(1-d)) <= (q2)*v1*q2*(d+p2*q2*(1-d)))\n",
    "# @NLconstraint(m, y23*(q1*v1+0.4*v2)*q2*(d+p2*q3*(1-d)) <= (q2)*(q1*v1+0.4*v2+0.5*v3)*q3*(d+p2*q2*(1-d)))\n",
    "\n",
    "# @NLconstraint(m, y31*(q1*v1+0.4*v2+0.5*v3)*q3*(1-d)/(d+p3*q3*(1-d)) <= v1*q1*(1-d)/(d+p3*q1*(1-d)))\n",
    "# @NLconstraint(m, y32*(q1*v1+0.4*v2+0.5*v3)*q3*(1-d)/(d+p3*q3*(1-d)) <= 2*(0.1*v1+0.4*v2)*q2*(1-d)/(d+p3*q2*(1-d)))\n",
    "\n",
    "\n",
    "@objective(m, Max, y1  +   y3)\n",
    "\n"
   ]
  },
  {
   "cell_type": "code",
   "execution_count": 38,
   "metadata": {},
   "outputs": [
    {
     "name": "stdout",
     "output_type": "stream",
     "text": [
      "nl_solver         : MathOptInterface.OptimizerWithAttributes(Ipopt.Optimizer, Pair{MathOptInterface.AbstractOptimizerAttribute, Any}[MathOptInterface.RawOptimizerAttribute(\"print_level\") => 0])\n",
      "feasibility_pump  : false\n",
      "log_levels        : [:Options, :Table, :Info]\n",
      "\n",
      "#Variables: 27\n",
      "#IntBinVar: 9\n",
      "Obj Sense: Max\n",
      "\n"
     ]
    },
    {
     "name": "stdout",
     "output_type": "stream",
     "text": [
      "Incumbent using start values: 0.0\n",
      "Status of relaxation: LOCALLY_SOLVED\n",
      "Time for relaxation: 0.15107107162475586\n",
      "Relaxation Obj: 2.000000013198438\n",
      "\n",
      " ONodes   CLevel          Incumbent                   BestBound            Gap    Time   Restarts  GainGap  \n",
      "============================================================================================================\n",
      "    2       2                0.0                         2.0              Inf%    0.6       0         -     "
     ]
    },
    {
     "name": "stdout",
     "output_type": "stream",
     "text": [
      "\n",
      "    3       3                0.0                         2.0              Inf%    0.7       -       340.6%  \n",
      "    4       4                0.0                         2.0              Inf%    0.7       -       328.7%  "
     ]
    },
    {
     "name": "stdout",
     "output_type": "stream",
     "text": [
      "\n",
      "    0       5            2.0000000123                2.0000000123         0.0%    0.8       -       64.6%   \n",
      "\n",
      "#branches: 4\n",
      "Obj: 2.0000000123488784\n"
     ]
    }
   ],
   "source": [
    "optimize!(m)"
   ]
  },
  {
   "cell_type": "code",
   "execution_count": 39,
   "metadata": {},
   "outputs": [
    {
     "data": {
      "text/plain": [
       "3-element Vector{Float64}:\n",
       " 0.005000545184161795\n",
       " 0.005000360239670896\n",
       " 0.005"
      ]
     },
     "metadata": {},
     "output_type": "display_data"
    }
   ],
   "source": [
    "ps = [value.(p1), value.(p2), value.(p3)]\n",
    "qs = [ value.(q1), value.(q2), value.(q3)]\n",
    "vals = [value.(v1), value.(v2), value(v3)]\n",
    "ps"
   ]
  },
  {
   "cell_type": "code",
   "execution_count": 40,
   "metadata": {},
   "outputs": [
    {
     "data": {
      "text/plain": [
       "3×3 Matrix{Float64}:\n",
       " 0.331104  0.331112  0.331128\n",
       " 0.331095  0.331104  0.33112\n",
       " 0.33108   0.331088  0.331104"
      ]
     },
     "metadata": {},
     "output_type": "display_data"
    }
   ],
   "source": [
    "H = zeros(3,3)\n",
    "for i=1:3 \n",
    "    for j=1:3 \n",
    "        H[i,j] = value.(A[i,j])\n",
    "    end \n",
    "end \n",
    "H"
   ]
  },
  {
   "cell_type": "code",
   "execution_count": 41,
   "metadata": {},
   "outputs": [],
   "source": []
  },
  {
   "cell_type": "code",
   "execution_count": 42,
   "metadata": {},
   "outputs": [
    {
     "data": {
      "text/plain": [
       "3×3 Matrix{Float64}:\n",
       " 4.42066e5  4.42057e5  4.42033e5\n",
       " 4.42066e5  4.42057e5  4.42033e5\n",
       " 4.42066e5  4.42057e5  4.42033e5"
      ]
     },
     "metadata": {},
     "output_type": "display_data"
    }
   ],
   "source": [
    "B = zeros(3,3)\n",
    "B[:, 1] .= vals[1]\n",
    "B[:, 2] .= (qs[1]*vals[1] + (qs[2]-qs[1])*vals[2]) / qs[2]\n",
    "B[:, 3] .= (qs[1]*vals[1] + (qs[2]-qs[1])*vals[2] + (1-qs[2])*vals[3])\n",
    "B"
   ]
  },
  {
   "cell_type": "code",
   "execution_count": 43,
   "metadata": {},
   "outputs": [
    {
     "data": {
      "text/plain": [
       "3-element Vector{Float64}:\n",
       " 442065.6733768181\n",
       " 215725.82683122985\n",
       " 110758.36583096365"
      ]
     },
     "metadata": {},
     "output_type": "display_data"
    }
   ],
   "source": [
    "vals"
   ]
  },
  {
   "cell_type": "code",
   "execution_count": 53,
   "metadata": {},
   "outputs": [
    {
     "data": {
      "text/plain": [
       "3×3 Matrix{Float64}:\n",
       " 1.4637   1.4637   1.4637\n",
       " 1.46366  1.46367  1.46366\n",
       " 1.46359  1.4636   1.46359"
      ]
     },
     "metadata": {},
     "output_type": "display_data"
    }
   ],
   "source": [
    "C =  1e-5 * H .* B"
   ]
  },
  {
   "cell_type": "code",
   "execution_count": 45,
   "metadata": {},
   "outputs": [
    {
     "data": {
      "text/latex": [
       "$$ y3 $$"
      ],
      "text/plain": [
       "y3"
      ]
     },
     "metadata": {},
     "output_type": "display_data"
    }
   ],
   "source": [
    "y3"
   ]
  },
  {
   "cell_type": "code",
   "execution_count": 46,
   "metadata": {},
   "outputs": [
    {
     "data": {
      "text/plain": [
       "(0.3311036789297659, 442033.4345436979)"
      ]
     },
     "metadata": {},
     "output_type": "display_data"
    }
   ],
   "source": [
    "x = qs[1]*vals[1] + (qs[2]-qs[1])*vals[2] + (1-qs[2])*vals[3]\n",
    "ps[3]*qs[3]*(1-d)/(d + ps[3]*qs[3]*(1-d)), x"
   ]
  },
  {
   "cell_type": "code",
   "execution_count": 47,
   "metadata": {},
   "outputs": [
    {
     "data": {
      "text/plain": [
       "0.33108772295219346"
      ]
     },
     "metadata": {},
     "output_type": "display_data"
    }
   ],
   "source": [
    "ps[3]*qs[2]*(1-d)/(d + ps[3]*qs[2]*(1-d))"
   ]
  },
  {
   "cell_type": "code",
   "execution_count": 48,
   "metadata": {},
   "outputs": [
    {
     "data": {
      "text/plain": [
       "3-element Vector{Float64}:\n",
       " 0.005000545184161795\n",
       " 0.005000360239670896\n",
       " 0.005"
      ]
     },
     "metadata": {},
     "output_type": "display_data"
    }
   ],
   "source": [
    "ps"
   ]
  },
  {
   "cell_type": "code",
   "execution_count": 49,
   "metadata": {},
   "outputs": [
    {
     "data": {
      "text/plain": [
       "6-element Vector{Float64}:\n",
       " 0.0\n",
       " 0.9999999973668797\n",
       " 0.0\n",
       " 0.0\n",
       " 0.9999999973669242\n",
       " 0.0"
      ]
     },
     "metadata": {},
     "output_type": "display_data"
    }
   ],
   "source": [
    "value.([y12, y13, y21, y23, y31, y32])"
   ]
  },
  {
   "cell_type": "code",
   "execution_count": 50,
   "metadata": {},
   "outputs": [
    {
     "ename": "UndefVarError",
     "evalue": "UndefVarError: Pr not defined",
     "output_type": "error",
     "traceback": [
      "UndefVarError: Pr not defined\n",
      "\n",
      "Stacktrace:\n",
      " [1] top-level scope\n",
      "   @ ~/F23/public/housing/project/publicHousing/sample.ipynb:1"
     ]
    }
   ],
   "source": [
    "Pr(ps[2], qs[2])\n",
    "y32 = value.(y32)\n",
    "y12 = value.(y12)\n",
    "y31 = value.(y31)\n",
    "q1 = value.(q1)\n",
    "v1 = value.(v1)\n",
    "v2 =value.(v2) \n",
    "v3 = value.(v3)\n",
    "q2 = value.(q2)\n",
    "A = value.(A)"
   ]
  },
  {
   "cell_type": "code",
   "execution_count": 51,
   "metadata": {},
   "outputs": [
    {
     "ename": "ErrorException",
     "evalue": "*(::VariableRef,::QuadExpr) is not defined. Are you trying to build a nonlinear problem? Make sure you use @NLconstraint/@NLobjective. If you are using an `@NL` macro and you encountered this error message, it is because you are attempting to use another unsupported function which calls this method internally.",
     "output_type": "error",
     "traceback": [
      "*(::VariableRef,::QuadExpr) is not defined. Are you trying to build a nonlinear problem? Make sure you use @NLconstraint/@NLobjective. If you are using an `@NL` macro and you encountered this error message, it is because you are attempting to use another unsupported function which calls this method internally.\n",
      "\n",
      "Stacktrace:\n",
      " [1] error(s::String)\n",
      "   @ Base ./error.jl:35\n",
      " [2] *(#unused#::VariableRef, #unused#::QuadExpr)\n",
      "   @ JuMP ~/.julia/packages/JuMP/pQApG/src/operators.jl:502\n",
      " [3] *(::VariableRef, ::QuadExpr, ::VariableRef)\n",
      "   @ Base ./operators.jl:591\n",
      " [4] top-level scope\n",
      "   @ ~/F23/public/housing/project/publicHousing/sample.ipynb:1"
     ]
    }
   ],
   "source": [
    "y31 * (q1*v1 + (q2-q1)*v2+(1-q2)*v3) * A[3,3] , v1*A[3,1]"
   ]
  },
  {
   "cell_type": "code",
   "execution_count": 52,
   "metadata": {},
   "outputs": [
    {
     "data": {
      "text/latex": [
       "$$ y32 $$"
      ],
      "text/plain": [
       "y32"
      ]
     },
     "metadata": {},
     "output_type": "display_data"
    }
   ],
   "source": [
    "y32"
   ]
  },
  {
   "cell_type": "code",
   "execution_count": 632,
   "metadata": {},
   "outputs": [
    {
     "data": {
      "text/plain": [
       "0.00033384645939804614"
      ]
     },
     "metadata": {},
     "output_type": "display_data"
    }
   ],
   "source": [
    "C[1,1] - C[1,2]"
   ]
  },
  {
   "cell_type": "code",
   "execution_count": 638,
   "metadata": {},
   "outputs": [
    {
     "data": {
      "text/plain": [
       "0.9999999966513687"
      ]
     },
     "metadata": {},
     "output_type": "display_data"
    }
   ],
   "source": [
    "y12"
   ]
  },
  {
   "cell_type": "code",
   "execution_count": 1,
   "metadata": {},
   "outputs": [
    {
     "ename": "UndefVarError",
     "evalue": "UndefVarError: Pr not defined",
     "output_type": "error",
     "traceback": [
      "UndefVarError: Pr not defined\n"
     ]
    }
   ],
   "source": [
    "Pr"
   ]
  },
  {
   "cell_type": "code",
   "execution_count": null,
   "metadata": {},
   "outputs": [],
   "source": []
  }
 ],
 "metadata": {
  "kernelspec": {
   "display_name": "Julia 1.8.2",
   "language": "julia",
   "name": "julia-1.8"
  },
  "language_info": {
   "file_extension": ".jl",
   "mimetype": "application/julia",
   "name": "julia",
   "version": "1.8.2"
  },
  "orig_nbformat": 4
 },
 "nbformat": 4,
 "nbformat_minor": 2
}
